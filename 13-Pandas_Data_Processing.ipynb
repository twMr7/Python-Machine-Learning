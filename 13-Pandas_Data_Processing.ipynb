{
 "cells": [
  {
   "cell_type": "markdown",
   "metadata": {},
   "source": [
    "[![Open In Colab](https://colab.research.google.com/assets/colab-badge.svg)](https://colab.research.google.com/github/twMr7/Python-Tutorial/blob/master/13-Pandas_Data_Analysis.ipynb)\n",
    "\n",
    "# 13. Pandas 資料分析\n",
    "\n",
    "[Pandas](http://pandas.pydata.org/) 也是建構於 Numpy 之上，主要設計的定位是用來資料處理及分析。 與 Numpy 陣列不同的地方在，Pandas 表格式的資料容器 `DataFrame` 可以存放及操作異質資料型態，資料欄位可以有標籤，易於處理 missing data、類別資料、與時間序列資料，而且針對常用的資料儲存格式提供了相當廣泛的輸出入的支援。\n",
    "\n",
    "一下教材內容節錄自 [Pandas 官方文件](http://pandas.pydata.org/pandas-docs/stable/index.html)。\n",
    "\n",
    "+ [**13.1 Series 與 DataFrame 基本認識**](#basic-datatype)\n",
    "+ [**13.2 漏失數據處理**](#missing-data)"
   ]
  },
  {
   "cell_type": "markdown",
   "metadata": {},
   "source": [
    "### § 使用 `pandas` 套件"
   ]
  },
  {
   "cell_type": "code",
   "execution_count": null,
   "metadata": {},
   "outputs": [],
   "source": [
    "import numpy as np\n",
    "import pandas as pd"
   ]
  },
  {
   "cell_type": "markdown",
   "metadata": {},
   "source": [
    "<a id=\"basic-datatype\"></a>\n",
    "\n",
    "## 13.1 `Series` 與 `DataFrame` 基本認識\n",
    "\n",
    "Pandas 主要的資料結構是 `Series` 與 `DataFrame`。\n",
    "+ `Series` - 一維，有標籤，同質性（homogeneously-typed）的資料結構。\n",
    "+ `DataFrame` - 二維，有欄位標籤，欄位異質性（heterogeneously-typed ）的資料結構。"
   ]
  },
  {
   "cell_type": "code",
   "execution_count": null,
   "metadata": {},
   "outputs": [],
   "source": [
    "# Creating a Series by passing a list of values, letting pandas create a default integer index\n",
    "pd.Series([1, 3, 5, np.nan, 6, 8])"
   ]
  },
  {
   "cell_type": "code",
   "execution_count": null,
   "metadata": {},
   "outputs": [],
   "source": [
    "# Creating a DataFrame by passing a NumPy array, with a datetime index and labeled columns\n",
    "dates = pd.date_range('20190401', periods=6)\n",
    "print(dates)\n",
    "\n",
    "df = pd.DataFrame(np.random.randn(6, 4), index=dates, columns=list('ABCD'))\n",
    "df"
   ]
  },
  {
   "cell_type": "code",
   "execution_count": null,
   "metadata": {},
   "outputs": [],
   "source": [
    "# Creating a DataFrame by passing a dict of objects that can be converted to series-like.\n",
    "# 注意： 單一值會自動 broadcast\n",
    "df2 = pd.DataFrame({'A': 1.,\n",
    "                    'B': pd.Timestamp('20130102'),\n",
    "                    'C': pd.Series(1, index=list(range(4)), dtype='float32'),\n",
    "                    'D': np.array([3] * 4, dtype='int32'),\n",
    "                    'E': pd.Categorical([\"test\", \"train\", \"test\", \"train\"]),\n",
    "                    'F': 'foo'})\n",
    "df2"
   ]
  },
  {
   "cell_type": "markdown",
   "metadata": {},
   "source": [
    "### § 基本數據檢視\n"
   ]
  },
  {
   "cell_type": "code",
   "execution_count": null,
   "metadata": {},
   "outputs": [],
   "source": [
    "# 檢視前幾筆\n",
    "df.head(3)"
   ]
  },
  {
   "cell_type": "code",
   "execution_count": null,
   "metadata": {},
   "outputs": [],
   "source": [
    "# 檢視後幾筆\n",
    "df.tail(3)"
   ]
  },
  {
   "cell_type": "code",
   "execution_count": null,
   "metadata": {},
   "outputs": [],
   "source": [
    "# 檢視記錄序號（標籤）\n",
    "df.index"
   ]
  },
  {
   "cell_type": "code",
   "execution_count": null,
   "metadata": {},
   "outputs": [],
   "source": [
    "# 檢視記錄欄位名稱（標籤）\n",
    "df.columns"
   ]
  },
  {
   "cell_type": "code",
   "execution_count": null,
   "metadata": {},
   "outputs": [],
   "source": [
    "# 資料都是數值的話，轉成 numpy 陣列非常快\n",
    "df.to_numpy()"
   ]
  },
  {
   "cell_type": "code",
   "execution_count": null,
   "metadata": {},
   "outputs": [],
   "source": [
    "# 異質欄位資料也可以轉成 numpy 陣列的話，但成本較高，通常在 numpy 也不會比較容易處理異質資料\n",
    "df2.to_numpy()"
   ]
  },
  {
   "cell_type": "code",
   "execution_count": null,
   "metadata": {},
   "outputs": [],
   "source": [
    "# 基本統計描述（column-wise）：平均值、標準差、最小值、第一四分位數、中位數、第二四分位數、最大值\n",
    "df.describe()"
   ]
  },
  {
   "cell_type": "code",
   "execution_count": null,
   "metadata": {},
   "outputs": [],
   "source": [
    "# Transpose\n",
    "df.T"
   ]
  },
  {
   "cell_type": "code",
   "execution_count": null,
   "metadata": {},
   "outputs": [],
   "source": [
    "# 根據某欄位排序\n",
    "df.sort_values(by='B')"
   ]
  },
  {
   "cell_type": "markdown",
   "metadata": {},
   "source": [
    "### §  資料內容選取\n",
    "\n",
    "可以使用存取 Python 序列容器或 Numpy 陣列的序號（indexing）、片段（slicing）語法，但是建議使用針對 Pandas 資料結構最佳化過的 `at()`、`iat()`、`loc()`、和 `iloc()` 方法。"
   ]
  },
  {
   "cell_type": "code",
   "execution_count": null,
   "metadata": {},
   "outputs": [],
   "source": [
    "# 選取單一欄位，返回一個 Series\n",
    "df['A']\n",
    "\n",
    "# df['A'] 語法等同於 df.A"
   ]
  },
  {
   "cell_type": "code",
   "execution_count": null,
   "metadata": {},
   "outputs": [],
   "source": [
    "# 片段選取記錄序號列（row）\n",
    "df[1:3]"
   ]
  },
  {
   "cell_type": "code",
   "execution_count": null,
   "metadata": {},
   "outputs": [],
   "source": [
    "# 使用序號標籤選取片段\n",
    "df['20190402':'20190404']"
   ]
  },
  {
   "cell_type": "code",
   "execution_count": null,
   "metadata": {},
   "outputs": [],
   "source": [
    "# 使用 loc()，序號標籤選取\n",
    "df.loc['2019-04-02']"
   ]
  },
  {
   "cell_type": "code",
   "execution_count": null,
   "metadata": {},
   "outputs": [],
   "source": [
    "# 二維 indexing 及部分欄位選取\n",
    "df.loc[:, ['A', 'B']]"
   ]
  },
  {
   "cell_type": "code",
   "execution_count": null,
   "metadata": {},
   "outputs": [],
   "source": [
    "# 使用位置選取記錄序號列（row）\n",
    "df.iloc[3]"
   ]
  },
  {
   "cell_type": "code",
   "execution_count": null,
   "metadata": {},
   "outputs": [],
   "source": [
    "# 類似 numpy 的序號與片段語法\n",
    "df.iloc[3:5, 0:2]"
   ]
  },
  {
   "cell_type": "code",
   "execution_count": null,
   "metadata": {},
   "outputs": [],
   "source": [
    "# 單一內容值的選取可以用 at, iat\n",
    "df.iat[1, 1]"
   ]
  },
  {
   "cell_type": "code",
   "execution_count": null,
   "metadata": {},
   "outputs": [],
   "source": [
    "# Boolean 陣列選取，使用單一欄位\n",
    "df[df.A > 0]"
   ]
  },
  {
   "cell_type": "code",
   "execution_count": null,
   "metadata": {},
   "outputs": [],
   "source": [
    "# Boolean 陣列選取\n",
    "df[df > 0]"
   ]
  },
  {
   "cell_type": "code",
   "execution_count": null,
   "metadata": {},
   "outputs": [],
   "source": [
    "# 追加一個欄位資料\n",
    "df['E'] = ['one', 'one', 'two', 'three', 'four', 'three']\n",
    "df"
   ]
  },
  {
   "cell_type": "code",
   "execution_count": null,
   "metadata": {},
   "outputs": [],
   "source": [
    "# 使用 isin 選取\n",
    "df[df['E'].isin(['two', 'four'])]"
   ]
  },
  {
   "cell_type": "markdown",
   "metadata": {},
   "source": [
    "### § 合併"
   ]
  },
  {
   "cell_type": "code",
   "execution_count": null,
   "metadata": {},
   "outputs": [],
   "source": [
    "# 串接，預設 axis 0\n",
    "pd.concat([df[1:3], df[4:6]])"
   ]
  },
  {
   "cell_type": "code",
   "execution_count": null,
   "metadata": {},
   "outputs": [],
   "source": [
    "# 追加數據列\n",
    "s3 = df.iloc[3]\n",
    "s3.name = pd.to_datetime('2019-04-07')\n",
    "\n",
    "df.append(s3)"
   ]
  },
  {
   "cell_type": "markdown",
   "metadata": {},
   "source": [
    "<a id=\"missing-data\"></a>\n",
    "\n",
    "## 13.2 漏失數據處理\n",
    "\n",
    "漏失數據（missing data，又稱 **NA**）在 Pandas 中主要使用 Numpy 的 `NaN`（Not a Number）形態表示，但也不排除使用 Python 的 `None`。 要注意的是，兩個 `NaN` 互相比較不會相等，但是 `None` 會相等，所以偵測漏失數據要使用 Pandas 提供的函式。"
   ]
  },
  {
   "cell_type": "code",
   "execution_count": null,
   "metadata": {},
   "outputs": [],
   "source": [
    "# NaN 永遠不會等於 NaN\n",
    "print('(NaN == NaN) is', np.nan == np.nan)\n",
    "# None 等於 None\n",
    "print('(None == None) is', None == None)"
   ]
  },
  {
   "cell_type": "code",
   "execution_count": null,
   "metadata": {},
   "outputs": [],
   "source": [
    "# 刪除非數值的欄位 'E' \n",
    "df.drop(columns=['E'], inplace=True)\n",
    "\n",
    "# 製造含 NaN 的數據\n",
    "dfmiss = df[df > 0]\n",
    "dfmiss"
   ]
  },
  {
   "cell_type": "code",
   "execution_count": null,
   "metadata": {},
   "outputs": [],
   "source": [
    "# 偵測 NA 返回 Boolean，注意：不能使用 dfmiss == np.nan 這樣的比較\n",
    "dfmiss.isna()"
   ]
  },
  {
   "cell_type": "code",
   "execution_count": null,
   "metadata": {},
   "outputs": [],
   "source": [
    "# 針對 datetime 類型資料，Pandas 內部另外提供了 `NaT` 的資料類型來代表漏失的時間數據。\n",
    "dfmiss['T'] = pd.Timestamp('20190417')\n",
    "print(dfmiss)\n",
    "\n",
    "dfmiss.iloc[[1, 3, 4], [4]] = np.nan\n",
    "print(dfmiss)"
   ]
  },
  {
   "cell_type": "code",
   "execution_count": null,
   "metadata": {},
   "outputs": [],
   "source": [
    "# 敘述統計函式，sum 把 NA 當 0，mean, cunsum 掠過\n",
    "print('column A sum =', dfmiss['A'].sum())\n",
    "print('column A mean =', dfmiss['A'].mean())\n",
    "print('column A cumsum =\\n', dfmiss['A'].cumsum())"
   ]
  },
  {
   "cell_type": "code",
   "execution_count": null,
   "metadata": {},
   "outputs": [],
   "source": [
    "# 把有漏失任何欄位值的記錄丟掉，也可指定全部欄位沒有值才丟\n",
    "dfmiss.dropna()"
   ]
  },
  {
   "cell_type": "code",
   "execution_count": null,
   "metadata": {},
   "outputs": [],
   "source": [
    "# 丟掉很可惜，填補值來用\n",
    "print('【填補前】：\\n{}\\n'.format(dfmiss))\n",
    "print('【填補 0】：\\n{}\\n'.format(dfmiss.fillna(0)))\n",
    "print('【後向填補】：\\n{}\\n'.format(dfmiss.fillna(method='bfill')))\n",
    "print('【前向填補】：\\n{}\\n'.format(dfmiss.fillna(method='ffill')))"
   ]
  },
  {
   "cell_type": "code",
   "execution_count": 53,
   "metadata": {},
   "outputs": [
    {
     "name": "stdout",
     "output_type": "stream",
     "text": [
      "【填補前】：\n",
      "                   A         B         C         D          T\n",
      "2019-04-01  3.309681  0.195189       NaN  2.191791 2019-04-17\n",
      "2019-04-02  0.091311       NaN  0.469101       NaN        NaT\n",
      "2019-04-03       NaN  0.130222  0.798331  0.371961 2019-04-17\n",
      "2019-04-04  3.134309  0.546685       NaN  0.132854        NaT\n",
      "2019-04-05       NaN  0.206821       NaN  0.591907        NaT\n",
      "2019-04-06  0.798170  0.899065       NaN       NaN 2019-04-17\n",
      "\n",
      "【linear 內插填補】：\n",
      "                   A         B         C         D          T\n",
      "2019-04-01  3.309681  0.195189       NaN  2.191791 2019-04-17\n",
      "2019-04-02  0.091311  0.162706  0.469101  1.281876        NaT\n",
      "2019-04-03  1.612810  0.130222  0.798331  0.371961 2019-04-17\n",
      "2019-04-04  3.134309  0.546685  0.798331  0.132854        NaT\n",
      "2019-04-05  1.966240  0.206821  0.798331  0.591907        NaT\n",
      "2019-04-06  0.798170  0.899065  0.798331  0.591907 2019-04-17\n",
      "\n",
      "【pchip 內插填補】：\n",
      "                   A         B         C         D          T\n",
      "2019-04-01  3.309681  0.195189       NaN  2.191791 2019-04-17\n",
      "2019-04-02  0.091311  0.138343  0.469101  1.031503        NaT\n",
      "2019-04-03  1.612810  0.130222  0.798331  0.371961 2019-04-17\n",
      "2019-04-04  3.134309  0.546685  1.127560  0.132854        NaT\n",
      "2019-04-05  2.594453  0.206821  1.456790  0.591907        NaT\n",
      "2019-04-06  0.798170  0.899065  1.786020  1.529174 2019-04-17\n",
      "\n",
      "【krogh 內插填補】：\n",
      "                   A         B         C         D          T\n",
      "2019-04-01  3.309681  0.195189       NaN  2.191791 2019-04-17\n",
      "2019-04-02  0.091311 -0.766881  0.469101  1.121012        NaT\n",
      "2019-04-03  0.933793  0.130222  0.798331  0.371961 2019-04-17\n",
      "2019-04-04  3.134309  0.546685  1.127560  0.132854        NaT\n",
      "2019-04-05  3.990041  0.206821  1.456790  0.591907        NaT\n",
      "2019-04-06  0.798170  0.899065  1.786020  1.937335 2019-04-17\n",
      "\n"
     ]
    }
   ],
   "source": [
    "# 使用內插值填補，部份方法來自 scipy.interpolate 模組\n",
    "print('【填補前】：\\n{}\\n'.format(dfmiss))\n",
    "print('【linear 內插填補】：\\n{}\\n'.format(dfmiss.interpolate(method='linear')))\n",
    "print('【pchip 內插填補】：\\n{}\\n'.format(dfmiss.interpolate(method='pchip')))\n",
    "print('【krogh 內插填補】：\\n{}\\n'.format(dfmiss.interpolate(method='krogh')))"
   ]
  }
 ],
 "metadata": {
  "kernelspec": {
   "display_name": "Python 3",
   "language": "python",
   "name": "python3"
  },
  "language_info": {
   "codemirror_mode": {
    "name": "ipython",
    "version": 3
   },
   "file_extension": ".py",
   "mimetype": "text/x-python",
   "name": "python",
   "nbconvert_exporter": "python",
   "pygments_lexer": "ipython3",
   "version": "3.6.8"
  }
 },
 "nbformat": 4,
 "nbformat_minor": 2
}
