{
 "cells": [
  {
   "cell_type": "markdown",
   "metadata": {},
   "source": [
    "[![Open In Colab](https://colab.research.google.com/assets/colab-badge.svg)](https://colab.research.google.com/github/twMr7/Python-Tutorial/blob/master/01-Getting_Started.ipynb)\n",
    "\n",
    "# 1. Getting Started \n",
    "Python 語言的版本目前還常見有 2.x 及 3.x 兩種，除了維護舊系統相容性的顧慮外，建議新建系統及初學者都使用 3.x 版。 本課程內容規劃使用 Python 3，程式碼則在 3.6 版本的環境下測試。\n",
    "\n",
    "## 參考文件\n",
    "Python官方的文件就是很好的學習及參考手冊，可以[online](https://docs.python.org/3/)查詢，也可以下載來[offline](https://docs.python.org/3/download.html)使用。\n",
    "## 基本認識\n",
    "Python是直譯式的高階程式語言，可以想成是直譯器每讀一行程式碼就執行一行，不像C++需要經過編譯器讀過全部的程式碼，翻譯成機器碼（binary code）後才能給電腦執行。安裝完Python的開發環境後，可以透過不同的介面執行以下的初學範例：\n",
    "- python\n",
    "- ipython (or jupyter console)\n",
    "- jupyter qtconsole\n",
    "- jupyter notebook\n",
    "- spyder\n",
    "- Microsoft Visual Studio Code\n",
    "- Google Colaboratory"
   ]
  },
  {
   "cell_type": "markdown",
   "metadata": {},
   "source": [
    "## 初學體驗1\n",
    "用`print`在視窗或console畫面上輸出文字，在python中用單引號或雙引號包住的都當作是文字資料。"
   ]
  },
  {
   "cell_type": "code",
   "execution_count": null,
   "metadata": {},
   "outputs": [],
   "source": [
    "print('Hello Python!')"
   ]
  },
  {
   "cell_type": "code",
   "execution_count": null,
   "metadata": {},
   "outputs": [],
   "source": [
    "# 所有井字符號 \"#\" 後的字碼都當成註解（comment）\n",
    "# Python預設使用Unicode(utf-8)，處理中文字也沒問題。\n",
    "print(\"拍神你好\")"
   ]
  },
  {
   "cell_type": "markdown",
   "metadata": {},
   "source": [
    "## 初學體驗2\n",
    "算數運算比小算盤、工程計算機還好用，精度更高，輸入更直覺，數字再大也不是問題。\n",
    "\n",
    "python語法的**算術運算符號：**\n",
    "- ` + ` **加**\n",
    "- ` - ` **減**\n",
    "- ` * ` **乘**\n",
    "- ` **` **次方**\n",
    "- ` / ` **除**（結果為浮點數）\n",
    "- ` //` **除法取商**（結果如同取floor，捨棄小數點後的數字）\n",
    "- ` % ` **除法取餘數**"
   ]
  },
  {
   "cell_type": "code",
   "execution_count": null,
   "metadata": {},
   "outputs": [],
   "source": [
    "41.5 // (2 + 5 * 3)"
   ]
  },
  {
   "cell_type": "code",
   "execution_count": null,
   "metadata": {},
   "outputs": [],
   "source": [
    "2**1000"
   ]
  },
  {
   "cell_type": "markdown",
   "metadata": {},
   "source": [
    "**比較運算子：**\n",
    "- ` <` **小於**\n",
    "- ` >` **大於**\n",
    "- `==` **等於**\n",
    "- `<=` **小於或等於**\n",
    "- `>=` **大於或等於**\n",
    "- `!=` **不等於**\n",
    "\n",
    "比較結果為 True 或 False。兩個比較的表述式可以連續串接，等同於\"**而且**\"的邏輯，兩個比較結果都必須同時成立。例如： `1 < 3 > 2` 串接了兩個比較的陳述，即 `1 < 3 而且 3 > 2`。可以串接的表述式個數沒有限制，只是如果串得太長了，程式碼會比較不好閱讀、比較難除錯。"
   ]
  },
  {
   "cell_type": "code",
   "execution_count": null,
   "metadata": {},
   "outputs": [],
   "source": [
    "2**1000 / 2**900 == 2**100"
   ]
  },
  {
   "cell_type": "markdown",
   "metadata": {},
   "source": [
    "## 初學體驗3\n",
    "除了一些數學常數外，程式碼中通常很少看得到用固定數值作運算，會像用代數來解決應用問題一樣，運用符號來代表問題中未知的或可變動的量，稱為變數（variable）。 將值用等號 \"=\" 指定給變數名稱。假設某物體初始位置$x_{0}$，在初速$v_{0}$及加速度$a$的條件下，計算移動的物體在時間$t$時的位置， $x_{t} = x_{0} + v_{0}t + \\frac{1}{2}at^2$。"
   ]
  },
  {
   "cell_type": "code",
   "execution_count": null,
   "metadata": {},
   "outputs": [],
   "source": [
    "x0 = 1\n",
    "v0 = 10\n",
    "a = 9.81\n",
    "t = 200\n",
    "x0 + v0 * t + 0.5 * a * t**2"
   ]
  },
  {
   "cell_type": "markdown",
   "metadata": {},
   "source": [
    "若想查看目前執行階段使用了哪些變數、函數庫或模組等，只要是ipython或jupyter系列的介面，都可以輸入 `%whos` 命令查看。"
   ]
  },
  {
   "cell_type": "code",
   "execution_count": null,
   "metadata": {},
   "outputs": [],
   "source": [
    "%whos"
   ]
  },
  {
   "cell_type": "markdown",
   "metadata": {},
   "source": [
    "最後的輸出會存在一個特殊的變數名稱 `_` 中。"
   ]
  },
  {
   "cell_type": "code",
   "execution_count": null,
   "metadata": {},
   "outputs": [],
   "source": [
    "print(_)"
   ]
  },
  {
   "cell_type": "markdown",
   "metadata": {},
   "source": [
    "## 初學體驗4\n",
    "ipython 或 jupyter console 從一開始就是設計成便利的互動式人機介面，所以很多開發的工作，不用離開ipython系列的介面就可以完成。還有很多方便的指令，可以輸入 `%lsmagic` 查詢。事實上，在大部分的系統中預設都是 `Automagic`，所以這些指令的前綴符號 `%` 是可以省略的。常用的操作：\n",
    "- `?` ： ipython功能簡介\n",
    "- `物件?` ： 該物件的說明。例如：`x0?`會顯示變數x0的資料型態（int）的說明，`%whos?`會顯示%whos指令的說明。\n",
    "- `help(物件)` : 顯示該物件的python說明。\n",
    "- `%quickref` ： 指令快速查詢。\n",
    "- `%whos` : 顯示目前執行階段使用中的變數和物件\n",
    "- `%store` : 儲存變數以供跨越不同執行階段持續使用（重新開啟後仍然存在）\n",
    "- `%env` ： 顯示環境變數。\n",
    "- `%set_env` : 設定環境變數\n",
    "- `%pwd` ： 顯示目前工作目錄。\n",
    "- `%cd` ： 切換目前工作目錄到指定位置\n",
    "- `%ls` : 列出檔案和目錄\n",
    "- `%copy` : 複製檔案或目錄\n",
    "- `%mkdir` : 新增目錄\n",
    "- `%rmdir` : 移除目錄\n",
    "- `!<系統指令>` : 執行目前作業系統下支援的指令\n",
    "- `%run <檔案.py>` : 在 ipython 中執行 script 檔\n",
    "- `%matplotlib%` : 設定 matplotlib 如何支援繪圖顯示"
   ]
  },
  {
   "cell_type": "code",
   "execution_count": null,
   "metadata": {},
   "outputs": [],
   "source": [
    "# ipconfig 是Windows作業系統支援的指令，會列出系統網路介面及IP設定資訊\n",
    "# Linux 作業系統請改成 ip address 指令\n",
    "netifs = !ipconfig\n",
    "netifs"
   ]
  },
  {
   "cell_type": "markdown",
   "metadata": {},
   "source": [
    "## 初學體驗5\n",
    "Python除了本身內建不少常用的函式外，官方的開發也制定了相當多功能的標準函式庫（Python Standard Library），但針對五花八門的各種不同應用仍嫌不足，仍然需要許多非官方開發的函式庫套件來支援。例如：\n",
    "- 矩陣、陣列的操作運算，要用`numpy`\n",
    "- 科學運算常結合 `numpy` 及 `scipy` 套件\n",
    "- 資料分析、機器學習，常被使用的是 `pandas`、`scikit-learn`、和`tensorflow`\n",
    "- 圖表繪製，一定要會用幾乎是標準的 `matplotlib`，寫過 Matlab 的人對 matplotlib 的語法會很容易上手\n",
    "\n",
    "函式庫有一些不同的包裝方式，我們通稱為模組（module），在使用模組之前，要先做 `import` 讓 python 直譯器知道不是內建的函式名字要去哪裡找。常用的語法如下：\n",
    "```\n",
    "import module\n",
    "import module1, module2\n",
    "import module as name\n",
    "\n",
    "from module import name\n",
    "from module import name1, name2\n",
    "from module import *\n",
    "from module import name as alias_name\n",
    "\n",
    "```\n",
    "\n",
    "以繪製圖表為例，以下示範將 Matlab 常用的範例函數的向量場畫出來。\n",
    "\\begin{equation} \n",
    " z = xe^{-x^{2}-y^{2}}\n",
    "\\end{equation}\n"
   ]
  },
  {
   "cell_type": "code",
   "execution_count": null,
   "metadata": {},
   "outputs": [],
   "source": [
    "# 試一下：模組名稱打三個字，然後按鍵盤TAB鍵\n",
    "import numpy as np\n",
    "import matplotlib.pyplot as plt\n",
    "\n",
    "# 指定將圖表內嵌顯示在jupyter介面中\n",
    "%matplotlib inline"
   ]
  },
  {
   "cell_type": "code",
   "execution_count": null,
   "metadata": {},
   "outputs": [],
   "source": [
    "y, x = np.mgrid[-2:2.1:0.2,-2:2.1:0.2]\n",
    "z = x * np.exp(-x ** 2 - y ** 2)\n",
    "dy, dx = np.gradient(z)\n",
    "plt.quiver(x, y, dx, dy, z)\n",
    "plt.contour(x, y, z, 10)"
   ]
  }
 ],
 "metadata": {
  "kernelspec": {
   "display_name": "Python 3",
   "language": "python",
   "name": "python3"
  },
  "language_info": {
   "codemirror_mode": {
    "name": "ipython",
    "version": 3
   },
   "file_extension": ".py",
   "mimetype": "text/x-python",
   "name": "python",
   "nbconvert_exporter": "python",
   "pygments_lexer": "ipython3",
   "version": "3.6.8"
  }
 },
 "nbformat": 4,
 "nbformat_minor": 2
}
