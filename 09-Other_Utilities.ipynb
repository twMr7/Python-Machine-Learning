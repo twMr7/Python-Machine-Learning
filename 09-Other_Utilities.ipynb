{
 "cells": [
  {
   "cell_type": "markdown",
   "metadata": {},
   "source": [
    "[![Open In Colab](https://colab.research.google.com/assets/colab-badge.svg)](https://colab.research.google.com/github/twMr7/Python-Machine-Learning/blob/master/09-Other_Utilities.ipynb)\n",
    "\n",
    "# 9. 其他實用工具 Other Utilities\n",
    "\n",
    "Python 的通用性來自於豐富的標準函式庫，本章介紹以下幾種常用的工具模組。\n",
    "+ [**9.1 日期與時間（Date and Time）**](#module-datetime)\n",
    "+ [**9.2 物件序列化（Python Object Serialization）**](#module-pickle)\n",
    "+ [**9.3 亂數（Random Numbers）**](#module-random)\n",
    "+ [**9.4 數學函數（Math Functions）**](#module-math)\n",
    "+ [**9.5 檔案系統路徑（File System Paths）**](#module-pathlib)\n"
   ]
  },
  {
   "cell_type": "markdown",
   "metadata": {},
   "source": [
    "<a id=\"module-datetime\"></a>\n",
    "\n",
    "## 9.1 日期與時間 Date and Time\n",
    "\n",
    "Python 標準函式庫中的 [`datetime`](https://docs.python.org/3/library/datetime.html#datetime-objects) 模組可以用來處理日期時間相關的資料，包含了 `date`, `time`, `datetime`, `timedelta`, `timezone` 等型別。"
   ]
  },
  {
   "cell_type": "code",
   "execution_count": 1,
   "metadata": {},
   "outputs": [],
   "source": [
    "# 載入 datetime 模組\n",
    "from datetime import datetime"
   ]
  },
  {
   "cell_type": "code",
   "execution_count": 2,
   "metadata": {},
   "outputs": [
    {
     "data": {
      "text/plain": [
       "'2019-08-09 12:04:30.619654'"
      ]
     },
     "execution_count": 2,
     "metadata": {},
     "output_type": "execute_result"
    }
   ],
   "source": [
    "# 現在的日期時間，返回 datetime 型別\n",
    "t1 = datetime.now()\n",
    "# 轉成字串 str 型別\n",
    "str(t1)"
   ]
  },
  {
   "cell_type": "code",
   "execution_count": 3,
   "metadata": {},
   "outputs": [
    {
     "name": "stdout",
     "output_type": "stream",
     "text": [
      "t1 比 t2 晚 284 days, 20:54:30.619654\n"
     ]
    }
   ],
   "source": [
    "# 從日期時間的字串轉成 datetime 型別\n",
    "tformat = '%Y-%m-%d %H:%M:%S'\n",
    "t2 = datetime.strptime('2018-10-28  15:10:00', tformat)\n",
    "\n",
    "# 比較兩個 datetime\n",
    "if (t1 > t2):\n",
    "    print('t1 比 t2 晚', t1 - t2)\n",
    "else:\n",
    "    print('t2 比 t1 晚', t2 - t1)"
   ]
  },
  {
   "cell_type": "markdown",
   "metadata": {},
   "source": [
    "<a id=\"module-pickle\"></a>\n",
    "\n",
    "## 9.2 物件序列化 Python Object Serialization\n",
    "\n",
    "Python 標準函式庫中的 [`pickle`](https://docs.python.org/3/library/pickle.html#module-pickle) 模組，提供了將 Python 物件序列化（serializing）及解序列化（de-serializing）的方法。 序列化指的是將物件階層轉換成位元組串流（byte stream），以方便物件的儲存、網路傳送、以及不同平臺的互通交換，反向的解序列化操作則是將位元組串流轉換成物件階層。\n",
    "\n",
    "+ `pickle` 模組可以將物件儲存至檔案，或從檔案載入物件，檔案的存取需使用 binary 模式。\n",
    "+ `pickle` 模組提供的序列化功能只適用於 Python 物件專用，標準函式庫中另外有跨平臺及程式語言的通用型的序列化模組 [`json`](https://docs.python.org/3/library/json.html#module-json)，但 `json` 只支援較少的 Python 內建物件型別。"
   ]
  },
  {
   "cell_type": "code",
   "execution_count": 4,
   "metadata": {},
   "outputs": [],
   "source": [
    "# 載入 pickle 模組\n",
    "import pickle"
   ]
  },
  {
   "cell_type": "code",
   "execution_count": 5,
   "metadata": {},
   "outputs": [],
   "source": [
    "# 建立一個數據記錄的結構\n",
    "record = [\n",
    "    {'時間':datetime.strptime('2019-04-03 10:35:58', tformat), '體溫':37.0, '速度':35.0, '心率':92},\n",
    "    {'時間':datetime.strptime('2019-04-03 10:37:00', tformat), '體溫':37.1, '速度':33.8, '心率':97},\n",
    "    {'時間':datetime.strptime('2019-04-03 10:37:59', tformat), '體溫':37.4, '速度':35.5, '心率':99}\n",
    "]"
   ]
  },
  {
   "cell_type": "code",
   "execution_count": 6,
   "metadata": {},
   "outputs": [],
   "source": [
    "# 開啟新的 binary 檔案，用 pickle 將 record 物件 serialize\n",
    "pfile = open('record.pkl', 'wb')\n",
    "pickle.dump(record, pfile)\n",
    "pfile.close()"
   ]
  },
  {
   "cell_type": "code",
   "execution_count": 7,
   "metadata": {},
   "outputs": [
    {
     "data": {
      "text/plain": [
       "[{'時間': datetime.datetime(2019, 4, 3, 10, 35, 58),\n",
       "  '體溫': 37.0,\n",
       "  '速度': 35.0,\n",
       "  '心率': 92},\n",
       " {'時間': datetime.datetime(2019, 4, 3, 10, 37),\n",
       "  '體溫': 37.1,\n",
       "  '速度': 33.8,\n",
       "  '心率': 97},\n",
       " {'時間': datetime.datetime(2019, 4, 3, 10, 37, 59),\n",
       "  '體溫': 37.4,\n",
       "  '速度': 35.5,\n",
       "  '心率': 99}]"
      ]
     },
     "execution_count": 7,
     "metadata": {},
     "output_type": "execute_result"
    }
   ],
   "source": [
    "# 讀入檔案，將 record 物件 de-serialize\n",
    "pfile = open('record.pkl', 'rb')\n",
    "record2 = pickle.load(pfile)\n",
    "pfile.close()\n",
    "record2"
   ]
  },
  {
   "cell_type": "markdown",
   "metadata": {},
   "source": [
    "<a id=\"module-random\"></a>\n",
    "\n",
    "## 9.3 亂數 Random Numbers\n",
    "\n",
    "Python 標準函式庫中的 [`random`](https://docs.python.org/3/library/random.html) 模組，提供了擬隨機（pseudo-random）亂數產生的方法。\n",
    "\n",
    "+ `random()` - 返回下一個 [0.0, 1.0) 區間內的隨機實數。\n",
    "+ `randrange(start, stop[, step])` - 返回下一個 [start, stop) 區間內的隨機整數。\n",
    "+ `randint(a, b)` - 返回下一個 [a, b] 區間內的隨機整數，同 `randrange(a, b+1)`。\n",
    "+ `choice(seq)` - 從 seq 序列中隨機選取其中一個成員。\n",
    "+ `shuffle(seq)` - 將 seq 序列中的元素順序重新隨機排列，序列必須是可就地變更的容器類別。\n",
    "+ `sample(seq, k)` - 從 seq 序列或集合中，返回隨機選取 k 個樣本的 List 清單。"
   ]
  },
  {
   "cell_type": "code",
   "execution_count": 8,
   "metadata": {},
   "outputs": [],
   "source": [
    "# 載入 random 模組\n",
    "import random"
   ]
  },
  {
   "cell_type": "code",
   "execution_count": 9,
   "metadata": {},
   "outputs": [
    {
     "name": "stdout",
     "output_type": "stream",
     "text": [
      "[0.7052357497074248, 0.6323705607249648, 0.08389069399178051, 0.10300617244038568, 0.7719857266399388, 0.23469159702607745, 0.4158002043740896, 0.16533992359494576, 0.31211970489083973, 0.7094583094731348, 0.0471261784692667, 0.4125856145957225, 0.2392153600939767, 0.4347507013143791, 0.9278241200604752, 0.24833079688828374, 0.33123958082531935, 0.32507672334822635, 0.8526145803912517, 0.20500609323054886, 0.0284189001974402, 0.4622914800150507, 0.08734510178725685, 0.32995209433260475, 0.17651039828766713, 0.07513472495449924, 0.4050043725860635, 0.41637072449580836, 0.282858062912293, 0.1246876140181834, 0.17288844179400942, 0.15836109303591261, 0.5180233823181128, 0.39929761222585824, 0.2292315979370424, 0.1396097067634623, 0.8106270317270603, 0.7129558050659258, 0.7422278342690081, 0.8211036941296195, 0.0466747994828931, 0.2341192230934801, 0.8961424220714813, 0.9888276289370502, 0.22291323154038722, 0.31815887772203233, 0.18338677766015077, 0.5757711158247317, 0.9324605249624675, 0.9992762749718523, 0.9013529004021142, 0.9538526761376099, 0.15207940722699564, 0.11307112914494888, 0.9926416768960545, 0.10446117759493412, 0.8456295631887636, 0.9795163926002453, 0.267521036106802, 0.6466750697818039, 0.44270066906104644, 0.222012404347247, 0.18316467319872864, 0.2853204723777575, 0.20397916865669308, 0.4340444515615406, 0.8275346797422762, 0.45549350704371283, 0.3302620504075139, 0.6315538891100454, 0.7487295575480563, 0.8506994610349577, 0.13987923504303001, 0.5983614825616587, 0.6377245410459463, 0.5377242781489543, 0.26515507966084806, 0.17540757493725367, 0.5982315821121494, 0.5005507978916913, 0.4094733519310868, 0.6283831542844814, 0.4310563548363897, 0.04158904913518746, 0.9145073747876559, 0.12033790036637304, 0.3532947981128697, 0.3804025054586164, 0.9914478365363975, 0.5049982591887288, 0.3972118119069662, 0.7224850000927172, 0.34828801626879746, 0.48358237962046513, 0.5325712310221131, 0.7304624297082993, 0.6079018345852694, 0.7188715269797722, 0.093889111520578, 0.7513821030780647]\n"
     ]
    }
   ],
   "source": [
    "# 產生 100 個隨機實數數列\n",
    "Lr = [random.random() for x in range(100)]\n",
    "print(Lr)"
   ]
  },
  {
   "cell_type": "code",
   "execution_count": 10,
   "metadata": {},
   "outputs": [
    {
     "name": "stdout",
     "output_type": "stream",
     "text": [
      "[51, 69, 27, 34, 37, 53, 26, 4, 35, 91, 36, 65, 80, 94, 67, 77, 37, 74, 82, 16, 89, 97, 76, 16, 57, 30, 54, 46, 11, 57, 89, 89, 42, 26, 19, 99, 23, 4, 47, 100, 66, 81, 91, 65, 39, 12, 54, 4, 42, 1, 74, 6, 29, 33, 86, 40, 34, 53, 75, 1, 54, 17, 43, 43, 92, 38, 64, 34, 37, 100, 99, 11, 69, 55, 92, 37, 68, 48, 69, 30, 10, 44, 89, 16, 74, 79, 74, 58, 29, 58, 58, 90, 16, 70, 93, 84, 88, 75, 35, 92]\n"
     ]
    }
   ],
   "source": [
    "# 產生 100 個隨機整數數列\n",
    "Li = [random.randint(1, 100) for x in range(100)]\n",
    "print(Li)"
   ]
  },
  {
   "cell_type": "code",
   "execution_count": 11,
   "metadata": {},
   "outputs": [
    {
     "data": {
      "text/plain": [
       "[41.969517750054834,\n",
       " 42.82877987544969,\n",
       " 27.462429867953297,\n",
       " 24.83572261008218,\n",
       " 6.219599362443394,\n",
       " 8.06020858303077,\n",
       " 2.3929263284485978,\n",
       " 8.828194191524465,\n",
       " 76.08157784495897,\n",
       " 21.952962562820233]"
      ]
     },
     "execution_count": 11,
     "metadata": {},
     "output_type": "execute_result"
    }
   ],
   "source": [
    "# 從數列中隨機選取 10 個樣本，產生新的隨機數列\n",
    "[x * y for x, y in zip(random.sample(Lr, 10), random.sample(Li, 10))]"
   ]
  },
  {
   "cell_type": "markdown",
   "metadata": {},
   "source": [
    "<a id=\"module-math\"></a>\n",
    "\n",
    "## 9.4 數學函數 Math Functions\n",
    "\n",
    "Python 標準函式庫中的 [`math`](https://docs.python.org/3/library/math.html) 模組，提供了用於實數運算的常用函數。"
   ]
  },
  {
   "cell_type": "code",
   "execution_count": 12,
   "metadata": {},
   "outputs": [],
   "source": [
    "# 載入 math 模組\n",
    "import math"
   ]
  },
  {
   "cell_type": "code",
   "execution_count": 13,
   "metadata": {},
   "outputs": [
    {
     "name": "stdout",
     "output_type": "stream",
     "text": [
      "0.9999999999999999\n"
     ]
    }
   ],
   "source": [
    "# 內建函式的 sum() 在浮點數運算的精度不足\n",
    "print(sum([.1, .1, .1, .1, .1, .1, .1, .1, .1, .1]))"
   ]
  },
  {
   "cell_type": "code",
   "execution_count": 14,
   "metadata": {},
   "outputs": [
    {
     "name": "stdout",
     "output_type": "stream",
     "text": [
      "1.0\n"
     ]
    }
   ],
   "source": [
    "# math 模組的 fsum() 可避免精度的誤差\n",
    "print(math.fsum([.1, .1, .1, .1, .1, .1, .1, .1, .1, .1]))"
   ]
  },
  {
   "cell_type": "code",
   "execution_count": 15,
   "metadata": {},
   "outputs": [
    {
     "name": "stdout",
     "output_type": "stream",
     "text": [
      "cosine(pi) = -1.0\n"
     ]
    }
   ],
   "source": [
    "# cosine 180 度\n",
    "print('cosine(pi) =', math.cos(math.pi))"
   ]
  },
  {
   "cell_type": "code",
   "execution_count": 16,
   "metadata": {},
   "outputs": [
    {
     "name": "stdout",
     "output_type": "stream",
     "text": [
      "sine(pi/2) = 1.0\n"
     ]
    }
   ],
   "source": [
    "# sine 90 度\n",
    "print('sine(pi/2) =', math.sin(math.radians(90)))"
   ]
  },
  {
   "cell_type": "markdown",
   "metadata": {},
   "source": [
    "<a id=\"module-pathlib\"></a>\n",
    "\n",
    "## 9.5 檔案系統路徑 File System Paths\n",
    "\n",
    "Python 標準函式庫中的 [`pathlib`](https://docs.python.org/3/library/pathlib.html) 模組，提供了通用於不同平台的檔案系統路徑操作，`Path` 物件可以比較、解析路徑的組成部份、也可以串接重組，主要有以下屬性：\n",
    "\n",
    "+ `Path.drive` - 目標路徑的磁碟代號\n",
    "+ `Path.root` - 目標路徑的根目錄\n",
    "+ `Path.parent` - 目標路徑的上層目錄\n",
    "+ `Path.name` - 目標路徑最後部份的名字\n",
    "+ `Path.suffix` - 目標路徑最後部份的副檔名\n",
    "+ `Path.stem` - 目標路徑最後部份去除副檔名的名字\n",
    "\n",
    "常用的 `Path` 類別方法如下：\n",
    "\n",
    "+ `Path.cwd()` - 目前工作目錄。\n",
    "+ `Path.home()` - 登入使用者的家目錄。\n",
    "+ `Path(str)` - 從字串 str 建立路徑物件。\n",
    "+ `Path.exists()` - 路徑的檔案或目錄是否存在。\n",
    "+ `Path.glob(pattern)` - 返回生成函式，用來列出路徑下符合指定 pattern 的所有檔案或目錄。\n",
    "+ `Path.is_dir()` - 檢查路徑的目標是否爲目錄。\n",
    "+ `Path.is_file()` - 檢查路徑的目標是否爲檔案。\n",
    "+ `Path.iterdir()` - 當目標路徑爲目錄時，用來迭代尋訪目錄下的所有檔案。\n",
    "+ `Path.mkdir()` - 當目標路徑爲目錄時，爲該目標建立目錄。\n",
    "+ `Path.rename(new_name)` - 重新命名檔案。\n",
    "+ `Path.open(mode)` - 功能同內建函式 `open()`，使用指定模式開啓檔案，返回檔案物件。 \n"
   ]
  },
  {
   "cell_type": "code",
   "execution_count": 17,
   "metadata": {},
   "outputs": [],
   "source": [
    "# 載入 Path 類別\n",
    "from pathlib import Path"
   ]
  },
  {
   "cell_type": "code",
   "execution_count": 18,
   "metadata": {},
   "outputs": [
    {
     "name": "stdout",
     "output_type": "stream",
     "text": [
      "Current working directory:  C:\\Users\\James\\Documents\\Code\\Lecture\\Python-Machine-Learning\\Lecture-Notes\n",
      ".git\n",
      ".gitignore\n",
      ".ipynb_checkpoints\n",
      "01-Getting_Started.ipynb\n",
      "02-Syntax_Overview_1.ipynb\n",
      "03-Syntax_Overview_2.ipynb\n",
      "04-String_Operations.ipynb\n",
      "05-List_Operations.ipynb\n",
      "06-Tuple_Operations.ipynb\n",
      "07-Dict_Operations.ipynb\n",
      "08-File_Operations.ipynb\n",
      "09-Other_Utilities.ipynb\n",
      "10-Coding_Project.ipynb\n",
      "11-Numpy_Vectorized_Computation.ipynb\n",
      "12-Matplotlib_Data_Visualization.ipynb\n",
      "13-Pandas_Data_Processing.ipynb\n",
      "14-Sklearn_Building_A_Machine_Learning_Model.ipynb\n",
      "15-Sklearn_Data_Preprocessing.ipynb\n",
      "16-Sklearn_Best_Practice_Techniques.ipynb\n",
      "17-Artificial_Neural_Network_with_tf_Keras.ipynb\n",
      "18-ANN_Case_Studies.ipynb\n",
      "19-Practical_Autoencoders.ipynb\n",
      "dataset\n",
      "hello.txt\n",
      "image\n",
      "README.md\n",
      "record.pkl\n",
      "uhello.txt\n"
     ]
    }
   ],
   "source": [
    "# 列出目前工作目錄下所有的檔案及目錄\n",
    "pwd = Path.cwd()\n",
    "print('Current working directory: ', pwd)\n",
    "for f in pwd.iterdir():\n",
    "    print(f.name)"
   ]
  },
  {
   "cell_type": "code",
   "execution_count": 19,
   "metadata": {},
   "outputs": [
    {
     "data": {
      "text/plain": [
       "{'.gitignore': '',\n",
       " '01-Getting_Started': '.ipynb',\n",
       " '02-Syntax_Overview_1': '.ipynb',\n",
       " '03-Syntax_Overview_2': '.ipynb',\n",
       " '04-String_Operations': '.ipynb',\n",
       " '05-List_Operations': '.ipynb',\n",
       " '06-Tuple_Operations': '.ipynb',\n",
       " '07-Dict_Operations': '.ipynb',\n",
       " '08-File_Operations': '.ipynb',\n",
       " '09-Other_Utilities': '.ipynb',\n",
       " '10-Coding_Project': '.ipynb',\n",
       " '11-Numpy_Vectorized_Computation': '.ipynb',\n",
       " '12-Matplotlib_Data_Visualization': '.ipynb',\n",
       " '13-Pandas_Data_Processing': '.ipynb',\n",
       " '14-Sklearn_Building_A_Machine_Learning_Model': '.ipynb',\n",
       " '15-Sklearn_Data_Preprocessing': '.ipynb',\n",
       " '16-Sklearn_Best_Practice_Techniques': '.ipynb',\n",
       " '17-Artificial_Neural_Network_with_tf_Keras': '.ipynb',\n",
       " '18-ANN_Case_Studies': '.ipynb',\n",
       " '19-Practical_Autoencoders': '.ipynb',\n",
       " 'hello': '.txt',\n",
       " 'README': '.md',\n",
       " 'record': '.pkl',\n",
       " 'uhello': '.txt'}"
      ]
     },
     "execution_count": 19,
     "metadata": {},
     "output_type": "execute_result"
    }
   ],
   "source": [
    "# 建立一個記錄檔案名字與副檔名對照的字典\n",
    "{f.stem:f.suffix for f in pwd.iterdir() if f.is_file()}"
   ]
  },
  {
   "cell_type": "code",
   "execution_count": 20,
   "metadata": {},
   "outputs": [
    {
     "name": "stdout",
     "output_type": "stream",
     "text": [
      "['01-Getting_Started.ipynb', '02-Syntax_Overview_1.ipynb', '03-Syntax_Overview_2.ipynb', '04-String_Operations.ipynb', '05-List_Operations.ipynb', '06-Tuple_Operations.ipynb', '07-Dict_Operations.ipynb', '08-File_Operations.ipynb', '09-Other_Utilities.ipynb', '10-Coding_Project.ipynb', '11-Numpy_Vectorized_Computation.ipynb', '12-Matplotlib_Data_Visualization.ipynb', '13-Pandas_Data_Processing.ipynb', '14-Sklearn_Building_A_Machine_Learning_Model.ipynb', '15-Sklearn_Data_Preprocessing.ipynb', '16-Sklearn_Best_Practice_Techniques.ipynb', '17-Artificial_Neural_Network_with_tf_Keras.ipynb', '18-ANN_Case_Studies.ipynb', '19-Practical_Autoencoders.ipynb']\n"
     ]
    }
   ],
   "source": [
    "# 列出目前工作目錄下所有副檔名是 .ipynb 的檔案\n",
    "print([f.name for f in pwd.glob('*.ipynb')])"
   ]
  },
  {
   "cell_type": "code",
   "execution_count": 21,
   "metadata": {},
   "outputs": [
    {
     "data": {
      "text/plain": [
       "[WindowsPath('C:/Users/James/Documents/Code/Lecture/Python-Machine-Learning/Lecture-Notes/01-Getting_Started.ipynb'),\n",
       " WindowsPath('C:/Users/James/Documents/Code/Lecture/Python-Machine-Learning/Lecture-Notes/02-Syntax_Overview_1.ipynb'),\n",
       " WindowsPath('C:/Users/James/Documents/Code/Lecture/Python-Machine-Learning/Lecture-Notes/03-Syntax_Overview_2.ipynb'),\n",
       " WindowsPath('C:/Users/James/Documents/Code/Lecture/Python-Machine-Learning/Lecture-Notes/04-String_Operations.ipynb'),\n",
       " WindowsPath('C:/Users/James/Documents/Code/Lecture/Python-Machine-Learning/Lecture-Notes/05-List_Operations.ipynb'),\n",
       " WindowsPath('C:/Users/James/Documents/Code/Lecture/Python-Machine-Learning/Lecture-Notes/06-Tuple_Operations.ipynb'),\n",
       " WindowsPath('C:/Users/James/Documents/Code/Lecture/Python-Machine-Learning/Lecture-Notes/07-Dict_Operations.ipynb'),\n",
       " WindowsPath('C:/Users/James/Documents/Code/Lecture/Python-Machine-Learning/Lecture-Notes/08-File_Operations.ipynb'),\n",
       " WindowsPath('C:/Users/James/Documents/Code/Lecture/Python-Machine-Learning/Lecture-Notes/09-Other_Utilities.ipynb'),\n",
       " WindowsPath('C:/Users/James/Documents/Code/Lecture/Python-Machine-Learning/Lecture-Notes/10-Coding_Project.ipynb'),\n",
       " WindowsPath('C:/Users/James/Documents/Code/Lecture/Python-Machine-Learning/Lecture-Notes/11-Numpy_Vectorized_Computation.ipynb'),\n",
       " WindowsPath('C:/Users/James/Documents/Code/Lecture/Python-Machine-Learning/Lecture-Notes/12-Matplotlib_Data_Visualization.ipynb'),\n",
       " WindowsPath('C:/Users/James/Documents/Code/Lecture/Python-Machine-Learning/Lecture-Notes/13-Pandas_Data_Processing.ipynb'),\n",
       " WindowsPath('C:/Users/James/Documents/Code/Lecture/Python-Machine-Learning/Lecture-Notes/14-Sklearn_Building_A_Machine_Learning_Model.ipynb'),\n",
       " WindowsPath('C:/Users/James/Documents/Code/Lecture/Python-Machine-Learning/Lecture-Notes/15-Sklearn_Data_Preprocessing.ipynb'),\n",
       " WindowsPath('C:/Users/James/Documents/Code/Lecture/Python-Machine-Learning/Lecture-Notes/16-Sklearn_Best_Practice_Techniques.ipynb'),\n",
       " WindowsPath('C:/Users/James/Documents/Code/Lecture/Python-Machine-Learning/Lecture-Notes/17-Artificial_Neural_Network_with_tf_Keras.ipynb'),\n",
       " WindowsPath('C:/Users/James/Documents/Code/Lecture/Python-Machine-Learning/Lecture-Notes/18-ANN_Case_Studies.ipynb'),\n",
       " WindowsPath('C:/Users/James/Documents/Code/Lecture/Python-Machine-Learning/Lecture-Notes/19-Practical_Autoencoders.ipynb')]"
      ]
     },
     "execution_count": 21,
     "metadata": {},
     "output_type": "execute_result"
    }
   ],
   "source": [
    "# 目前工作目錄下所有副檔名是 .ipynb 的路徑清單\n",
    "list(pwd.glob('*.ipynb'))"
   ]
  }
 ],
 "metadata": {
  "kernelspec": {
   "display_name": "Python 3",
   "language": "python",
   "name": "python3"
  },
  "language_info": {
   "codemirror_mode": {
    "name": "ipython",
    "version": 3
   },
   "file_extension": ".py",
   "mimetype": "text/x-python",
   "name": "python",
   "nbconvert_exporter": "python",
   "pygments_lexer": "ipython3",
   "version": "3.6.8"
  }
 },
 "nbformat": 4,
 "nbformat_minor": 2
}
