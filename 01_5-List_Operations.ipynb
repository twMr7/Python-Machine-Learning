{
 "cells": [
  {
   "cell_type": "markdown",
   "metadata": {},
   "source": [
    "## 1.5 List 序列容器操作 List Operations\n",
    "### § List 是可以 In-Place 就地變更的序列容器。"
   ]
  },
  {
   "cell_type": "code",
   "execution_count": null,
   "metadata": {},
   "outputs": [],
   "source": [
    "L = [123, [4, 56], 'One-Two-Three', 7.89]\n",
    "print('L = {}.'.format(L))"
   ]
  },
  {
   "cell_type": "code",
   "execution_count": null,
   "metadata": {},
   "outputs": [],
   "source": [
    "# a += b 等同於 a = a + b\n",
    "L[0] += 12\n",
    "print('L = {}, 1st element is changed.'.format(L))"
   ]
  },
  {
   "cell_type": "code",
   "execution_count": null,
   "metadata": {},
   "outputs": [],
   "source": [
    "# a -= b 等同於 a = a - b\n",
    "L[1][1] -= 34\n",
    "print('L = {}, 2nd element is changed.'.format(L))"
   ]
  },
  {
   "cell_type": "code",
   "execution_count": null,
   "metadata": {},
   "outputs": [],
   "source": [
    "# a *= b 等同於 a = a * b\n",
    "L[2] *= 2\n",
    "print('L = {}, 3rd element is changed.'.format(L))"
   ]
  },
  {
   "cell_type": "code",
   "execution_count": null,
   "metadata": {},
   "outputs": [],
   "source": [
    "# a /= b 等同於 a = a / b\n",
    "L[3] /= 0.56\n",
    "print('L = {}, 4th element is changed.'.format(L))"
   ]
  },
  {
   "cell_type": "markdown",
   "metadata": {},
   "source": [
    "### § Slices 片段也可以就地變更"
   ]
  },
  {
   "cell_type": "code",
   "execution_count": null,
   "metadata": {},
   "outputs": [],
   "source": [
    "letters = ['a', 'b', 'c', 'd', 'e', 'f', 'g']\n",
    "print('letters = {}, {} elements.'.format(letters, len(letters)))"
   ]
  },
  {
   "cell_type": "code",
   "execution_count": null,
   "metadata": {},
   "outputs": [],
   "source": [
    "# 將序號 2 到 4 的元素分別用新的數值取代\n",
    "letters[2:5] = [ord('c'), ord('d'), ord('e')]\n",
    "print('letters = {}, {} elements.'.format(letters, len(letters)))"
   ]
  },
  {
   "cell_type": "code",
   "execution_count": null,
   "metadata": {},
   "outputs": [],
   "source": [
    "# 將序號 2 到 4 的元素全部用一個新的值取代\n",
    "letters[2:5] = 'X'\n",
    "print('letters = {}, {} elements.'.format(letters, len(letters)))"
   ]
  },
  {
   "cell_type": "code",
   "execution_count": null,
   "metadata": {},
   "outputs": [],
   "source": [
    "# 將序號 2 到 4 的元素刪除\n",
    "letters[2:5] = []\n",
    "print('letters = {}, {} elements.'.format(letters, len(letters)))"
   ]
  },
  {
   "cell_type": "code",
   "execution_count": null,
   "metadata": {},
   "outputs": [],
   "source": [
    "# 可以用空的 [] 來清空 list\n",
    "letters[:] = []\n",
    "print('letters = {}, {} elements.'.format(letters, len(letters)))"
   ]
  },
  {
   "cell_type": "markdown",
   "metadata": {},
   "source": [
    "### § 讀取的索引值還是不能超過範圍，但寫入和 Slice 的索引範圍可以。"
   ]
  },
  {
   "cell_type": "code",
   "execution_count": null,
   "metadata": {},
   "outputs": [],
   "source": [
    "# 讀取超過範圍的索引會出現 IndexError\n",
    "print(L[4])"
   ]
  },
  {
   "cell_type": "code",
   "execution_count": null,
   "metadata": {},
   "outputs": [],
   "source": [
    "# 但是 Slice 範圍超過只會被默默忽略\n",
    "print('L = {}.'.format(L[:10]))\n",
    "print('L reversed = {}.'.format(L[-1:-9:-1]))"
   ]
  },
  {
   "cell_type": "code",
   "execution_count": null,
   "metadata": {},
   "outputs": [],
   "source": [
    "# 寫入新的 list 物件到索引結束的後面，可以直接追加元素進去\n",
    "L[len(L):] = list(range(2))\n",
    "print('L extended = {}, now length = {}.'.format(L, len(L)))"
   ]
  },
  {
   "cell_type": "code",
   "execution_count": null,
   "metadata": {},
   "outputs": [],
   "source": [
    "# 寫入的 slice 索引超過結束的後面，一樣被忽略\n",
    "L[len(L) + 2:] = [3, 4]\n",
    "print('L extended = {}, now length = {}.'.format(L, len(L)))"
   ]
  },
  {
   "cell_type": "code",
   "execution_count": null,
   "metadata": {},
   "outputs": [],
   "source": [
    "# 寫入的 slice 索引橫跨原本有和沒有的範圍，則原本有的會被覆蓋，原本沒有的範圍會新增\n",
    "L[-2:] = [2, 3, 4, 5]\n",
    "print('L extended = {}, now length = {}.'.format(L, len(L)))"
   ]
  },
  {
   "cell_type": "markdown",
   "metadata": {},
   "source": [
    "### § 使用 List 的方法 (Methods) 來操作\n",
    "針對新增、刪除、插入等 in-place 變更的操作，原則上會建議使用 list 提供的具名函式的方法，這樣會使得程式碼可讀性比較高。"
   ]
  },
  {
   "cell_type": "code",
   "execution_count": null,
   "metadata": {},
   "outputs": [],
   "source": [
    "# 刪除所有元素\n",
    "L.clear()\n",
    "print('L = {}, length = {}'.format(L, len(L)))"
   ]
  },
  {
   "cell_type": "code",
   "execution_count": null,
   "metadata": {},
   "outputs": [],
   "source": [
    "# 新增一系列元素\n",
    "L.extend(range(3))\n",
    "print('L = {}, length = {}'.format(L, len(L)))"
   ]
  },
  {
   "cell_type": "code",
   "execution_count": null,
   "metadata": {},
   "outputs": [],
   "source": [
    "# 新增一個元素，注意和 extend() 方法有甚麼差異\n",
    "L.append(list(range(3)))\n",
    "print('L = {}, length = {}'.format(L, len(L)))"
   ]
  },
  {
   "cell_type": "code",
   "execution_count": null,
   "metadata": {},
   "outputs": [],
   "source": [
    "# 刪除最後一個元素\n",
    "del L[-1:]\n",
    "print('L = {}, length = {}'.format(L, len(L)))"
   ]
  },
  {
   "cell_type": "code",
   "execution_count": null,
   "metadata": {},
   "outputs": [],
   "source": [
    "# 複製三份 L 串成新的 list 物件，注意三份都是同一個物件的參考\n",
    "L2 = [L] * 3\n",
    "print('\\nL2 = {},\\n(L2[0], L2[1], L2[2]) 和 L 是同一份參考嗎？ ({}, {}, {})'\n",
    "      .format(L2, L2[0] is L, L2[1] is L, L2[2] is L))"
   ]
  },
  {
   "cell_type": "code",
   "execution_count": null,
   "metadata": {},
   "outputs": [],
   "source": [
    "# copy() 是所謂的 shallow copy\n",
    "L2copy = L2.copy()\n",
    "print('\\nL2copy = {},\\nL2copy 和 L2 是同一份參考嗎？ ({}),\\nL2copy[0] 和 L 是同一份參考嗎？ ({})'\n",
    "      .format(L2copy, L2copy is L2, L2copy[0] is L))"
   ]
  },
  {
   "cell_type": "code",
   "execution_count": null,
   "metadata": {},
   "outputs": [],
   "source": [
    "# 既然都參考到同一個物件，有一個內容改變了，其他也會跟著變\n",
    "L.insert(2, 0.5)\n",
    "L.append(1.5)\n",
    "print('\\nL = {}\\nL2 = {}\\nL2copy = {}\\n'.format(L, L2, L2copy))"
   ]
  },
  {
   "cell_type": "markdown",
   "metadata": {},
   "source": [
    "List 有提供 in-place 排序的方法 `sort()`。另外 Python 也有一個內建函式 `sorted()` 可以用來排序，這個內建函式不是 in-place 排序，但通用於所有支援迭代（iterator）的物件。"
   ]
  },
  {
   "cell_type": "code",
   "execution_count": null,
   "metadata": {},
   "outputs": [],
   "source": [
    "# 將元素內容排序\n",
    "L.sort()\n",
    "print('由小到大排序 L = {}'.format(L))"
   ]
  },
  {
   "cell_type": "code",
   "execution_count": null,
   "metadata": {},
   "outputs": [],
   "source": [
    "L.sort(reverse=True)\n",
    "print('由大到小排序 L = {}'.format(L))"
   ]
  },
  {
   "cell_type": "code",
   "execution_count": null,
   "metadata": {},
   "outputs": [],
   "source": [
    "# Python 內建函式 sorted 是回傳一個新的 list 物件，不是 in-place 排序。\n",
    "print('L 的內容由小到大排序，新的 list = {}，原本的 L = {} 沒變'.format(sorted(L), L))"
   ]
  }
 ],
 "metadata": {
  "kernelspec": {
   "display_name": "Python 3",
   "language": "python",
   "name": "python3"
  },
  "language_info": {
   "codemirror_mode": {
    "name": "ipython",
    "version": 3
   },
   "file_extension": ".py",
   "mimetype": "text/x-python",
   "name": "python",
   "nbconvert_exporter": "python",
   "pygments_lexer": "ipython3",
   "version": "3.6.6"
  }
 },
 "nbformat": 4,
 "nbformat_minor": 2
}
