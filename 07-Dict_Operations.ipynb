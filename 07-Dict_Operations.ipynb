{
 "cells": [
  {
   "cell_type": "markdown",
   "metadata": {},
   "source": [
    "## 1.7 字典容器操作 Dict Operations\n",
    "### § Dict 成員的基本操作"
   ]
  },
  {
   "cell_type": "code",
   "execution_count": null,
   "metadata": {},
   "outputs": [],
   "source": [
    "extno = { 'Adam': 3030, 'Brown': 2543}\n",
    "print('extno = {}'.format(extno))"
   ]
  },
  {
   "cell_type": "code",
   "execution_count": null,
   "metadata": {},
   "outputs": [],
   "source": [
    "# 讀取一個不存在的 key 會出現 KeyError 的錯誤\n",
    "print(extno['Cathy'])"
   ]
  },
  {
   "cell_type": "code",
   "execution_count": null,
   "metadata": {},
   "outputs": [],
   "source": [
    "# 指定一個沒有的 key 就會新增\n",
    "extno['Cathy'] = 1234\n",
    "print('extno = {}, {}個成員'.format(extno, len(extno)))"
   ]
  },
  {
   "cell_type": "code",
   "execution_count": null,
   "metadata": {},
   "outputs": [],
   "source": [
    "# 修改對應值\n",
    "extno['Brown'] = 2567\n",
    "print(\"Brown's extension number = {}\".format(extno['Brown']))"
   ]
  },
  {
   "cell_type": "code",
   "execution_count": null,
   "metadata": {},
   "outputs": [],
   "source": [
    "# 刪除\n",
    "del extno['Adam']\n",
    "print('\\nafter delete Adam, extno = {}, {}個成員'.format(extno, len(extno)))"
   ]
  },
  {
   "cell_type": "code",
   "execution_count": null,
   "metadata": {},
   "outputs": [],
   "source": [
    "# 檢查成員是否存在某個 key\n",
    "print('Is Adam in the ext record? ({})'.format('Adam' in extno))"
   ]
  },
  {
   "cell_type": "code",
   "execution_count": null,
   "metadata": {},
   "outputs": [],
   "source": [
    "# 把 Adam 加回去\n",
    "extno['Adam'] = 3080\n",
    "print(\"Add Adam back, Adam's extension number is now = {}\".format(extno['Adam']))\n",
    "print('extno = {}'.format(extno))"
   ]
  },
  {
   "cell_type": "markdown",
   "metadata": {},
   "source": [
    "### § Dict 成員的 Views"
   ]
  },
  {
   "cell_type": "code",
   "execution_count": null,
   "metadata": {},
   "outputs": [],
   "source": [
    "# items() 的方法回傳一個 dict_items 的 view 物件，包含所有成員的成對的 key-value\n",
    "print(extno.items())\n",
    "# 把 view 卸載\n",
    "item_list = list(extno.items())"
   ]
  },
  {
   "cell_type": "code",
   "execution_count": null,
   "metadata": {},
   "outputs": [],
   "source": [
    "# keys() 的方法回傳一個 dict_keys 的 view 物件，包含所有成員的 key\n",
    "print(extno.keys())\n",
    "# 把 view 卸載\n",
    "key_list = list(extno.keys())"
   ]
  },
  {
   "cell_type": "code",
   "execution_count": null,
   "metadata": {},
   "outputs": [],
   "source": [
    "# values() 的方法回傳一個 dict_values 的 view 物件，包含所有成員的 value\n",
    "print(extno.values())\n",
    "# 把 view 卸載\n",
    "value_list = list(extno.values())"
   ]
  },
  {
   "cell_type": "markdown",
   "metadata": {},
   "source": [
    "### § 多種生成新的 Dict 物件的方法\n",
    "- `dict()`\n",
    "- `dict.fromkeys()`\n",
    "- `dict(zip())`\n",
    "\n",
    "Python 的內建函式 `zip()` 可以用來將多組序列物件裡的成員，按照對應順序分拆打包在一序列的 tuple 裡。`dict()` 會將每個 tuple 的第一個元素當成 key。"
   ]
  },
  {
   "cell_type": "code",
   "execution_count": null,
   "metadata": {},
   "outputs": [],
   "source": [
    "# 可以從原本就是 key-value pair 的序列終生成\n",
    "dict_from_view = dict(item_list)\n",
    "print('dict from key-value sequence = {}'.format(dict_from_view))"
   ]
  },
  {
   "cell_type": "code",
   "execution_count": null,
   "metadata": {},
   "outputs": [],
   "source": [
    "# fromkeys() 可以從 list 中生成新的字典容器，value 都用預設值\n",
    "dict_from_keys = dict.fromkeys(key_list, 10000)\n",
    "print('dict from key list = {}'.format(dict_from_keys))"
   ]
  },
  {
   "cell_type": "code",
   "execution_count": null,
   "metadata": {},
   "outputs": [],
   "source": [
    "# zip 把兩個 list 裡的成員分拆打包成 tuple 序列\n",
    "print('\\ntwo lists after zipped: {}'.format(list(zip(value_list, key_list))))"
   ]
  },
  {
   "cell_type": "code",
   "execution_count": null,
   "metadata": {},
   "outputs": [],
   "source": [
    "# 新的 dict 用原本的 value 來當 key\n",
    "dict_from_zip = dict(zip(value_list, key_list))\n",
    "print('dict from zipping 2 lists = {}'.format(dict_from_zip))"
   ]
  },
  {
   "cell_type": "markdown",
   "metadata": {},
   "source": [
    "### § 常用的 Dict 物件方法"
   ]
  },
  {
   "cell_type": "code",
   "execution_count": null,
   "metadata": {},
   "outputs": [],
   "source": [
    "# 成員個數\n",
    "print('dict_from_view 有 {} 個成員'.format(len(dict_from_view)))"
   ]
  },
  {
   "cell_type": "code",
   "execution_count": null,
   "metadata": {},
   "outputs": [],
   "source": [
    "# get() 的方法常見用於讀取設定檔，沒有設定的參數就回傳預設值，不會沒有這個 key 就發生錯誤\n",
    "print('\"Operator\" 不是 dict_from_view 的成員? ({})'.format('Operator' not in dict_from_view))\n",
    "print('dict_from_view[\"Operator\"] = {}'.format(dict_from_view.get('Operator', 9999)))"
   ]
  },
  {
   "cell_type": "code",
   "execution_count": null,
   "metadata": {},
   "outputs": [],
   "source": [
    "# 檢查從 view 裡產生的物件\n",
    "print('\\ndict_from_view 的成員和 extno 都一樣嗎？ ({}),\\ndict_from_view 是不是跟 extno 參考同一個物件？ ({})'\n",
    "      .format(extno == dict_from_view, extno is dict_from_view))"
   ]
  },
  {
   "cell_type": "code",
   "execution_count": null,
   "metadata": {},
   "outputs": [],
   "source": [
    "# 也可以用 copy() 複製一份新的 dict 物件\n",
    "dict_from_copy = extno.copy()\n",
    "print('\\ndict_from_copy 的成員和 extno 都一樣嗎？ ({}),\\ndict_from_copy 是不是跟 extno 參考同一個物件？ ({})'\n",
    "      .format(extno == dict_from_copy, extno is dict_from_copy))"
   ]
  }
 ],
 "metadata": {
  "kernelspec": {
   "display_name": "Python 3",
   "language": "python",
   "name": "python3"
  },
  "language_info": {
   "codemirror_mode": {
    "name": "ipython",
    "version": 3
   },
   "file_extension": ".py",
   "mimetype": "text/x-python",
   "name": "python",
   "nbconvert_exporter": "python",
   "pygments_lexer": "ipython3",
   "version": "3.6.5"
  }
 },
 "nbformat": 4,
 "nbformat_minor": 2
}
