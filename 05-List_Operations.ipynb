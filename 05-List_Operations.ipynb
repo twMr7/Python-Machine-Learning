{
 "cells": [
  {
   "cell_type": "markdown",
   "metadata": {},
   "source": [
    "## 1.5 List 序列容器操作 List Operations\n",
    "\n",
    "List 是存放序列性資料的結構。語法使用逗號 `,` 分隔資料元素，用中括號（square brackets）`[` `]` 成對包住所有元素。List可以是巢狀多維度的，同一個List中也可以存放異質類型資料，不過通常使用方式還是以同類型的資料為主。\n",
    "\n",
    "List 在建立後，元素內容**可以**就地變更（mutable），元素內容可以按照儲存順序的index讀取及寫入，第一個元素index是0，語法為 **`[ index ]`**。\n",
    "\n",
    "| List 範例                          | 說明                                          |\n",
    "|------------------------------------|-----------------------------------------------|\n",
    "| `[]`                               | 空的 list                                     |\n",
    "| `[5, 6, 7, 8]`                     | 四個數字元素的 list                           |\n",
    "| `['code', [42, 3.1415], 1.23, {}]` | 巢狀、異質的 list                             |\n",
    "\n",
    "- 內建函式 `list()` 可以用來從現有物件的資料實體中生成一個新的list。\n",
    "- 內建函式 `len()` 可以用來回傳容器裡的元素個數。\n",
    "\n",
    "List 除了可以用一般序列容器的方法以外，另外還有提供可以就地變更的方法。請參閱官方文件 [4.6.3 Mutable Sequence Types](https://docs.python.org/3/library/stdtypes.html#typesseq-mutable)：\n",
    "- `append()` 追加一個元素在容器後面。\n",
    "- `extend()` 追加一系列的元素在容器後面。\n",
    "- `del L[m:n]` 刪除範圍內的元素，與 `L[m:n] = []` 相同。\n",
    "- `copy()` 產生一份複製，與 `L[:]` 相同。\n",
    "- `clear()` 移除所有的元素，與 `del L[:]` 相同。\n",
    "- `insert()` 插入元素到某個位置。\n",
    "- `remove()` 移除第一個出現的指定元素值。\n",
    "- `pop()` 回傳某個位置的元素值，並從容器中移除。\n",
    "- `sort()` 對元素就地排序。\n",
    "- `reverse()` 就地反轉元素順序。\n",
    "\n",
    "List 也可以用一般序列容器的共同方法，參閱官方文件 [4.6.1 Common Sequence Operations](https://docs.python.org/3/library/stdtypes.html#common-sequence-operations)。\n"
   ]
  },
  {
   "cell_type": "markdown",
   "metadata": {},
   "source": [
    "### § List 是可以 In-Place 就地變更的序列容器\n"
   ]
  },
  {
   "cell_type": "code",
   "execution_count": null,
   "metadata": {},
   "outputs": [],
   "source": [
    "L = [123, [4, 56], 'One-Two-Three', 7.89]\n",
    "print('L = {}.'.format(L))"
   ]
  },
  {
   "cell_type": "code",
   "execution_count": null,
   "metadata": {},
   "outputs": [],
   "source": [
    "# a += b 等同於 a = a + b\n",
    "L[0] += 12\n",
    "print('L = {}, 1st element is changed.'.format(L))"
   ]
  },
  {
   "cell_type": "code",
   "execution_count": null,
   "metadata": {},
   "outputs": [],
   "source": [
    "# a -= b 等同於 a = a - b\n",
    "L[1][1] -= 34\n",
    "print('L = {}, 2nd element is changed.'.format(L))"
   ]
  },
  {
   "cell_type": "code",
   "execution_count": null,
   "metadata": {},
   "outputs": [],
   "source": [
    "# a *= b 等同於 a = a * b\n",
    "L[2] *= 2\n",
    "print('L = {}, 3rd element is changed.'.format(L))"
   ]
  },
  {
   "cell_type": "code",
   "execution_count": null,
   "metadata": {},
   "outputs": [],
   "source": [
    "# a /= b 等同於 a = a / b\n",
    "L[3] /= 0.56\n",
    "print('L = {}, 4th element is changed.'.format(L))"
   ]
  },
  {
   "cell_type": "markdown",
   "metadata": {},
   "source": [
    "### § Slices 片段也可以就地變更"
   ]
  },
  {
   "cell_type": "code",
   "execution_count": null,
   "metadata": {},
   "outputs": [],
   "source": [
    "letters = ['a', 'b', 'c', 'd', 'e', 'f', 'g']\n",
    "print('letters = {}, {} elements.'.format(letters, len(letters)))"
   ]
  },
  {
   "cell_type": "code",
   "execution_count": null,
   "metadata": {},
   "outputs": [],
   "source": [
    "# 將序號 2 到 4 的元素分別用新的數值取代\n",
    "letters[2:5] = [ord('c'), ord('d'), ord('e')]\n",
    "print('letters = {}, {} elements.'.format(letters, len(letters)))"
   ]
  },
  {
   "cell_type": "code",
   "execution_count": null,
   "metadata": {},
   "outputs": [],
   "source": [
    "# 將序號 2 到 4 的元素全部用一個新的值取代\n",
    "letters[2:5] = 'X'\n",
    "print('letters = {}, {} elements.'.format(letters, len(letters)))"
   ]
  },
  {
   "cell_type": "code",
   "execution_count": null,
   "metadata": {},
   "outputs": [],
   "source": [
    "# 將序號 2 到 4 的元素刪除\n",
    "letters[2:5] = []\n",
    "print('letters = {}, {} elements.'.format(letters, len(letters)))"
   ]
  },
  {
   "cell_type": "code",
   "execution_count": null,
   "metadata": {},
   "outputs": [],
   "source": [
    "# 可以用空的 [] 來清空 list\n",
    "letters[:] = []\n",
    "print('letters = {}, {} elements.'.format(letters, len(letters)))"
   ]
  },
  {
   "cell_type": "markdown",
   "metadata": {},
   "source": [
    "### § 讀取的索引值還是不能超過範圍，但寫入和 Slice 的索引範圍可以。"
   ]
  },
  {
   "cell_type": "code",
   "execution_count": null,
   "metadata": {},
   "outputs": [],
   "source": [
    "# 讀取超過範圍的索引會出現 IndexError\n",
    "print(L[4])"
   ]
  },
  {
   "cell_type": "code",
   "execution_count": null,
   "metadata": {},
   "outputs": [],
   "source": [
    "# 但是 Slice 範圍超過只會被默默忽略\n",
    "print('L = {}.'.format(L[:10]))\n",
    "print('L reversed = {}.'.format(L[-1:-9:-1]))"
   ]
  },
  {
   "cell_type": "code",
   "execution_count": null,
   "metadata": {},
   "outputs": [],
   "source": [
    "# 寫入新的 list 物件到索引結束的後面，可以直接追加元素進去\n",
    "L[len(L):] = list(range(2))\n",
    "print('L extended = {}, now length = {}.'.format(L, len(L)))"
   ]
  },
  {
   "cell_type": "code",
   "execution_count": null,
   "metadata": {},
   "outputs": [],
   "source": [
    "# 寫入的 slice 索引超過結束的後面，一樣被忽略\n",
    "L[len(L) + 2:] = [3, 4]\n",
    "print('L extended = {}, now length = {}.'.format(L, len(L)))"
   ]
  },
  {
   "cell_type": "code",
   "execution_count": null,
   "metadata": {},
   "outputs": [],
   "source": [
    "# 寫入的 slice 索引橫跨原本有和沒有的範圍，則原本有的會被覆蓋，原本沒有的範圍會新增\n",
    "L[-2:] = [2, 3, 4, 5]\n",
    "print('L extended = {}, now length = {}.'.format(L, len(L)))"
   ]
  },
  {
   "cell_type": "markdown",
   "metadata": {},
   "source": [
    "### § 使用 List 的方法 (Methods) 來操作\n",
    "針對新增、刪除、插入等 in-place 變更的操作，原則上會建議使用 list 提供的具名函式的方法，這樣會使得程式碼可讀性比較高。"
   ]
  },
  {
   "cell_type": "code",
   "execution_count": null,
   "metadata": {},
   "outputs": [],
   "source": [
    "# 刪除所有元素\n",
    "L.clear()\n",
    "print('L = {}, length = {}'.format(L, len(L)))"
   ]
  },
  {
   "cell_type": "code",
   "execution_count": null,
   "metadata": {},
   "outputs": [],
   "source": [
    "# 新增一系列元素\n",
    "L.extend(range(3))\n",
    "print('L = {}, length = {}'.format(L, len(L)))"
   ]
  },
  {
   "cell_type": "code",
   "execution_count": null,
   "metadata": {},
   "outputs": [],
   "source": [
    "# 新增一個元素，注意和 extend() 方法有甚麼差異\n",
    "L.append(list(range(3)))\n",
    "print('L = {}, length = {}'.format(L, len(L)))"
   ]
  },
  {
   "cell_type": "code",
   "execution_count": null,
   "metadata": {},
   "outputs": [],
   "source": [
    "# 刪除最後一個元素\n",
    "del L[-1:]\n",
    "print('L = {}, length = {}'.format(L, len(L)))"
   ]
  },
  {
   "cell_type": "code",
   "execution_count": null,
   "metadata": {},
   "outputs": [],
   "source": [
    "# 複製三份 L 串成新的 list 物件，注意三份都是同一個物件的參考\n",
    "L2 = [L] * 3\n",
    "print('\\nL2 = {},\\n(L2[0], L2[1], L2[2]) 和 L 是同一份參考嗎？ ({}, {}, {})'\n",
    "      .format(L2, L2[0] is L, L2[1] is L, L2[2] is L))"
   ]
  },
  {
   "cell_type": "code",
   "execution_count": null,
   "metadata": {},
   "outputs": [],
   "source": [
    "# copy() 是所謂的 shallow copy\n",
    "L2copy = L2.copy()\n",
    "print('\\nL2copy = {},\\nL2copy 和 L2 是同一份參考嗎？ ({}),\\nL2copy[0] 和 L 是同一份參考嗎？ ({})'\n",
    "      .format(L2copy, L2copy is L2, L2copy[0] is L))"
   ]
  },
  {
   "cell_type": "code",
   "execution_count": null,
   "metadata": {},
   "outputs": [],
   "source": [
    "# 既然都參考到同一個物件，有一個內容改變了，其他也會跟著變\n",
    "L.insert(2, 0.5)\n",
    "L.append(1.5)\n",
    "print('\\nL = {}\\nL2 = {}\\nL2copy = {}\\n'.format(L, L2, L2copy))"
   ]
  },
  {
   "cell_type": "markdown",
   "metadata": {},
   "source": [
    "List 有提供 in-place 排序的方法 `sort()`。另外 Python 也有一個內建函式 `sorted()` 可以用來排序，這個內建函式不是 in-place 排序，但通用於所有支援迭代（iterator）的物件。"
   ]
  },
  {
   "cell_type": "code",
   "execution_count": null,
   "metadata": {},
   "outputs": [],
   "source": [
    "# 將元素內容排序\n",
    "L.sort()\n",
    "print('由小到大排序 L = {}'.format(L))"
   ]
  },
  {
   "cell_type": "code",
   "execution_count": null,
   "metadata": {},
   "outputs": [],
   "source": [
    "L.sort(reverse=True)\n",
    "print('由大到小排序 L = {}'.format(L))"
   ]
  },
  {
   "cell_type": "code",
   "execution_count": null,
   "metadata": {},
   "outputs": [],
   "source": [
    "# Python 內建函式 sorted 是回傳一個新的 list 物件，不是 in-place 排序。\n",
    "print('L 的內容由小到大排序，新的 list = {}，原本的 L = {} 沒變'.format(sorted(L), L))"
   ]
  },
  {
   "cell_type": "markdown",
   "metadata": {},
   "source": [
    "### § List Comprehension\n",
    "進階的 List 成員操作\n",
    "\n",
    "| 成員的操作                  | 說明                                                          |\n",
    "|-----------------------------|---------------------------------------------------------------|\n",
    "| `[運算 for x in S]`         | 針對每個 S 的成員 x 做運算，運算結果放到新的list物件中        |\n",
    "| `[運算 for x in S if 條件]` | 針對每個***符合條件***的成員 x 做運算，運算結果放到新的list物件中 |\n",
    "\n",
    "Reference for more: CHP 14, Learning Python 5e"
   ]
  },
  {
   "cell_type": "code",
   "execution_count": null,
   "metadata": {},
   "outputs": [],
   "source": [
    "#\n",
    "L = list(range(10))\n",
    "[n*2 for n in L]\n",
    "[n*2 for n in L if n % 2 == 0]"
   ]
  },
  {
   "cell_type": "code",
   "execution_count": null,
   "metadata": {},
   "outputs": [],
   "source": [
    "[(x, y) for x in [1,2,3] for y in [3,1,4] if x != y]"
   ]
  }
 ],
 "metadata": {
  "kernelspec": {
   "display_name": "Python 3",
   "language": "python",
   "name": "python3"
  },
  "language_info": {
   "codemirror_mode": {
    "name": "ipython",
    "version": 3
   },
   "file_extension": ".py",
   "mimetype": "text/x-python",
   "name": "python",
   "nbconvert_exporter": "python",
   "pygments_lexer": "ipython3",
   "version": "3.6.8"
  }
 },
 "nbformat": 4,
 "nbformat_minor": 2
}
