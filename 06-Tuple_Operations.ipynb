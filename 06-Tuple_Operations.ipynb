{
 "cells": [
  {
   "cell_type": "markdown",
   "metadata": {},
   "source": [
    "[![Open In Colab](https://colab.research.google.com/assets/colab-badge.svg)](https://colab.research.google.com/github/twMr7/Python-Tutorial/blob/master/06-Tuple_Operations.ipynb)\n",
    "\n",
    "# 6. Tuple 序列容器操作 Tuple Operations\n",
    "\n",
    "Tuple 也是存放序列性資料的結構。語法使用逗號 `,` 分隔資料元素，用小括號（parentheses）`(` `)` 成對包住所有元素，但括號可以省略。 Tuple可以是巢狀多維度的，同一個Tuple中也可以存放異質類型資料，通常使用在函式參數的傳遞與回傳。\n",
    "\n",
    "元素內容是按照儲存順序的 index 存取，語法為 **`[ index ]`**。 如果按照由前往後的順序，**第一個元素 index 是0**，依次往後遞增； 如果反過來由後往前存取，**最後一個元素 index 可以用-1**，依次向前遞減。\n",
    "\n",
    "| Tuple 範例                         | 說明                                          |\n",
    "|------------------------------------|-----------------------------------------------|\n",
    "| `()`                               | 空的 tuple                                    |\n",
    "| `('code',)`                        | 單一元素的 tuple                              |\n",
    "| `(5, 6, 7, 8)`                     | 四個數字元素的 tuple                          |\n",
    "| `('code', (42, 3.1415), 1.23, {})` | 巢狀、異質的 tuple                            |\n",
    "| `'code', 42, 3.1415, 1.23`         | 括號可以省略                                  |\n",
    "\n",
    "- 內建函式 `tuple()` 可以用來從現有物件的資料實體中生成一個新的tuple。\n",
    "- 內建函式 `len()` 可以用來回傳容器裡的元素個數。\n",
    "- 內建函式 `min()` 可以用來回傳容器中最小的元素。\n",
    "- 內建函式 `max()` 可以用來回傳容器中最大的元素。\n",
    "\n",
    "Tuple 在建立後，元素內容**不可以**就地變更（immutable）。Tuple 是序列容器，所以一般 immutable 序列容器的共同方法都可以用，參閱官方文件 [4.6.1 Common Sequence Operations](https://docs.python.org/3/library/stdtypes.html#common-sequence-operations)。\n"
   ]
  },
  {
   "cell_type": "markdown",
   "metadata": {},
   "source": [
    "### § Tuple 是不能 In-Place 就地變更的序列容器。"
   ]
  },
  {
   "cell_type": "code",
   "execution_count": null,
   "metadata": {},
   "outputs": [],
   "source": [
    "T = 123, '345', (5, 67), 7.89\n",
    "print('T = {}.'.format(T))"
   ]
  },
  {
   "cell_type": "code",
   "execution_count": null,
   "metadata": {},
   "outputs": [],
   "source": [
    "# 可以用索引讀取，但想要變更元素值一定會出現 TypeError\n",
    "#T[-1] = 987\n",
    "print('the last element is {}'.format(T[-1]))"
   ]
  },
  {
   "cell_type": "code",
   "execution_count": null,
   "metadata": {},
   "outputs": [],
   "source": [
    "# 但 tuple 裡面可以放 mutable 的物件\n",
    "T = [123], ['345'], [5, 67], [7.89]\n",
    "print('T = {}.'.format(T))"
   ]
  },
  {
   "cell_type": "code",
   "execution_count": null,
   "metadata": {},
   "outputs": [],
   "source": [
    "# tuple 裡的 mutable 物件內容當然可以 in-place 修改\n",
    "T[-1][0] = 987\n",
    "print('the last element is now {}'.format(T[-1]))"
   ]
  },
  {
   "cell_type": "markdown",
   "metadata": {},
   "source": [
    "### § 一般序列容器的串接、重複複製、和 slicing 都可以用"
   ]
  },
  {
   "cell_type": "code",
   "execution_count": null,
   "metadata": {},
   "outputs": [],
   "source": [
    "# 串接\n",
    "T += [6, 54], ['32']\n",
    "print('T = {}.'.format(T))"
   ]
  },
  {
   "cell_type": "code",
   "execution_count": null,
   "metadata": {},
   "outputs": [],
   "source": [
    "# 重複複製\n",
    "T = T[:3] * 3\n",
    "print('T = {}.'.format(T))"
   ]
  },
  {
   "cell_type": "code",
   "execution_count": null,
   "metadata": {},
   "outputs": [],
   "source": [
    "# tuple 的成員不能 in-place 修改，\n",
    "T[2] = 'X'"
   ]
  },
  {
   "cell_type": "code",
   "execution_count": null,
   "metadata": {},
   "outputs": [],
   "source": [
    "# 但元素是 mutable 的其元素可以 in-place 修改\n",
    "T[2][0] = 'X'\n",
    "print('T = {}.'.format(T))"
   ]
  },
  {
   "cell_type": "code",
   "execution_count": null,
   "metadata": {},
   "outputs": [],
   "source": [
    "# slicing 指定從原本的片段中產生新的 list 物件\n",
    "T = T[1:4]\n",
    "print('T = {}.'.format(T))"
   ]
  },
  {
   "cell_type": "markdown",
   "metadata": {},
   "source": [
    "### § 序列容器的元素卸載 (unpacking)"
   ]
  },
  {
   "cell_type": "code",
   "execution_count": null,
   "metadata": {},
   "outputs": [],
   "source": [
    "# 卸載常見於函式的回傳值\n",
    "a, b, c = T\n",
    "print('a = {}, b = {}, c = {}.'.format(a, b, c))"
   ]
  },
  {
   "cell_type": "markdown",
   "metadata": {},
   "source": [
    "### § 為甚麼要有 Tuple 這樣的容器\n",
    "有 List 這麼方便好用的容器了，為甚麼還需要 Tuple 這種限制多、操作方法少的容器？\n",
    "- Tuple 不能就地變更 (immutability) 的特性，對於維護程式中資料的完整性 (integrity) 是有幫助的。\n",
    "- Immutability 及 integrity 是維持物件關聯性記錄的重要特性，也就是這樣的特性，Dict 容器的 key 可以是 Tuple 但不能用 List。"
   ]
  }
 ],
 "metadata": {
  "kernelspec": {
   "display_name": "Python 3",
   "language": "python",
   "name": "python3"
  },
  "language_info": {
   "codemirror_mode": {
    "name": "ipython",
    "version": 3
   },
   "file_extension": ".py",
   "mimetype": "text/x-python",
   "name": "python",
   "nbconvert_exporter": "python",
   "pygments_lexer": "ipython3",
   "version": "3.6.8"
  }
 },
 "nbformat": 4,
 "nbformat_minor": 2
}
