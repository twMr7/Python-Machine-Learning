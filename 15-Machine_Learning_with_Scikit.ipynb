{
 "cells": [
  {
   "cell_type": "markdown",
   "metadata": {},
   "source": [
    "<p style=\"text-align:center\">\n",
    "    <a href=\"https://nbviewer.jupyter.org/github/twMr7/Python-Machine-Learning/blob/master/15-Machine_Learning_with_Scikit.ipynb\">\n",
    "        Open In Jupyter nbviewer\n",
    "        <img style=\"float: center;\" src=\"https://nbviewer.jupyter.org/static/img/nav_logo.svg\" width=\"120\" />\n",
    "    </a>\n",
    "</p>"
   ]
  },
  {
   "cell_type": "markdown",
   "metadata": {},
   "source": [
    "[![Open In Colab](https://colab.research.google.com/assets/colab-badge.svg)](https://colab.research.google.com/github/twMr7/Python-Machine-Learning/blob/master/15-Machine_Learning_with_Scikit.ipynb)\n",
    "\n",
    "# 15. Machine Learning with Scikit\n",
    "\n",
    "**Scikit-learn** 提供了簡單有效率的資料分析工具，其中整合了相當多在執行機器學習任務過程所需要的套件：\n",
    "+ 資料前處理： 數據正規化、類別欄位轉數值。\n",
    "+ 特徵工程： 特徵選取、特徵萃取、特徵降維。\n",
    "+ 學習模型： Classification/Regression, Parametric/Non-Parametric, Supervised/Unsupervised, ... 等方法。\n",
    "+ 模型選取： 交叉驗證、超參數搜尋、效能度量指標。\n",
    "\n",
    "本章節主要內容，介紹如何利用 scikit-learn 的工具來完成機器學習的任務流程。 按照一般機器學習專案的開發順序，一開始介紹準備資料時需要做的資料集切割、交叉驗證，前處理的數據正規化， ...\n",
    "\n",
    "| 工具函式庫套件      | 網址                                                                    |\n",
    "|---------------------|-------------------------------------------------------------------------|\n",
    "| **`pandas`**        | [pandas.pydata.org](https://pandas.pydata.org/docs/reference/index.html)|\n",
    "| **`matplotlib`**    | [matplotlib.org](https://matplotlib.org/stable/contents.html)           |\n",
    "| **`seaborn`**       | [seaborn.pydata.org](https://seaborn.pydata.org/)                       |\n",
    "| **`scikit-learn`**  | [scikit-learn.org](https://scikit-learn.org/stable/modules/classes.html)|\n",
    "\n",
    "+ [**15.1 資料集切割與交叉驗證**](#cross-validation)\n",
    "+ [**15.2 數據正規化**](#data-normalization)\n",
    "+ [**15.3 將工作流程封裝成 Pipeline**](#task-pipeline)\n",
    "+ [**15.4 效能評估指標**](#performance-metrics)\n",
    "+ [**參考資料**](#references)"
   ]
  },
  {
   "cell_type": "code",
   "execution_count": 1,
   "metadata": {},
   "outputs": [],
   "source": [
    "# 預載入必要模組與環境設定\n",
    "%matplotlib inline\n",
    "import matplotlib.pyplot as plt\n",
    "plt.style.use('seaborn-notebook')\n",
    "\n",
    "import numpy as np\n",
    "import pandas as pd\n",
    "import seaborn as sns"
   ]
  },
  {
   "cell_type": "code",
   "execution_count": 2,
   "metadata": {},
   "outputs": [],
   "source": [
    "# 輔助圖片顯示及嵌入 notebook\n",
    "from IPython.display import Image"
   ]
  },
  {
   "cell_type": "markdown",
   "metadata": {},
   "source": [
    "<a id=\"cross-validation\"></a>\n",
    "\n",
    "## 15.1 資料集切割與交叉驗證\n",
    "\n",
    "在之前的章節中提到過，我們希望機器學習訓練出來的模型具有泛化能力，在上線輸入真實世界的資料時仍然維持相同的預測效能。 為了在訓練過程就能模擬真實世界面臨沒見過的新資料的狀況，在開始訓練模型之前會先把資料集做切割，保留一小部分當測試集，剩下的是訓練模型用的訓練集。\n"
   ]
  },
  {
   "cell_type": "markdown",
   "metadata": {},
   "source": [
    "### § 資料集切割\n",
    "\n",
    "切割成兩份的大小如何分配？ 目前沒有一個固定有效的評估標準。 機器學習裡有幾種常見的的比例分配，如 **train：test = 7:3**、**8:2**、或**9:1**等等，如何決定分配的比例取決於資料集的大小。 一般來說，訓練集越多模型學得越好，但測試集太小也不能反映真實的狀況。 例如一個 600 筆的資料集，按照 9:1 的比例分配是 540:60 筆，直覺判斷可能會覺得測試集有點少，而按照 7:3 的比例分配是 420:180 筆，可能又會覺得訓練集太小。 但如果是 1000,000 筆的資料集，按照 9:1 的比例應該會覺得測試集可以再少一點，例如 20,000 筆的測試集可能就夠多了。\n"
   ]
  },
  {
   "cell_type": "markdown",
   "metadata": {},
   "source": [
    "#### ★ 測試集要有代表性 ★\n",
    "\n",
    "測試集一定要盡可能反映模型實際使用的狀況。 不僅僅是樣本數量大小夠不夠的問題而已，要注意所選出來的測試集裡：\n",
    "1. **各類別的分布狀況是否符合實際使用狀況？**\n",
    "2. **所輸入的特徵數據是否符合實際使用狀況？**\n",
    "\n",
    "例如： 生產線上的瑕疵檢測，實際狀況常常是瑕疵的資料比正常的資料少很多，所以訓練資料常常呈現極度不平衡的比例分布狀況。 如果使用大多數是瑕疵的資料來當測試集，實際上線時可能會發現 *false positive* 的誤判過高。 這非常可能就是訓練過程不符合實際狀況的測試誤導的，因為大量的瑕疵鼓勵了模型這樣的判斷可以得高分。\n",
    "\n",
    "例如： 深度學習裡常見的手法，在訓練資料太少時，採用 *Data Augmentation* 的手法來擴充資料時常是有效的。 據說有使用 webcam 偵測室內公共場所人群的模型，在訓練集裡加入了大量網路上抓來的圖片，結果證實是有助於模型學習出更好的辨識能力的。 像這樣擴充資料的方式，在測試集裡就應該避免放進網路抓來的圖片，也應該避免室外、路上、野外的拍攝場景，應該就只使用符合實際使用的目標情境下的影像。\n"
   ]
  },
  {
   "cell_type": "markdown",
   "metadata": {},
   "source": [
    "\n",
    "Scikit-learn 在 [`sklearn.model_selection`](https://scikit-learn.org/stable/modules/classes.html#module-sklearn.model_selection) 模組裡，提供了一個可以指定比例來做 train/test 分割的工具函式。\n",
    "+ [**`train_test_split()`**](https://scikit-learn.org/stable/modules/generated/sklearn.model_selection.train_test_split.html)。 \n"
   ]
  },
  {
   "cell_type": "code",
   "execution_count": 3,
   "metadata": {},
   "outputs": [
    {
     "name": "stdout",
     "output_type": "stream",
     "text": [
      "X =\n",
      " [[ 0  1]\n",
      " [ 2  3]\n",
      " [ 4  5]\n",
      " [ 6  7]\n",
      " [ 8  9]\n",
      " [10 11]\n",
      " [12 13]\n",
      " [14 15]\n",
      " [16 17]\n",
      " [18 19]]\n",
      "y =\n",
      " [0 1 2 3 4 5 6 7 8 9]\n"
     ]
    }
   ],
   "source": [
    "# 生成 10x2 大小的 X，以及對應的 10 個 y 數列\n",
    "X = np.arange(20).reshape((10, 2)) \n",
    "y = np.arange(10)\n",
    "\n",
    "print('X =\\n', X)\n",
    "print('y =\\n', y)"
   ]
  },
  {
   "cell_type": "code",
   "execution_count": 4,
   "metadata": {},
   "outputs": [
    {
     "name": "stdout",
     "output_type": "stream",
     "text": [
      "X_train =\n",
      " [[16 17]\n",
      " [ 2  3]\n",
      " [ 6  7]\n",
      " [10 11]\n",
      " [ 4  5]\n",
      " [12 13]]\n",
      "y_train =\n",
      " [8 1 3 5 2 6]\n",
      "X_test =\n",
      " [[ 8  9]\n",
      " [14 15]\n",
      " [ 0  1]\n",
      " [18 19]]\n",
      "y_test =\n",
      " [4 7 0 9]\n"
     ]
    }
   ],
   "source": [
    "from sklearn.model_selection import train_test_split\n",
    "\n",
    "X_train, X_test, y_train, y_test = train_test_split(X, y, test_size=0.33)\n",
    "\n",
    "print('X_train =\\n', X_train)\n",
    "print('y_train =\\n', y_train)\n",
    "print('X_test =\\n', X_test)\n",
    "print('y_test =\\n', y_test)"
   ]
  },
  {
   "cell_type": "code",
   "execution_count": 5,
   "metadata": {},
   "outputs": [
    {
     "data": {
      "text/plain": [
       "[array([0, 1, 2, 3, 4, 5, 6]), array([7, 8, 9])]"
      ]
     },
     "execution_count": 5,
     "metadata": {},
     "output_type": "execute_result"
    }
   ],
   "source": [
    "train_test_split(y, test_size=0.3, shuffle=False)"
   ]
  },
  {
   "cell_type": "markdown",
   "metadata": {},
   "source": [
    "### § 交叉驗證 Cross-Validation\n",
    "\n",
    "資料切割成訓練集跟測試集，也確認測試集符合實際狀況，那就可以直接拿訓練集來訓練模型，拿測試集來測試訓練後的模型效能了。\n",
    "\n",
    "Wait a minute，ちょっと待ってください，**請等一下**。\n",
    "\n",
    "機器學習模型的演算法都需要給適合的**超參數（hyperparameters）**，而且不是任何資料都適用同一組超參數。 實務上，針對一項機器學習任務的開發，我們會使用不同的超參數組合來分別訓練模型，再從測試這些模型的結果來決定最適合的超參數。 這個挑選的過程通常會由程式迭代自動反覆進行，如果使用測試集進行超參數的評估，所選的超參數仍然有可能是針對測試集過度擬合的結果，因為測試集已經洩漏了評估的結果，使得這個過程傾向於挑選讓模型過度擬合測試集的指標分數，因此所評估的效能指標已經沒辦法公正地代表泛化的程度。\n",
    "\n",
    "什麼？ 不測試不準，測試也不準，是在哈囉！\n",
    "\n",
    "為了解決這樣的問題，訓練模型的超參數挑選過程不使用測試集，會從訓練集裡面再保留一部份當作評估效能的驗證集（validation set）。 驗證完挑選了適當超參數後，使用這組超參數整個訓練集重新訓練一次，再跟測試集測試取得最後模型的效能指標。 所以典型的模型訓練就變成如下圖的流程。\n"
   ]
  },
  {
   "cell_type": "code",
   "execution_count": 6,
   "metadata": {},
   "outputs": [
    {
     "data": {
      "image/png": "[encoded data removed]",
      "text/plain": [
       "<IPython.core.display.Image object>"
      ]
     },
     "execution_count": 6,
     "metadata": {
      "image/png": {
       "width": 480
      }
     },
     "output_type": "execute_result"
    }
   ],
   "source": [
    "# 典型的模型訓練流程圖\n",
    "Image(url='https://scikit-learn.org/stable/_images/grid_search_workflow.png', embed=True, width=480)"
   ]
  },
  {
   "cell_type": "markdown",
   "metadata": {},
   "source": [
    "#### ★ K-fold Cross-Validation ★\n",
    "\n",
    "時常訓練集都已經不是很夠了，還要再保留一部分作驗證集那不是訓練集又變得更小了。 簡單直覺的解決方案就是： **全部的訓練集資料都分階段輪流當訓練集和驗證集**。 這個概念就是所謂的**交叉驗證（Cross-Validation）**，不用特別再保留一份當驗證集。 基本的做法就是把訓練集拆成 k 等份，每次都只保留其中某一份作驗證，其餘的作訓練，全部 k 個等份都同樣輪流作一次，然後把 k 次的結果作平均。 這樣就所有的資料都有訓練過也驗證過，這種交叉驗證的手法我們稱為 **k-Fold Cross-Validation**。 一般常見 5-fold 或 10-fold 交叉驗證，但跟資料集切割一樣，k 是多少取決於資料集的大小跟資料特性，並沒有一體適用的方式。\n",
    "\n",
    "由於 k-fold 交叉驗證會花比較久的時間運算，所以如果輸入資料是像語音、影像這種大型的數據，而且是有百萬筆等級的資料集，隨機抽樣 1% 都還有個一萬筆，那就不必一定要切割成 k 等份，隨機取適當數量的驗證集作驗證即可。\n",
    "\n",
    "有一種比較極端狀況的交叉驗證，當訓練資料很少時，可以每次只保留一筆作驗證，總共有 m 筆訓練資料的話，k-fold 就要做 m 次，這個方法叫做 **Leave One Out**。\n"
   ]
  },
  {
   "cell_type": "code",
   "execution_count": 6,
   "metadata": {},
   "outputs": [
    {
     "data": {
      "image/png": "[encoded data removed]",
      "text/plain": [
       "<IPython.core.display.Image object>"
      ]
     },
     "execution_count": 6,
     "metadata": {
      "image/png": {
       "width": 480
      }
     },
     "output_type": "execute_result"
    }
   ],
   "source": [
    "# k-fold 交叉驗證\n",
    "Image(url='https://scikit-learn.org/stable/_images/grid_search_cross_validation.png', embed=True, width=480)"
   ]
  },
  {
   "cell_type": "markdown",
   "metadata": {},
   "source": [
    "\n",
    "在 `sklearn.model_selection` 模組中，提供了好幾種用來交叉驗證的不同 k-fold 分割的迭代類別，這些類別都會提供一個 `split()` 的生成函數，被呼叫時會回傳 k 等份的資料序號。 常用的如下：\n",
    "\n",
    "+ [**`KFold()`**](https://scikit-learn.org/stable/modules/generated/sklearn.model_selection.KFold.html) - 一般的 k 等份分割。\n",
    "+ [**`RepeatedKFold()`**](https://scikit-learn.org/stable/modules/generated/sklearn.model_selection.RepeatedKFold.html) - 重覆 n 次的 k 等份分割。\n",
    "+ [**`StratifiedKFold()`**](https://scikit-learn.org/stable/modules/generated/sklearn.model_selection.StratifiedKFold.html) - 分割方式會維持每種類別的數量比例。\n",
    "+ [**`RepeatedStratifiedKFold()`**](https://scikit-learn.org/stable/modules/generated/sklearn.model_selection.RepeatedStratifiedKFold.html) - 重覆 n 次的維持類別比例分割。\n",
    "+ [**`LeaveOneOut()`**](https://scikit-learn.org/stable/modules/generated/sklearn.model_selection.LeaveOneOut.html) - 每次都只留一筆驗證。\n",
    "+ [**`ShuffleSplit()`**](https://scikit-learn.org/stable/modules/generated/sklearn.model_selection.ShuffleSplit.html) - 每次隨機排列的分割，是會重複取樣的方式。\n",
    "+ [**`StratifiedShuffleSplit()`**](https://scikit-learn.org/stable/modules/generated/sklearn.model_selection.StratifiedShuffleSplit.html) - 每次維持類別比例的隨機排列分割。\n"
   ]
  },
  {
   "cell_type": "code",
   "execution_count": 7,
   "metadata": {},
   "outputs": [
    {
     "name": "stdout",
     "output_type": "stream",
     "text": [
      "X =\n",
      " [[ 0  1]\n",
      " [ 2  3]\n",
      " [ 4  5]\n",
      " [ 6  7]\n",
      " [ 8  9]\n",
      " [10 11]\n",
      " [12 13]\n",
      " [14 15]\n",
      " [16 17]\n",
      " [18 19]]\n",
      "y =\n",
      " [0. 0. 0. 0. 0. 0. 1. 1. 1. 1.]\n"
     ]
    }
   ],
   "source": [
    "# 生成 10x2 大小的 X，以及對應的 10 個 y 數列\n",
    "X = np.arange(20).reshape((10, 2))\n",
    "y = np.zeros(10)\n",
    "y[6:] = 1.0\n",
    "\n",
    "print('X =\\n', X)\n",
    "print('y =\\n', y)"
   ]
  },
  {
   "cell_type": "code",
   "execution_count": 8,
   "metadata": {},
   "outputs": [
    {
     "name": "stdout",
     "output_type": "stream",
     "text": [
      ">> Fold # 0\n",
      " - Train index: [4 5 6 7 8 9] \n",
      " - X: [[ 8  9]\n",
      " [10 11]\n",
      " [12 13]\n",
      " [14 15]\n",
      " [16 17]\n",
      " [18 19]] \n",
      " - y: [0. 0. 1. 1. 1. 1.] \n",
      "\n",
      " - Test index: [0 1 2 3] \n",
      " - X: [[0 1]\n",
      " [2 3]\n",
      " [4 5]\n",
      " [6 7]] \n",
      " - y: [0. 0. 0. 0.] \n",
      "\n",
      ">> Fold # 1\n",
      " - Train index: [0 1 2 3 7 8 9] \n",
      " - X: [[ 0  1]\n",
      " [ 2  3]\n",
      " [ 4  5]\n",
      " [ 6  7]\n",
      " [14 15]\n",
      " [16 17]\n",
      " [18 19]] \n",
      " - y: [0. 0. 0. 0. 1. 1. 1.] \n",
      "\n",
      " - Test index: [4 5 6] \n",
      " - X: [[ 8  9]\n",
      " [10 11]\n",
      " [12 13]] \n",
      " - y: [0. 0. 1.] \n",
      "\n",
      ">> Fold # 2\n",
      " - Train index: [0 1 2 3 4 5 6] \n",
      " - X: [[ 0  1]\n",
      " [ 2  3]\n",
      " [ 4  5]\n",
      " [ 6  7]\n",
      " [ 8  9]\n",
      " [10 11]\n",
      " [12 13]] \n",
      " - y: [0. 0. 0. 0. 0. 0. 1.] \n",
      "\n",
      " - Test index: [7 8 9] \n",
      " - X: [[14 15]\n",
      " [16 17]\n",
      " [18 19]] \n",
      " - y: [1. 1. 1.] \n",
      "\n"
     ]
    }
   ],
   "source": [
    "from sklearn.model_selection import KFold\n",
    "\n",
    "kfold = KFold(n_splits=3)\n",
    "for k, (train_index, test_index) in enumerate(kfold.split(X, y)):\n",
    "    print('>> Fold #', k)\n",
    "    X_train, X_test = X[train_index], X[test_index]\n",
    "    y_train, y_test = y[train_index], y[test_index]\n",
    "    print(' - Train index:', train_index, '\\n - X:', X_train, '\\n - y:', y_train, '\\n')\n",
    "    print(' - Test index:', test_index, '\\n - X:', X_test, '\\n - y:', y_test, '\\n')"
   ]
  },
  {
   "cell_type": "code",
   "execution_count": 9,
   "metadata": {},
   "outputs": [
    {
     "data": {
      "image/png": "[encoded data removed]",
      "text/plain": [
       "<Figure size 864x576 with 4 Axes>"
      ]
     },
     "metadata": {
      "needs_background": "light"
     },
     "output_type": "display_data"
    }
   ],
   "source": [
    "# 生成 100 個新的範例資料點\n",
    "n_points = 100\n",
    "X = np.random.randn(100, 10)\n",
    "\n",
    "# y 包含三個分布非常不平衡的類別\n",
    "percentiles_classes = [0.1, 0.3, 0.6]\n",
    "y = np.hstack([[c] * int(100 * perc) for c, perc in enumerate(percentiles_classes)])\n",
    "\n",
    "# 要顯示的不同類別\n",
    "from sklearn.model_selection import (\n",
    "    KFold, ShuffleSplit, StratifiedKFold, StratifiedShuffleSplit\n",
    ")\n",
    "cvs = [KFold, ShuffleSplit, StratifiedKFold, StratifiedShuffleSplit]\n",
    "n_splits = 4\n",
    "\n",
    "# 用圖顯示不同 k-fold 類別的分割分配\n",
    "fig, axs = plt.subplots(2, 2, figsize=(12, 8))\n",
    "\n",
    "cmap_data = plt.cm.Paired\n",
    "cmap_cv = plt.cm.coolwarm\n",
    "x_lim = [0, n_points]\n",
    "y_lim = [n_splits+1.2, -0.2]\n",
    "y_ticks = np.arange(n_splits+1) + 0.5\n",
    "y_ticklabels = list(range(n_splits)) + ['class']\n",
    "\n",
    "from matplotlib.patches import Patch\n",
    "\n",
    "for n, (cv, ax) in enumerate(zip(cvs, axs.reshape(-1))):\n",
    "    cv_n = cv(n_splits=n_splits)\n",
    "    for k, (idxtrain, idxtest) in enumerate(cv_n.split(X=X, y=y)):\n",
    "        indices = np.zeros(X.shape[0])\n",
    "        indices[idxtest] = 1.0\n",
    "        ax.scatter(range(X.shape[0]), [k+0.5] * X.shape[0],\n",
    "                   c=indices, marker='_', lw=20, cmap=cmap_cv,\n",
    "                   vmin=-0.2, vmax=1.2)\n",
    "\n",
    "    # Plot the data classes at the end\n",
    "    ax.scatter(range(X.shape[0]), [k + 1.5] * X.shape[0],\n",
    "               c=y, marker='_', lw=20, cmap=cmap_data)\n",
    "\n",
    "    ax.set(xlim=x_lim, ylim=y_lim, yticks=y_ticks, yticklabels=y_ticklabels)\n",
    "    if n in [0, 2]:\n",
    "        ax.set_ylabel('CV iteration', fontsize=14)\n",
    "    if n in [2, 3]:\n",
    "        ax.set_xlabel('Sample index', fontsize=14)\n",
    "\n",
    "    ax.set_title(type(cv_n).__name__, fontsize=16, fontweight='bold')\n",
    "\n",
    "    ax.legend([Patch(color=cmap_cv(.8)), Patch(color=cmap_cv(.02))],\n",
    "              ['Testing set', 'Training set'], loc='lower right')\n",
    "\n",
    "plt.tight_layout()\n",
    "plt.show()"
   ]
  },
  {
   "cell_type": "markdown",
   "metadata": {},
   "source": [
    "Scikit-learn 的學習模型中，有一些是直接內建 **\"cv\"** 交叉驗證選項的，只需要指定如上述的這些分割類別。 如果模型沒有提供，或是自己寫的演算法需要另外做交叉驗證的流程時，在 `sklearn.model_selection` 模組中提供了 [**`cross_validate()`**](https://scikit-learn.org/stable/modules/generated/sklearn.model_selection.cross_validate.html) 的函式可以使用。 在下一段落中有範例示範如何使用。\n"
   ]
  },
  {
   "cell_type": "markdown",
   "metadata": {},
   "source": [
    "<a id=\"data-normalization\"></a>\n",
    "\n",
    "## 15.2 數據正規化\n",
    "\n",
    "原始數據時常會發現尺度差異大、或包含離群值（outlier）的現象，在前處理階段事先做適當的轉換，大多有助於模型的學習。 在 `sklearn.preprocessing` 模組中，提供了好幾種用來做正規化的轉換類別和函示，，類別都會提供 `fit()` 和 `transform()` 的方法來做轉換。\n",
    "\n",
    "+ [**`StandardScaler()`**](https://scikit-learn.org/stable/modules/generated/sklearn.preprocessing.StandardScaler.html) - 標準化，將欄位數據轉換至平均為0及單位標準差。\n",
    "+ [**`MinMaxScaler()`**](https://scikit-learn.org/stable/modules/generated/sklearn.preprocessing.MinMaxScaler.html) - 根據欄位數據的最大最小值，將數據轉換至 [0, 1] 之間。\n",
    "+ [**`RobustScaler()`**](https://scikit-learn.org/stable/modules/generated/sklearn.preprocessing.RobustScaler.html) - 根據欄位數據的四分位數分布做調整，比較穩健不受離群值影響。\n",
    "+ [**`Normalizer()`**](https://scikit-learn.org/stable/modules/generated/sklearn.preprocessing.Normalizer.html) - 針對樣本空間做向量正規化的轉換。\n"
   ]
  },
  {
   "cell_type": "code",
   "execution_count": 10,
   "metadata": {},
   "outputs": [],
   "source": [
    "from sklearn.model_selection import train_test_split\n",
    "\n",
    "# 以下範例使用之前章節用過的 WDBC 資料集\n",
    "class WdbcDataset:\n",
    "    def __init__(self):\n",
    "        # 載入 WDBC (Wisconsin Diagnostic Breast Cancer) 資料集\n",
    "        wdbc_url = 'https://archive.ics.uci.edu/ml/machine-learning-databases/breast-cancer-wisconsin/wdbc.data'\n",
    "        self.df = pd.read_csv(wdbc_url, header=None)\n",
    "\n",
    "        # 說明中描述的欄位名稱\n",
    "        column_mean = [\n",
    "            \"radius_mean\", \"texture_mean\", \"perimeter_mean\", \"area_mean\", \"smoothness_mean\",\n",
    "            \"compactness_mean\", \"concavity_mean\", \"concave points_mean\", \"symmetry_mean\", \"fractal_dimension_mean\"\n",
    "        ]\n",
    "        column_se = [\n",
    "            \"radius_se\", \"texture_se\", \"perimeter_se\", \"area_se\", \"smoothness_se\",\n",
    "            \"compactness_se\", \"concavity_se\", \"concave points_se\", \"symmetry_se\", \"fractal_dimension_se\"\n",
    "        ]\n",
    "        column_worst = [\n",
    "            \"radius_worst\", \"texture_worst\", \"perimeter_worst\", \"area_worst\", \"smoothness_worst\",\n",
    "            \"compactness_worst\", \"concavity_worst\", \"concave points_worst\", \"symmetry_worst\", \"fractal_dimension_worst\"\n",
    "        ]\n",
    "        column_names = [\"id\", \"diagnosis\"] + column_mean + column_se + column_worst\n",
    "\n",
    "        # 指定欄位名稱\n",
    "        self.df.columns = column_names\n",
    "        # 丟掉不需要的 \"id\" 欄位\n",
    "        self.df.drop(columns=['id'], inplace=True)\n",
    "        # 將 diagnosis 欄位良性與惡性的類別轉為 0 與 1\n",
    "        self.df.loc[:,'diagnosis'] = self.df.loc[:,'diagnosis'].map({'B':0, 'M':1})\n",
    "    \n",
    "    def get_xy(self):\n",
    "        # 取所有的 X\n",
    "        X = self.df.drop(columns=['diagnosis']).to_numpy()\n",
    "        # 取所有的 Y\n",
    "        Y = self.df.loc[:,'diagnosis'].to_numpy()\n",
    "        # 資料分割 train:test = 9:1\n",
    "        X_train, X_test, Y_train, Y_test = train_test_split(X, Y, test_size=0.1)\n",
    "        # 回傳資料副本\n",
    "        return X_train.copy(), X_test.copy(), Y_train.copy(), Y_test.copy()\n"
   ]
  },
  {
   "cell_type": "code",
   "execution_count": 11,
   "metadata": {},
   "outputs": [],
   "source": [
    "# 取得訓練集與測試集\n",
    "dsWdbc = WdbcDataset()\n",
    "X_train, X_test, Y_train, Y_test = dsWdbc.get_xy()\n"
   ]
  },
  {
   "cell_type": "code",
   "execution_count": 12,
   "metadata": {},
   "outputs": [
    {
     "data": {
      "text/html": [
       "<div>\n",
       "<style scoped>\n",
       "    .dataframe tbody tr th:only-of-type {\n",
       "        vertical-align: middle;\n",
       "    }\n",
       "\n",
       "    .dataframe tbody tr th {\n",
       "        vertical-align: top;\n",
       "    }\n",
       "\n",
       "    .dataframe thead th {\n",
       "        text-align: right;\n",
       "    }\n",
       "</style>\n",
       "<table border=\"1\" class=\"dataframe\">\n",
       "  <thead>\n",
       "    <tr style=\"text-align: right;\">\n",
       "      <th></th>\n",
       "      <th>fit_time</th>\n",
       "      <th>score_time</th>\n",
       "      <th>test_score</th>\n",
       "    </tr>\n",
       "  </thead>\n",
       "  <tbody>\n",
       "    <tr>\n",
       "      <th>0</th>\n",
       "      <td>0.144002</td>\n",
       "      <td>0.001001</td>\n",
       "      <td>0.980769</td>\n",
       "    </tr>\n",
       "    <tr>\n",
       "      <th>1</th>\n",
       "      <td>0.156001</td>\n",
       "      <td>0.000000</td>\n",
       "      <td>0.961538</td>\n",
       "    </tr>\n",
       "    <tr>\n",
       "      <th>2</th>\n",
       "      <td>0.155001</td>\n",
       "      <td>0.001009</td>\n",
       "      <td>0.960784</td>\n",
       "    </tr>\n",
       "    <tr>\n",
       "      <th>3</th>\n",
       "      <td>0.138999</td>\n",
       "      <td>0.001001</td>\n",
       "      <td>0.882353</td>\n",
       "    </tr>\n",
       "    <tr>\n",
       "      <th>4</th>\n",
       "      <td>0.136002</td>\n",
       "      <td>0.001001</td>\n",
       "      <td>1.000000</td>\n",
       "    </tr>\n",
       "    <tr>\n",
       "      <th>5</th>\n",
       "      <td>0.149003</td>\n",
       "      <td>0.000000</td>\n",
       "      <td>0.921569</td>\n",
       "    </tr>\n",
       "    <tr>\n",
       "      <th>6</th>\n",
       "      <td>0.148003</td>\n",
       "      <td>0.001000</td>\n",
       "      <td>0.960784</td>\n",
       "    </tr>\n",
       "    <tr>\n",
       "      <th>7</th>\n",
       "      <td>0.157005</td>\n",
       "      <td>0.000000</td>\n",
       "      <td>0.921569</td>\n",
       "    </tr>\n",
       "    <tr>\n",
       "      <th>8</th>\n",
       "      <td>0.097606</td>\n",
       "      <td>0.001002</td>\n",
       "      <td>0.941176</td>\n",
       "    </tr>\n",
       "    <tr>\n",
       "      <th>9</th>\n",
       "      <td>0.089607</td>\n",
       "      <td>0.001003</td>\n",
       "      <td>0.941176</td>\n",
       "    </tr>\n",
       "  </tbody>\n",
       "</table>\n",
       "</div>"
      ],
      "text/plain": [
       "   fit_time  score_time  test_score\n",
       "0  0.144002    0.001001    0.980769\n",
       "1  0.156001    0.000000    0.961538\n",
       "2  0.155001    0.001009    0.960784\n",
       "3  0.138999    0.001001    0.882353\n",
       "4  0.136002    0.001001    1.000000\n",
       "5  0.149003    0.000000    0.921569\n",
       "6  0.148003    0.001000    0.960784\n",
       "7  0.157005    0.000000    0.921569\n",
       "8  0.097606    0.001002    0.941176\n",
       "9  0.089607    0.001003    0.941176"
      ]
     },
     "execution_count": 12,
     "metadata": {},
     "output_type": "execute_result"
    }
   ],
   "source": [
    "from sklearn.linear_model import LogisticRegression\n",
    "from sklearn.model_selection import cross_validate\n",
    "\n",
    "sklr = LogisticRegression(max_iter=300)\n",
    "# 10-fold 交叉驗證，使用所有處理核心平行運算\n",
    "scores = cross_validate(sklr, X_train, Y_train, cv=10, n_jobs=-1)\n",
    "\n",
    "# 顯示每個 fold 的 accuracy 分數\n",
    "# 轉成 DataFrame 方便觀察，也方便輸出成檔案做記錄\n",
    "dfscores = pd.DataFrame(scores)\n",
    "dfscores"
   ]
  },
  {
   "cell_type": "code",
   "execution_count": 13,
   "metadata": {},
   "outputs": [
    {
     "data": {
      "text/plain": [
       "fit_time      0.137123\n",
       "score_time    0.000702\n",
       "test_score    0.947172\n",
       "dtype: float64"
      ]
     },
     "execution_count": 13,
     "metadata": {},
     "output_type": "execute_result"
    }
   ],
   "source": [
    "# 不同超參數訓練的模型比較，通常觀察平均分數\n",
    "dfscores.mean(axis=0)"
   ]
  },
  {
   "cell_type": "markdown",
   "metadata": {},
   "source": [
    "### § 用 k-fold 工具自己做交叉驗證\n",
    "\n",
    "請注意，上面使用 `cross_validate()` 函式的範例中，數據沒有事先做正規化。 但是交叉驗證的流程整個被包在函式中，正規化的轉換要如何在每個 fold `fit()` 訓練集，然後套用 `transform()` 到訓練集和驗證集？ 記得我們需要避免數據洩漏（Data Leakage），所有會偷學到測試集或驗證集資訊的方法都要避免，數據轉換的方法不能拿來 `fit()` 測試集或驗證集，所以上面例子在進行 `cross_validate()` 之前，想要先對 `X_train` 做正規化有困難。\n",
    "\n",
    "Scikit-learn 提供的解決方式是使用 **`Pipiline`** 封裝處理流程，這留在下一小節中介紹。 我們首先用 scikit-learn 提供的 k-fold 類別工具，自己試著來處理交叉驗證看看，應該會發現這些處理的步驟有點小囉嗦。"
   ]
  },
  {
   "cell_type": "code",
   "execution_count": 14,
   "metadata": {},
   "outputs": [
    {
     "name": "stdout",
     "output_type": "stream",
     "text": [
      "Fold #0 accuracy = 0.981\n",
      "Fold #1 accuracy = 0.942\n",
      "Fold #2 accuracy = 0.981\n",
      "Fold #3 accuracy = 0.942\n",
      "Fold #4 accuracy = 0.981\n",
      "Fold #5 accuracy = 0.981\n",
      "Fold #6 accuracy = 0.962\n",
      "Fold #7 accuracy = 0.981\n",
      "Fold #8 accuracy = 1.000\n",
      "Fold #9 accuracy = 0.981\n",
      "\n",
      "10-fold cross-validation result: average accuracy = 0.973\n"
     ]
    }
   ],
   "source": [
    "from sklearn.linear_model import LogisticRegression\n",
    "from sklearn.model_selection import StratifiedShuffleSplit\n",
    "from sklearn.preprocessing import StandardScaler\n",
    "\n",
    "sklr = LogisticRegression(max_iter=300)\n",
    "ss10fold = StratifiedShuffleSplit(n_splits=10)\n",
    "\n",
    "scores = []\n",
    "for k, (idx_train, idx_validate) in enumerate(ss10fold.split(X_train, Y_train)):\n",
    "    # fold k 分割\n",
    "    Xk_train, Xk_validate = X_train[idx_train], X_train[idx_validate]\n",
    "    Yk_train, Yk_validate = Y_train[idx_train], Y_train[idx_validate]\n",
    "    # 正規化\n",
    "    scaler_std = StandardScaler()\n",
    "    # 注意 fit() 只套用在這個 fold 的訓練分割\n",
    "    scaler_std.fit(Xk_train)\n",
    "    Xk_train = scaler_std.transform(Xk_train)\n",
    "    Xk_validate = scaler_std.transform(Xk_validate)\n",
    "    # 訓練模型\n",
    "    sklr.fit(Xk_train, Yk_train)\n",
    "    # 驗證這個模型的正確率\n",
    "    accuracy = sklr.score(Xk_validate, Yk_validate)\n",
    "    # 記錄這個模型的驗證正確率\n",
    "    scores.append(accuracy)\n",
    "    # 結束這個 fold，顯示訊息\n",
    "    print('Fold #{} accuracy = {:.3f}'.format(k, accuracy))\n",
    "# 交叉驗證完成，顯示平均分數\n",
    "print('\\n10-fold cross-validation result: average accuracy = {:.3f}'.format(np.mean(scores)))\n"
   ]
  },
  {
   "cell_type": "markdown",
   "metadata": {},
   "source": [
    "<a id=\"task-pipeline\"></a>\n",
    "\n",
    "## 15.3 將工作流程封裝成 Pipeline\n",
    "\n",
    "一個完整的機器學習專案，經常會包含多種輸入資料的清理、數據轉換，複雜一點的還會結合幾種不同的分類器模型、回歸模型在一起。 常用來簡化複雜工作流程的概念就是定義 [**`Pipeline`**](https://scikit-learn.org/stable/modules/generated/sklearn.pipeline.Pipeline.html)，scikit-learn 提供的 *pipeline* 工具與套件裡的其他處理工具搭配運用，可以輔助讓複雜的工作流程比較容易且清楚的定義出來。\n",
    "\n",
    "1. 定義在 pipeline 裡的數據轉換，本身知道如何適當`fit()`和`transform()`來避免數據洩漏。\n",
    "2. scikit-learn 裡的類別工具大多有相同的介面，如`fit()`、`transform()`、`predict()` ... 等。 封裝多個物件在 pipeline 之後，所有的操作都只對 pipeline 做一次就可以。\n",
    "\n",
    "+ [**`sklearn.pipeline.Pipeline(steps)`**](https://scikit-learn.org/stable/modules/generated/sklearn.pipeline.Pipeline.html)\n",
    "    - **steps**： 是工作流程的清單，照工作順序放 (*name*, *transform*) 的 tuple 清單，最後一個一定要是 estimator 類的學習模型物件。\n",
    "\n",
    "註： Scikit-learn 文件裡 **`Transformer`** 指的是有實作 `fit()` 及 `transform()` 方法的類別； **`Estimator`** 指的是任何有實作 `transfrom()` 方法的類別。"
   ]
  },
  {
   "cell_type": "code",
   "execution_count": 15,
   "metadata": {},
   "outputs": [
    {
     "data": {
      "text/html": [
       "<div>\n",
       "<style scoped>\n",
       "    .dataframe tbody tr th:only-of-type {\n",
       "        vertical-align: middle;\n",
       "    }\n",
       "\n",
       "    .dataframe tbody tr th {\n",
       "        vertical-align: top;\n",
       "    }\n",
       "\n",
       "    .dataframe thead th {\n",
       "        text-align: right;\n",
       "    }\n",
       "</style>\n",
       "<table border=\"1\" class=\"dataframe\">\n",
       "  <thead>\n",
       "    <tr style=\"text-align: right;\">\n",
       "      <th></th>\n",
       "      <th>fit_time</th>\n",
       "      <th>score_time</th>\n",
       "      <th>test_score</th>\n",
       "    </tr>\n",
       "  </thead>\n",
       "  <tbody>\n",
       "    <tr>\n",
       "      <th>0</th>\n",
       "      <td>0.019000</td>\n",
       "      <td>0.001001</td>\n",
       "      <td>0.980769</td>\n",
       "    </tr>\n",
       "    <tr>\n",
       "      <th>1</th>\n",
       "      <td>0.017001</td>\n",
       "      <td>0.000000</td>\n",
       "      <td>1.000000</td>\n",
       "    </tr>\n",
       "    <tr>\n",
       "      <th>2</th>\n",
       "      <td>0.016000</td>\n",
       "      <td>0.000000</td>\n",
       "      <td>0.980769</td>\n",
       "    </tr>\n",
       "    <tr>\n",
       "      <th>3</th>\n",
       "      <td>0.016000</td>\n",
       "      <td>0.000998</td>\n",
       "      <td>1.000000</td>\n",
       "    </tr>\n",
       "    <tr>\n",
       "      <th>4</th>\n",
       "      <td>0.017007</td>\n",
       "      <td>0.001000</td>\n",
       "      <td>1.000000</td>\n",
       "    </tr>\n",
       "    <tr>\n",
       "      <th>5</th>\n",
       "      <td>0.017006</td>\n",
       "      <td>0.001007</td>\n",
       "      <td>0.980769</td>\n",
       "    </tr>\n",
       "    <tr>\n",
       "      <th>6</th>\n",
       "      <td>0.019006</td>\n",
       "      <td>0.000990</td>\n",
       "      <td>0.980769</td>\n",
       "    </tr>\n",
       "    <tr>\n",
       "      <th>7</th>\n",
       "      <td>0.013005</td>\n",
       "      <td>0.001002</td>\n",
       "      <td>0.942308</td>\n",
       "    </tr>\n",
       "    <tr>\n",
       "      <th>8</th>\n",
       "      <td>0.012000</td>\n",
       "      <td>0.000000</td>\n",
       "      <td>0.961538</td>\n",
       "    </tr>\n",
       "    <tr>\n",
       "      <th>9</th>\n",
       "      <td>0.010998</td>\n",
       "      <td>0.001000</td>\n",
       "      <td>0.942308</td>\n",
       "    </tr>\n",
       "  </tbody>\n",
       "</table>\n",
       "</div>"
      ],
      "text/plain": [
       "   fit_time  score_time  test_score\n",
       "0  0.019000    0.001001    0.980769\n",
       "1  0.017001    0.000000    1.000000\n",
       "2  0.016000    0.000000    0.980769\n",
       "3  0.016000    0.000998    1.000000\n",
       "4  0.017007    0.001000    1.000000\n",
       "5  0.017006    0.001007    0.980769\n",
       "6  0.019006    0.000990    0.980769\n",
       "7  0.013005    0.001002    0.942308\n",
       "8  0.012000    0.000000    0.961538\n",
       "9  0.010998    0.001000    0.942308"
      ]
     },
     "execution_count": 15,
     "metadata": {},
     "output_type": "execute_result"
    }
   ],
   "source": [
    "# 再把剛剛不好處理的 cross-validate 用 Pipeline 做一次\n",
    "from sklearn.pipeline import Pipeline\n",
    "from sklearn.preprocessing import StandardScaler\n",
    "from sklearn.linear_model import LogisticRegression\n",
    "from sklearn.model_selection import StratifiedShuffleSplit, cross_validate\n",
    "\n",
    "# 定義包含正規化前處理的 pipeline\n",
    "pipelr = Pipeline(\n",
    "    steps=[\n",
    "        ('zscaler', StandardScaler()),\n",
    "        ('lr', LogisticRegression(max_iter=300))\n",
    "    ]\n",
    ")\n",
    "\n",
    "# 10-fold 交叉驗證，使用所有處理核心平行運算\n",
    "scores = cross_validate(pipelr, X_train, Y_train, cv=StratifiedShuffleSplit(n_splits=10), n_jobs=-1)\n",
    "\n",
    "# 顯示每個 fold 的 accuracy 分數\n",
    "dfscores = pd.DataFrame(scores)\n",
    "dfscores"
   ]
  },
  {
   "cell_type": "code",
   "execution_count": 16,
   "metadata": {},
   "outputs": [
    {
     "data": {
      "text/plain": [
       "fit_time      0.015702\n",
       "score_time    0.000700\n",
       "test_score    0.976923\n",
       "dtype: float64"
      ]
     },
     "execution_count": 16,
     "metadata": {},
     "output_type": "execute_result"
    }
   ],
   "source": [
    "# 觀察平均分數\n",
    "dfscores.mean(axis=0)"
   ]
  },
  {
   "cell_type": "markdown",
   "metadata": {},
   "source": [
    "<a id=\"performance-metrics\"></a>\n",
    "\n",
    "## 15.4 效能評估指標\n",
    "\n",
    "模型訓練後的效能度量方式，在模型設計初期的目標訂定就應決定。 不同模型有不同的適用量尺或評估指標，以下先介紹常用來評估二元分類模型的指標。 Scikit-learn 將這些工具放在 `sklearn.metrics` 模組中，常用的二元分類的度量指標如下：\n",
    "\n",
    "+ [**`accuracy_score()`**](https://scikit-learn.org/stable/modules/generated/sklearn.metrics.accuracy_score.html) - 平均正確率。\n",
    "+ [**`precision_score()`**](https://scikit-learn.org/stable/modules/generated/sklearn.metrics.precision_score.html) - 精確度。\n",
    "+ [**`recall_score()`**](https://scikit-learn.org/stable/modules/generated/sklearn.metrics.recall_score.html) - 即**敏感度（Sensitivity）**，也可用來計算**特異性（Specificity）**。\n",
    "+ [**`confusion_matrix()`**](https://scikit-learn.org/stable/modules/generated/sklearn.metrics.confusion_matrix.html) - 計算真陰性（True Negative）、假陽性（False Positive）、假陰性（False Negative）、真陽性（True Positive）。\n",
    "+ [**`roc_auc_score()`**](https://scikit-learn.org/stable/modules/generated/sklearn.metrics.roc_auc_score.html) - Area Under the Receiver Operating Characteristic Curve (ROC AUC) 。\n"
   ]
  },
  {
   "cell_type": "markdown",
   "metadata": {},
   "source": [
    "### § Confusion Matrix\n",
    "\n",
    "TODO: 製作完整 Confusion Matrix 與度量指標關係公式與圖表。\n",
    "\n",
    "[Sensitivity and specificity](https://en.wikipedia.org/wiki/Sensitivity_and_specificity)\n"
   ]
  },
  {
   "cell_type": "code",
   "execution_count": 17,
   "metadata": {},
   "outputs": [
    {
     "data": {
      "text/html": [
       "<div>\n",
       "<style scoped>\n",
       "    .dataframe tbody tr th:only-of-type {\n",
       "        vertical-align: middle;\n",
       "    }\n",
       "\n",
       "    .dataframe tbody tr th {\n",
       "        vertical-align: top;\n",
       "    }\n",
       "\n",
       "    .dataframe thead th {\n",
       "        text-align: right;\n",
       "    }\n",
       "</style>\n",
       "<table border=\"1\" class=\"dataframe\">\n",
       "  <thead>\n",
       "    <tr style=\"text-align: right;\">\n",
       "      <th></th>\n",
       "      <th>fit_time</th>\n",
       "      <th>score_time</th>\n",
       "      <th>test_roc_auc</th>\n",
       "      <th>test_accuracy</th>\n",
       "      <th>test_sensitivity</th>\n",
       "      <th>test_specificity</th>\n",
       "    </tr>\n",
       "  </thead>\n",
       "  <tbody>\n",
       "    <tr>\n",
       "      <th>0</th>\n",
       "      <td>0.016000</td>\n",
       "      <td>0.005000</td>\n",
       "      <td>0.958533</td>\n",
       "      <td>0.961538</td>\n",
       "      <td>0.947368</td>\n",
       "      <td>0.969697</td>\n",
       "    </tr>\n",
       "    <tr>\n",
       "      <th>1</th>\n",
       "      <td>0.014999</td>\n",
       "      <td>0.006001</td>\n",
       "      <td>1.000000</td>\n",
       "      <td>1.000000</td>\n",
       "      <td>1.000000</td>\n",
       "      <td>1.000000</td>\n",
       "    </tr>\n",
       "    <tr>\n",
       "      <th>2</th>\n",
       "      <td>0.013995</td>\n",
       "      <td>0.005001</td>\n",
       "      <td>0.921053</td>\n",
       "      <td>0.942308</td>\n",
       "      <td>0.842105</td>\n",
       "      <td>1.000000</td>\n",
       "    </tr>\n",
       "    <tr>\n",
       "      <th>3</th>\n",
       "      <td>0.014999</td>\n",
       "      <td>0.005003</td>\n",
       "      <td>0.984848</td>\n",
       "      <td>0.980769</td>\n",
       "      <td>1.000000</td>\n",
       "      <td>0.969697</td>\n",
       "    </tr>\n",
       "    <tr>\n",
       "      <th>4</th>\n",
       "      <td>0.015998</td>\n",
       "      <td>0.005003</td>\n",
       "      <td>1.000000</td>\n",
       "      <td>1.000000</td>\n",
       "      <td>1.000000</td>\n",
       "      <td>1.000000</td>\n",
       "    </tr>\n",
       "    <tr>\n",
       "      <th>5</th>\n",
       "      <td>0.018002</td>\n",
       "      <td>0.006008</td>\n",
       "      <td>0.958533</td>\n",
       "      <td>0.961538</td>\n",
       "      <td>0.947368</td>\n",
       "      <td>0.969697</td>\n",
       "    </tr>\n",
       "    <tr>\n",
       "      <th>6</th>\n",
       "      <td>0.020007</td>\n",
       "      <td>0.005995</td>\n",
       "      <td>1.000000</td>\n",
       "      <td>1.000000</td>\n",
       "      <td>1.000000</td>\n",
       "      <td>1.000000</td>\n",
       "    </tr>\n",
       "    <tr>\n",
       "      <th>7</th>\n",
       "      <td>0.016006</td>\n",
       "      <td>0.006005</td>\n",
       "      <td>0.947368</td>\n",
       "      <td>0.961538</td>\n",
       "      <td>0.894737</td>\n",
       "      <td>1.000000</td>\n",
       "    </tr>\n",
       "    <tr>\n",
       "      <th>8</th>\n",
       "      <td>0.012995</td>\n",
       "      <td>0.003003</td>\n",
       "      <td>0.932217</td>\n",
       "      <td>0.942308</td>\n",
       "      <td>0.894737</td>\n",
       "      <td>0.969697</td>\n",
       "    </tr>\n",
       "    <tr>\n",
       "      <th>9</th>\n",
       "      <td>0.009996</td>\n",
       "      <td>0.002998</td>\n",
       "      <td>0.947368</td>\n",
       "      <td>0.961538</td>\n",
       "      <td>0.894737</td>\n",
       "      <td>1.000000</td>\n",
       "    </tr>\n",
       "  </tbody>\n",
       "</table>\n",
       "</div>"
      ],
      "text/plain": [
       "   fit_time  score_time  test_roc_auc  test_accuracy  test_sensitivity  \\\n",
       "0  0.016000    0.005000      0.958533       0.961538          0.947368   \n",
       "1  0.014999    0.006001      1.000000       1.000000          1.000000   \n",
       "2  0.013995    0.005001      0.921053       0.942308          0.842105   \n",
       "3  0.014999    0.005003      0.984848       0.980769          1.000000   \n",
       "4  0.015998    0.005003      1.000000       1.000000          1.000000   \n",
       "5  0.018002    0.006008      0.958533       0.961538          0.947368   \n",
       "6  0.020007    0.005995      1.000000       1.000000          1.000000   \n",
       "7  0.016006    0.006005      0.947368       0.961538          0.894737   \n",
       "8  0.012995    0.003003      0.932217       0.942308          0.894737   \n",
       "9  0.009996    0.002998      0.947368       0.961538          0.894737   \n",
       "\n",
       "   test_specificity  \n",
       "0          0.969697  \n",
       "1          1.000000  \n",
       "2          1.000000  \n",
       "3          0.969697  \n",
       "4          1.000000  \n",
       "5          0.969697  \n",
       "6          1.000000  \n",
       "7          1.000000  \n",
       "8          0.969697  \n",
       "9          1.000000  "
      ]
     },
     "execution_count": 17,
     "metadata": {},
     "output_type": "execute_result"
    }
   ],
   "source": [
    "# 示範各 metrics 的使用\n",
    "from sklearn.metrics import (\n",
    "    make_scorer,\n",
    "    accuracy_score,\n",
    "    recall_score,\n",
    "    roc_auc_score,\n",
    "    roc_curve,\n",
    "    plot_roc_curve,\n",
    "    confusion_matrix\n",
    ")\n",
    "\n",
    "# 與前面範例相同的 pipeline 定義\n",
    "pipelr = Pipeline(\n",
    "    steps=[\n",
    "        ('zscaler', StandardScaler()),\n",
    "        ('lr', LogisticRegression(max_iter=300))\n",
    "    ]\n",
    ")\n",
    "\n",
    "# 交叉驗證過程可以指定多項評估指標\n",
    "binclass_scores = {\n",
    "    'roc_auc': make_scorer(roc_auc_score),\n",
    "    'accuracy': make_scorer(accuracy_score),\n",
    "    'sensitivity': make_scorer(recall_score, pos_label=1),\n",
    "    'specificity': make_scorer(recall_score, pos_label=0)\n",
    "}\n",
    "\n",
    "# 10-fold 交叉驗證，使用所有處理核心平行運算\n",
    "scores = cross_validate(\n",
    "    pipelr,\n",
    "    X_train,\n",
    "    Y_train,\n",
    "    scoring=binclass_scores,\n",
    "    cv=StratifiedShuffleSplit(n_splits=10),\n",
    "    n_jobs=-1\n",
    ")\n",
    "\n",
    "# 顯示每個 fold 的 accuracy 分數\n",
    "dfscores = pd.DataFrame(scores)\n",
    "dfscores"
   ]
  },
  {
   "cell_type": "code",
   "execution_count": 18,
   "metadata": {},
   "outputs": [
    {
     "data": {
      "text/plain": [
       "fit_time            0.015300\n",
       "score_time          0.005002\n",
       "test_roc_auc        0.964992\n",
       "test_accuracy       0.971154\n",
       "test_sensitivity    0.942105\n",
       "test_specificity    0.987879\n",
       "dtype: float64"
      ]
     },
     "execution_count": 18,
     "metadata": {},
     "output_type": "execute_result"
    }
   ],
   "source": [
    "# 觀察平均分數\n",
    "dfscores.mean(axis=0)"
   ]
  },
  {
   "cell_type": "markdown",
   "metadata": {},
   "source": [
    "### § 最後的模型評估\n",
    "\n",
    "記得交叉驗證目的是在找出最佳超參數，最後還是要拿所有訓練集來訓練一個最終模型與測試集做測試。\n"
   ]
  },
  {
   "cell_type": "code",
   "execution_count": 19,
   "metadata": {},
   "outputs": [
    {
     "name": "stdout",
     "output_type": "stream",
     "text": [
      "[Confusion Matrix]:\n",
      "  | TP: 21 | FP: 0 |\n",
      "  | FN: 0 | TN: 36 |\n",
      "\n",
      "[Testing Scores]:\n",
      "  * Sensitivity: 1.000\n",
      "  * Specificity: 1.000\n",
      "  * Accuracy: 1.000\n",
      "  * ROC AUC: 1.000\n"
     ]
    },
    {
     "data": {
      "image/png": "[encoded data removed]",
      "text/plain": [
       "<Figure size 576x432 with 1 Axes>"
      ]
     },
     "metadata": {
      "needs_background": "light"
     },
     "output_type": "display_data"
    }
   ],
   "source": [
    "# 與前面範例相同的 pipeline 定義，假設超參數就是最佳\n",
    "pipelr = Pipeline(\n",
    "    steps=[\n",
    "        ('zscaler', StandardScaler()),\n",
    "        ('lr', LogisticRegression(max_iter=300))\n",
    "    ]\n",
    ")\n",
    "\n",
    "# 直接訓練整個訓練集\n",
    "pipelr.fit(X_train, Y_train)\n",
    "# 已訓練模型用來預測測試集\n",
    "Y_predict = pipelr.predict(X_test)\n",
    "\n",
    "# confusion matrix\n",
    "TN, FP, FN, TP = confusion_matrix(Y_test, Y_predict).ravel()\n",
    "print('[Confusion Matrix]:\\n  | TP: {} | FP: {} |\\n  | FN: {} | TN: {} |\\n'.format(TP, FP, FN, TN))\n",
    "\n",
    "# sensitivity and specificity\n",
    "sensitivity = recall_score(Y_test, Y_predict, pos_label=1)\n",
    "specificity = recall_score(Y_test, Y_predict, pos_label=0)\n",
    "print('[Testing Scores]:\\n  * Sensitivity: {:.3f}\\n  * Specificity: {:.3f}'.format(sensitivity, specificity))\n",
    "\n",
    "# accuracy and ROC AUC\n",
    "accuracy = accuracy_score(Y_test, Y_predict)\n",
    "rocauc = roc_auc_score(Y_test, pipelr.predict_proba(X_test)[:,1])\n",
    "print('  * Accuracy: {:.3f}\\n  * ROC AUC: {:.3f}'.format(accuracy, rocauc))\n",
    "\n",
    "# plot ROC curve\n",
    "_, ax = plt.subplots(figsize=(8, 6))\n",
    "fpr, tpr, _ = roc_curve(Y_test, pipelr.predict_proba(X_test)[:,1])\n",
    "mean_fpr = np.linspace(0, 1, 100)\n",
    "interp_tpr = np.interp(mean_fpr, fpr, tpr)\n",
    "interp_tpr[0] = 0.0\n",
    "ax.plot(mean_fpr, interp_tpr, label='ROC AUC = {:.3f}'.format(rocauc), lw=2, alpha=0.8)\n",
    "# the diagonal line\n",
    "ax.plot([0, 1], [0, 1], linestyle='--', lw=2, color='#808080', alpha=0.8)\n",
    "ax.set(xlim=[-0.05, 1.05], ylim=[-0.05, 1.05])\n",
    "ax.set_xlabel('False Positive Rate', fontsize=16)\n",
    "ax.set_ylabel('True Positive Rate', fontsize=16)\n",
    "ax.legend(loc=\"lower right\", fontsize=14)\n",
    "plt.show()"
   ]
  },
  {
   "cell_type": "markdown",
   "metadata": {},
   "source": [
    "<a id=\"references\"></a>\n",
    "\n",
    "## References:\n",
    "\n",
    "1. Scikit-Learn, \"*User Guide*\", scikit-learn.org, [[link]](https://scikit-learn.org/stable/user_guide.html).\n"
   ]
  }
 ],
 "metadata": {
  "kernelspec": {
   "display_name": "Python 3",
   "language": "python",
   "name": "python3"
  },
  "language_info": {
   "codemirror_mode": {
    "name": "ipython",
    "version": 3
   },
   "file_extension": ".py",
   "mimetype": "text/x-python",
   "name": "python",
   "nbconvert_exporter": "python",
   "pygments_lexer": "ipython3",
   "version": "3.8.8"
  }
 },
 "nbformat": 4,
 "nbformat_minor": 2
}
