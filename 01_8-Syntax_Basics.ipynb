{
 "cells": [
  {
   "cell_type": "markdown",
   "metadata": {},
   "source": [
    "## 1.8 基本語法 Syntax Basics\n",
    "部分基本的述句（Statement）如指定（Assignment）及函式呼叫（Calls）等，已經在前面的單元及範例中介紹過了。以下的清單列出比較完整的基本語法述句，每個述句都包含簡單的範例。比較複雜的使用範例，或有部分述句屬於比較進階的使用情境，會在後面的單元中作更詳細的說明。\n",
    "+ [**Assignment**: 指定參考物件](#assignment)\n",
    "+ [**del**: 刪除物件參考](#del)\n",
    "+ [**Calls**: 函式呼叫](#calls)\n",
    "+ [**if-elif-else**: 條件式，選擇性執行](#if-elif-else)\n",
    "+ [**for-else**: 序列式迴圈，迭代執行](#for-else)\n",
    "+ [**while-else**: 條件式迴圈](#while-else)\n",
    "+ [**pass**: 略過](#pass)\n",
    "+ [**break**: 離開迴圈](#break)\n",
    "+ [**continue**: 以下忽略，繼續下一輪迴圈](#continue)\n",
    "+ [**def**: 定義及建立一個函式或方法](#def)\n",
    "+ [**return**: 函式結果返回](#return)\n",
    "+ [**lambda**: 匿名函式](#lambda)\n",
    "+ [**try-except-finally**: 例外處理述句](#try-except-finally)\n",
    "+ [**raise**: 觸發例外狀況](#raise)"
   ]
  },
  {
   "cell_type": "markdown",
   "metadata": {},
   "source": [
    "<a id=\"assignment\"></a>\n",
    "### Assignment：指定參考物件"
   ]
  },
  {
   "cell_type": "code",
   "execution_count": null,
   "metadata": {},
   "outputs": [],
   "source": [
    "a, b = 'good', 'bad'"
   ]
  },
  {
   "cell_type": "markdown",
   "metadata": {},
   "source": [
    "<a id=\"del\"></a>\n",
    "### del：刪除物件參考"
   ]
  },
  {
   "cell_type": "code",
   "execution_count": null,
   "metadata": {},
   "outputs": [],
   "source": [
    "c = list(a)\n",
    "del c[1]\n",
    "print(c)"
   ]
  },
  {
   "cell_type": "markdown",
   "metadata": {},
   "source": [
    "<a id=\"calls\"></a>\n",
    "### Calls: 函式呼叫"
   ]
  },
  {
   "cell_type": "code",
   "execution_count": null,
   "metadata": {},
   "outputs": [],
   "source": [
    "print('a is {}, and b is {}.'.format(a, b))"
   ]
  },
  {
   "cell_type": "markdown",
   "metadata": {},
   "source": [
    "<a id=\"if-elif-else\"></a>\n",
    "### if-elif-else: 條件式，選擇性執行"
   ]
  },
  {
   "cell_type": "code",
   "execution_count": null,
   "metadata": {},
   "outputs": [],
   "source": [
    "x = 'excellent'\n",
    "if x == a:\n",
    "    print('x is also good')\n",
    "elif x == b:\n",
    "    print('x is bad')\n",
    "else:\n",
    "    print('neither good nor bad, x is {}'.format(x))"
   ]
  },
  {
   "cell_type": "markdown",
   "metadata": {},
   "source": [
    "<a id=\"for-else\"></a>\n",
    "### for-else:  序列式迴圈，迭代執行"
   ]
  },
  {
   "cell_type": "code",
   "execution_count": null,
   "metadata": {},
   "outputs": [],
   "source": [
    "for c in x:\n",
    "    print(c)"
   ]
  },
  {
   "cell_type": "code",
   "execution_count": null,
   "metadata": {},
   "outputs": [],
   "source": [
    "for c in x:\n",
    "    # 試看看在 '0123456789' 字串中加入任意一個 'e', 'x', 'c', 'l', 'n', 't' 的字元，結果有甚麼不同？\n",
    "    if c not in '0123456789l':\n",
    "        print(c)\n",
    "    else:\n",
    "        break\n",
    "else:\n",
    "    print('all elements in x are iterated without break')"
   ]
  },
  {
   "cell_type": "markdown",
   "metadata": {},
   "source": [
    "<a id=\"while-else\"></a>\n",
    "### while-else:  條件式迴圈"
   ]
  },
  {
   "cell_type": "code",
   "execution_count": null,
   "metadata": {},
   "outputs": [],
   "source": [
    "e = ''\n",
    "while e != x:\n",
    "    e += x[len(e)]\n",
    "\n",
    "print(e)"
   ]
  },
  {
   "cell_type": "code",
   "execution_count": null,
   "metadata": {},
   "outputs": [],
   "source": [
    "while e in x:\n",
    "    print('\"{}\"'.format(e))\n",
    "    if len(e) > 1:\n",
    "        e = e[:-1]\n",
    "    elif len(e) == 1:\n",
    "        # 試看看 e = '0' 和 e = '' 的結果有甚麼不同？\n",
    "        e = '0'\n",
    "    else:\n",
    "        break\n",
    "else:\n",
    "    print('exit while loop without break')\n",
    "\n",
    "print(e)"
   ]
  },
  {
   "cell_type": "markdown",
   "metadata": {},
   "source": [
    "<a id=\"pass\"></a>\n",
    "### pass:  略過"
   ]
  },
  {
   "cell_type": "code",
   "execution_count": null,
   "metadata": {},
   "outputs": [],
   "source": [
    "# 沒作甚麼事，單純占用 CPU 時間的迴圈\n",
    "for i in range(2**25):\n",
    "    pass"
   ]
  },
  {
   "cell_type": "markdown",
   "metadata": {},
   "source": [
    "<a id=\"break\"></a>\n",
    "### break:  離開迴圈"
   ]
  },
  {
   "cell_type": "code",
   "execution_count": null,
   "metadata": {},
   "outputs": [],
   "source": [
    "for i in range(10):\n",
    "    if i > 5: break\n",
    "    print(i)"
   ]
  },
  {
   "cell_type": "markdown",
   "metadata": {},
   "source": [
    "<a id=\"continue\"></a>\n",
    "### continue: 以下忽略，繼續下一輪迴圈"
   ]
  },
  {
   "cell_type": "code",
   "execution_count": null,
   "metadata": {},
   "outputs": [],
   "source": [
    "n = list(range(10))\n",
    "for i in n:\n",
    "    if i < 5: continue\n",
    "    print(i)"
   ]
  },
  {
   "cell_type": "markdown",
   "metadata": {},
   "source": [
    "<a id=\"def\"></a>\n",
    "### def: 定義及建立一個函式或方法"
   ]
  },
  {
   "cell_type": "code",
   "execution_count": null,
   "metadata": {},
   "outputs": [],
   "source": [
    "# 定義一個函式 Add(): 印出兩個輸入參數相加的結果\n",
    "def Add(a, b):\n",
    "    print(a + b)\n",
    "\n",
    "Add(a=2, 3)"
   ]
  },
  {
   "cell_type": "markdown",
   "metadata": {},
   "source": [
    "<a id=\"return\"></a>\n",
    "### return: 函式結果返回"
   ]
  },
  {
   "cell_type": "code",
   "execution_count": null,
   "metadata": {},
   "outputs": [],
   "source": [
    "# 定義一個函式 Multiply(): 返回兩個輸入參數相乘的結果\n",
    "def Multiply(a, b):\n",
    "    return a * b\n",
    "\n",
    "print(Multiply(2, 3))"
   ]
  },
  {
   "cell_type": "markdown",
   "metadata": {},
   "source": [
    "<a id=\"lambda\"></a>\n",
    "### lambda: 匿名函式\n",
    "通常用在非常簡短的函式，以及需要 callback 函式的參數傳遞。"
   ]
  },
  {
   "cell_type": "code",
   "execution_count": null,
   "metadata": {},
   "outputs": [],
   "source": [
    "# 匿名函式沒有名字，但匿名函式的物件還是可以把參考指定給變數\n",
    "func_add = lambda x, y: x + y\n",
    "func_multiply = lambda x, y: x * y\n",
    "\n",
    "print(func_add(2 ,3))\n",
    "print(func_multiply(2, 3))"
   ]
  },
  {
   "cell_type": "code",
   "execution_count": null,
   "metadata": {},
   "outputs": [],
   "source": [
    "# lambda 常見用來傳遞函式物件，當成 callback function \n",
    "def calc(op_func, a, b):\n",
    "    return op_func(a, b)\n",
    "\n",
    "print(calc(func_add, 2, 3))\n",
    "print(calc(func_multiply, 2, 3))"
   ]
  },
  {
   "cell_type": "markdown",
   "metadata": {},
   "source": [
    "<a id=\"try-except-finally\"></a>\n",
    "### try-except-finally: 例外處理述句"
   ]
  },
  {
   "cell_type": "code",
   "execution_count": null,
   "metadata": {},
   "outputs": [],
   "source": [
    "# 注意： 為了展示 try-except-finally 語法，Divide() 函式回傳型態不一致，但這不是好的函式寫法\n",
    "def Divide(x, y):\n",
    "    try:\n",
    "        result = x / y\n",
    "    except ZeroDivisionError:\n",
    "        return 'divided by zero!'\n",
    "    else:\n",
    "        return result\n",
    "    finally:\n",
    "        print('executing finally clause')\n",
    "\n",
    "print(Divide(6, 3))\n",
    "print(Divide(6, 0))"
   ]
  },
  {
   "cell_type": "markdown",
   "metadata": {},
   "source": [
    "<a id=\"raise\"></a>\n",
    "### raise: 觸發例外狀況"
   ]
  },
  {
   "cell_type": "code",
   "execution_count": null,
   "metadata": {},
   "outputs": [],
   "source": [
    "raise IndexError"
   ]
  }
 ],
 "metadata": {
  "kernelspec": {
   "display_name": "Python 3",
   "language": "python",
   "name": "python3"
  },
  "language_info": {
   "codemirror_mode": {
    "name": "ipython",
    "version": 3
   },
   "file_extension": ".py",
   "mimetype": "text/x-python",
   "name": "python",
   "nbconvert_exporter": "python",
   "pygments_lexer": "ipython3",
   "version": "3.6.6"
  }
 },
 "nbformat": 4,
 "nbformat_minor": 2
}
