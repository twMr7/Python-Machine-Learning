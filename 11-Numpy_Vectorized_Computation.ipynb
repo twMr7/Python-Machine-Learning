{
 "cells": [
  {
   "cell_type": "markdown",
   "metadata": {},
   "source": [
    "<p style=\"text-align:center\">\n",
    "    <a href=\"https://nbviewer.jupyter.org/github/twMr7/Python-Machine-Learning/blob/master/11-Numpy_Vectorized_Computation.ipynb\">\n",
    "        Open In Jupyter nbviewer\n",
    "        <img style=\"float: center;\" src=\"https://nbviewer.jupyter.org/static/img/nav_logo.svg\" width=\"120\" />\n",
    "    </a>\n",
    "</p>"
   ]
  },
  {
   "cell_type": "markdown",
   "metadata": {},
   "source": [
    "[![Open In Colab](https://colab.research.google.com/assets/colab-badge.svg)](https://colab.research.google.com/github/twMr7/Python-Machine-Learning/blob/master/11-Numpy_Vectorized_Computation.ipynb)\n",
    "\n",
    "# 11. Numpy 向量運算\n",
    "\n",
    "機器學習的資料處理經常使用大量數據作運算，使用 Python 內建的資料類型，沒有辦法利用硬體在向量運算優化的好處。 [Numpy](http://www.numpy.org/) 是 Python 社群中公認的針對科學運算的標準套件，包含了強大的 **`ndarray`** 多維陣列類型，支援硬體優化的向量運算、簡單直覺的向量式操作、線性代數及傅立葉轉換等工具函式。\n",
    "+ [**11.1 建立向量、矩陣、與陣列**](#create-ndarray)\n",
    "+ [**11.2 索引及片段 Indexing and Slicing**](#indexing-slicing)\n",
    "+ [**11.3 陣列形狀的操作**](#shape-manipulation)\n",
    "+ [**11.4 數值陣列運算**](#numerical-operations)\n"
   ]
  },
  {
   "cell_type": "markdown",
   "metadata": {},
   "source": [
    "### § 使用 `numpy` 套件"
   ]
  },
  {
   "cell_type": "code",
   "execution_count": 1,
   "metadata": {},
   "outputs": [],
   "source": [
    "# 載入 numpy 的慣例方式\n",
    "import numpy as np"
   ]
  },
  {
   "cell_type": "code",
   "execution_count": 2,
   "metadata": {},
   "outputs": [],
   "source": [
    "# 部份範例會將資料視覺化，預先開啟 matplotlib 互動呈現\n",
    "%matplotlib inline\n",
    "import matplotlib.pyplot as plt"
   ]
  },
  {
   "cell_type": "markdown",
   "metadata": {},
   "source": [
    "### § 取得說明\n",
    "除了官方文件 ([https://numpy.org/doc/stable/](https://numpy.org/doc/stable/) ) 以外，互動式介面下也可以取得說明。"
   ]
  },
  {
   "cell_type": "code",
   "execution_count": null,
   "metadata": {},
   "outputs": [],
   "source": [
    "# 取得 np.array 的說明\n",
    "np.array?"
   ]
  },
  {
   "cell_type": "code",
   "execution_count": null,
   "metadata": {},
   "outputs": [],
   "source": [
    "# 忘記函式的全名怎麼拼，可以打前幾個字，然後按 Tab 鍵。\n",
    "np.con"
   ]
  },
  {
   "cell_type": "markdown",
   "metadata": {},
   "source": [
    "<a id=\"create-ndarray\"></a>\n",
    "\n",
    "## 11.1 建立向量、矩陣、與陣列\n",
    "\n",
    "Numpy 的 `ndarray` 是可以存放**同類型**資料的多維度陣列，在大多數的應用中，陣列元素的資料類型通常是數值。`ndarray` 類型的物件可以透過 [`array()`、`zeros()`、`ones()`、或 `identity()` 等函式建立](https://docs.scipy.org/doc/numpy/reference/routines.array-creation.html)。 描述 `ndarray` 的基本的屬性有：\n",
    "\n",
    "+ `ndarray.ndim` - 維度\n",
    "+ [`ndarray.shape`](https://docs.scipy.org/doc/numpy/reference/generated/numpy.ndarray.shape.html) - Tuple 表示每個維度的大小，也可以指定新的 Tuple 值改變陣列的形狀，類似 `reshape()` 函式，差別是 `shape` 屬性是就地改變。\n",
    "+ `ndarray.size` - 元素總數量\n",
    "+ [`ndarray.dtype`](https://docs.scipy.org/doc/numpy/user/basics.types.html) - 元素資料形態，數值通常使用 numpy 提供的 `np.float64`、`np.int32`、`np.int16`、 ...等，可以只寫 `float`、`int` 使用系統預設的浮點數或整數型態。\n"
   ]
  },
  {
   "cell_type": "code",
   "execution_count": 3,
   "metadata": {},
   "outputs": [
    {
     "name": "stdout",
     "output_type": "stream",
     "text": [
      "v: ndim=1, shape=(4,), size=4, dtype=int32\n"
     ]
    }
   ],
   "source": [
    "# a one-dimension vector\n",
    "v = np.array([0, 1, 2, 3])\n",
    "\n",
    "print('v: ndim={}, shape={}, size={}, dtype={}'.format(v.ndim, v.shape, v.size, v.dtype))"
   ]
  },
  {
   "cell_type": "code",
   "execution_count": 4,
   "metadata": {},
   "outputs": [
    {
     "name": "stdout",
     "output_type": "stream",
     "text": [
      "rowv: ndim=2, shape=(1, 4), size=4, dtype=int32\n"
     ]
    }
   ],
   "source": [
    "# a 1 x 4 row vector/matrix，明確指定使用整數型態的資料\n",
    "rowv = np.array([[0, 1, 2, 3]], dtype=int)\n",
    "\n",
    "print('rowv: ndim={}, shape={}, size={}, dtype={}'.format(rowv.ndim, rowv.shape, rowv.size, rowv.dtype))"
   ]
  },
  {
   "cell_type": "code",
   "execution_count": 5,
   "metadata": {},
   "outputs": [
    {
     "name": "stdout",
     "output_type": "stream",
     "text": [
      "colv: ndim=2, shape=(4, 1), size=4, dtype=float64\n"
     ]
    }
   ],
   "source": [
    "# a 4 x 1 column vector/matrix，明確指定使用浮點數型態的資料\n",
    "colv = np.array([[0],\n",
    "                 [1],\n",
    "                 [2],\n",
    "                 [3]], dtype=float)\n",
    "\n",
    "print('colv: ndim={}, shape={}, size={}, dtype={}'.format(colv.ndim, colv.shape, colv.size, colv.dtype))"
   ]
  },
  {
   "cell_type": "code",
   "execution_count": 6,
   "metadata": {},
   "outputs": [
    {
     "name": "stdout",
     "output_type": "stream",
     "text": [
      "Amat: ndim=2, shape=(3, 4), size=12, dtype=float64\n"
     ]
    }
   ],
   "source": [
    "# a 3 x 4 matrix，明確指定使用 np.float64 浮點數型態的資料\n",
    "Amat = np.array([[0, 1,  2,  3],\n",
    "                 [4, 5,  6,  7],\n",
    "                 [8, 9, 10, 11]], dtype=np.float64)\n",
    "\n",
    "print('Amat: ndim={}, shape={}, size={}, dtype={}'.format(Amat.ndim, Amat.shape, Amat.size, Amat.dtype))"
   ]
  },
  {
   "cell_type": "code",
   "execution_count": 7,
   "metadata": {},
   "outputs": [
    {
     "name": "stdout",
     "output_type": "stream",
     "text": [
      "A3d: ndim=3, shape=(2, 3, 4), size=24, dtype=int32\n"
     ]
    }
   ],
   "source": [
    "# a 2 x 3 x 4 array\n",
    "A3d = np.array([[[ 0,  1,  2,  3],\n",
    "                 [ 4,  5,  6,  7],\n",
    "                 [ 8,  9, 10, 11]],\n",
    "\n",
    "                [[12, 13, 14, 15],\n",
    "                 [16, 17, 18, 19],\n",
    "                 [20, 21, 22, 23]]])\n",
    "\n",
    "print('A3d: ndim={}, shape={}, size={}, dtype={}'.format(A3d.ndim, A3d.shape, A3d.size, A3d.dtype))"
   ]
  },
  {
   "cell_type": "code",
   "execution_count": 8,
   "metadata": {},
   "outputs": [
    {
     "data": {
      "text/plain": [
       "array([[0., 0., 0.],\n",
       "       [0., 0., 0.],\n",
       "       [0., 0., 0.]])"
      ]
     },
     "execution_count": 8,
     "metadata": {},
     "output_type": "execute_result"
    }
   ],
   "source": [
    "# 元素都為 0 的 3 x 3 matrix\n",
    "np.zeros((3, 3))"
   ]
  },
  {
   "cell_type": "code",
   "execution_count": 9,
   "metadata": {},
   "outputs": [
    {
     "data": {
      "text/plain": [
       "array([[1., 1., 1., 1.],\n",
       "       [1., 1., 1., 1.],\n",
       "       [1., 1., 1., 1.],\n",
       "       [1., 1., 1., 1.]])"
      ]
     },
     "execution_count": 9,
     "metadata": {},
     "output_type": "execute_result"
    }
   ],
   "source": [
    "# 元素都為 1 的 4 x 4 matrix\n",
    "np.ones((4, 4))"
   ]
  },
  {
   "cell_type": "code",
   "execution_count": 10,
   "metadata": {},
   "outputs": [
    {
     "data": {
      "text/plain": [
       "array([[1., 0., 0., 0., 0.],\n",
       "       [0., 1., 0., 0., 0.],\n",
       "       [0., 0., 1., 0., 0.],\n",
       "       [0., 0., 0., 1., 0.],\n",
       "       [0., 0., 0., 0., 1.]])"
      ]
     },
     "execution_count": 10,
     "metadata": {},
     "output_type": "execute_result"
    }
   ],
   "source": [
    "# 5 x 5 identity matrix\n",
    "np.identity(5)"
   ]
  },
  {
   "cell_type": "markdown",
   "metadata": {},
   "source": [
    "其他常用函式，可用來建立具備某種規律排列數列的 ndarray：\n",
    "+ [`np.arange`](https://docs.scipy.org/doc/numpy/reference/generated/numpy.arange.html) - 產生一維的固定間距的整數數列陣列。 類似 Python 內建函式 `range()` 的 numpy 陣列版。\n",
    "+ [`np.linspace`](https://docs.scipy.org/doc/numpy/reference/generated/numpy.linspace.html) - 在指定區間內產生線性（固定）間隔的指定數量的數列。\n",
    "+ [`np.logspace`](https://docs.scipy.org/doc/numpy/reference/generated/numpy.logspace.html) - 在指定區間內產生對數間隔的指定數量的數列。\n",
    "+ [`np.random.rand`](https://docs.scipy.org/doc/numpy/reference/generated/numpy.random.rand.html) - 產生指定大小的均勻分佈隨機亂數。\n",
    "+ [`np.random.randn`](https://docs.scipy.org/doc/numpy/reference/generated/numpy.random.randn.html) - 產生指定大小的高斯分佈隨機亂數。\n",
    "+ [`np.random.randint`](https://docs.scipy.org/doc/numpy/reference/generated/numpy.random.randint.html) - \n",
    "產生指定大小的隨機整數。"
   ]
  },
  {
   "cell_type": "code",
   "execution_count": 11,
   "metadata": {},
   "outputs": [
    {
     "data": {
      "text/plain": [
       "array([0, 1, 2, 3, 4, 5, 6, 7, 8, 9])"
      ]
     },
     "execution_count": 11,
     "metadata": {},
     "output_type": "execute_result"
    }
   ],
   "source": [
    "# [0, 10) 整數數列\n",
    "np.arange(10)"
   ]
  },
  {
   "cell_type": "code",
   "execution_count": 12,
   "metadata": {},
   "outputs": [
    {
     "data": {
      "text/plain": [
       "array([1, 3, 5, 7, 9])"
      ]
     },
     "execution_count": 12,
     "metadata": {},
     "output_type": "execute_result"
    }
   ],
   "source": [
    "# 指定範圍及間距，arange([start, ]stop, [step, ])，注意參數 [start, stop) 為半開放區間\n",
    "np.arange(1, 10, 2)"
   ]
  },
  {
   "cell_type": "code",
   "execution_count": 13,
   "metadata": {},
   "outputs": [
    {
     "data": {
      "text/plain": [
       "array([[[ 1,  2,  3,  4],\n",
       "        [ 5,  6,  7,  8],\n",
       "        [ 9, 10, 11, 12]],\n",
       "\n",
       "       [[13, 14, 15, 16],\n",
       "        [17, 18, 19, 20],\n",
       "        [21, 22, 23, 24]]])"
      ]
     },
     "execution_count": 13,
     "metadata": {},
     "output_type": "execute_result"
    }
   ],
   "source": [
    "# 時常用來產生數列後就轉成需要的維度形狀\n",
    "np.arange(1, 25).reshape((2, 3, 4))"
   ]
  },
  {
   "cell_type": "code",
   "execution_count": 14,
   "metadata": {},
   "outputs": [
    {
     "name": "stdout",
     "output_type": "stream",
     "text": [
      "[ 1.     2.125  3.25   4.375  5.5    6.625  7.75   8.875 10.   ]\n"
     ]
    }
   ],
   "source": [
    "# 指定範圍及點數，linspace(start, stop, num=50)，注意參數 [start, stop] 為封閉區間 \n",
    "linda = np.linspace(1, 10, num=9)\n",
    "print(linda)"
   ]
  },
  {
   "cell_type": "code",
   "execution_count": 15,
   "metadata": {},
   "outputs": [
    {
     "name": "stdout",
     "output_type": "stream",
     "text": [
      "[ 1.          1.33352143  1.77827941  2.37137371  3.16227766  4.21696503\n",
      "  5.62341325  7.49894209 10.        ]\n"
     ]
    }
   ],
   "source": [
    "# 指定範圍及點數，logspace(start, stop, num=50)，注意參數 [start, stop] 為封閉區間 \n",
    "logda = np.logspace(0, 1, num=9)\n",
    "print(logda)"
   ]
  },
  {
   "cell_type": "code",
   "execution_count": 16,
   "metadata": {},
   "outputs": [
    {
     "data": {
      "text/plain": [
       "[<matplotlib.lines.Line2D at 0x2c408b91cc0>]"
      ]
     },
     "execution_count": 16,
     "metadata": {},
     "output_type": "execute_result"
    },
    {
     "data": {
      "image/png": "[encoded data removed]",
      "text/plain": [
       "<Figure size 432x288 with 1 Axes>"
      ]
     },
     "metadata": {
      "needs_background": "light"
     },
     "output_type": "display_data"
    }
   ],
   "source": [
    "# visualize\n",
    "y = linda\n",
    "fig, ax = plt.subplots()\n",
    "ax.plot(linda, y, 'o-')\n",
    "ax.plot(logda, y, '*--')"
   ]
  },
  {
   "cell_type": "code",
   "execution_count": 17,
   "metadata": {},
   "outputs": [
    {
     "data": {
      "text/plain": [
       "[<matplotlib.lines.Line2D at 0x2c408bf9a58>]"
      ]
     },
     "execution_count": 17,
     "metadata": {},
     "output_type": "execute_result"
    },
    {
     "data": {
      "image/png": "[encoded data removed]",
      "text/plain": [
       "<Figure size 432x288 with 1 Axes>"
      ]
     },
     "metadata": {
      "needs_background": "light"
     },
     "output_type": "display_data"
    }
   ],
   "source": [
    "# linspace 適合用來生成數列代入函數求得一系列的函數值\n",
    "from numpy import pi\n",
    "x = np.linspace(0, 2*pi, 100)\n",
    "y = np.sin(x)\n",
    "\n",
    "fig, ax = plt.subplots()\n",
    "ax.plot(x, y)"
   ]
  },
  {
   "cell_type": "code",
   "execution_count": 18,
   "metadata": {},
   "outputs": [
    {
     "data": {
      "text/plain": [
       "<matplotlib.colorbar.Colorbar at 0x2c408cc45c0>"
      ]
     },
     "execution_count": 18,
     "metadata": {},
     "output_type": "execute_result"
    },
    {
     "data": {
      "image/png": "[encoded data removed]",
      "text/plain": [
       "<Figure size 432x288 with 2 Axes>"
      ]
     },
     "metadata": {
      "needs_background": "light"
     },
     "output_type": "display_data"
    }
   ],
   "source": [
    "# Uniform 分佈的隨機亂數\n",
    "image = np.random.rand(30, 30)\n",
    "\n",
    "# 二維的陣列資料都可以當成影像顯示\n",
    "plt.imshow(image)\n",
    "plt.colorbar()"
   ]
  },
  {
   "cell_type": "markdown",
   "metadata": {},
   "source": [
    "<a id=\"indexing-slicing\"></a>\n",
    "\n",
    "## 11.2 索引及片段 Indexing and Slicing\n",
    "\n",
    "### § 基本索引與片段\n",
    "\n",
    "`ndarray` 基本的索引和片段語法，與使用 Python 序列容器（如：List）的語法雷同，都是使用中括號內置索引序號或冒號間隔的片段範圍：\n",
    "+ 一維 `vector[index]`，二維 `matrix[index1, index2]`，高維 `array[index1, index2, index3, ...]`。\n",
    "+ 一維片段 `vector[start:end:step]`，二維片段 `matrix[start:end:step, start:end:step]`，高維片段 array 類推。\n",
    "\n",
    "片段的索引方式可以放在等號左邊，用來直接對原陣列的片段指派新的值。存取陣列的片段，返回的是原陣列裡的參考 view，不是複製一個新的陣列，如果明確需要另外複製一份相同內容的陣列，可以使用 **copy** 函式，`np.copy()` 或 `ndarray.copy()` 都可以用。\n",
    "\n",
    "以下索引及片段示意圖來自 *scipy-lectures.org*\n",
    "\n",
    "![numpy indexing](http://scipy-lectures.org/_images/numpy_indexing.png)"
   ]
  },
  {
   "cell_type": "code",
   "execution_count": 19,
   "metadata": {},
   "outputs": [
    {
     "name": "stdout",
     "output_type": "stream",
     "text": [
      "Amat =\n",
      " [[ 0  1  2  3]\n",
      " [ 4  5  6  7]\n",
      " [ 8  9 10 11]] \n",
      "\n"
     ]
    }
   ],
   "source": [
    "Amat = np.arange(12).reshape((3,4))\n",
    "print('Amat =\\n', Amat, '\\n')"
   ]
  },
  {
   "cell_type": "code",
   "execution_count": 20,
   "metadata": {},
   "outputs": [
    {
     "data": {
      "text/plain": [
       "array([0, 1, 2, 3])"
      ]
     },
     "execution_count": 20,
     "metadata": {},
     "output_type": "execute_result"
    }
   ],
   "source": [
    "# 索引維度若小於實際維度時，返回的是子陣列的參考\n",
    "Amat[0]"
   ]
  },
  {
   "cell_type": "code",
   "execution_count": 21,
   "metadata": {},
   "outputs": [
    {
     "name": "stdout",
     "output_type": "stream",
     "text": [
      "Amat[0][2] = 2，Amat[0, 2] = 2，兩種索引方式存取同一個位置的元素，\n",
      "但 Amat[0][2] 效率較差，因為 Amat[0] 會先產生一個暫時的陣列物件才存取索引2元素。\n"
     ]
    }
   ],
   "source": [
    "# 所以個別元素的存取，也可以使用另外一種效率較差的索引方式\n",
    "print('Amat[0][2] = {}，Amat[0, 2] = {}，兩種索引方式存取同一個位置的元素，\\n'\n",
    "      '但 Amat[0][2] 效率較差，因為 Amat[0] 會先產生一個暫時的陣列物件才存取索引2元素。'\n",
    "      .format(Amat[0][2], Amat[0, 2]))"
   ]
  },
  {
   "cell_type": "code",
   "execution_count": 22,
   "metadata": {},
   "outputs": [
    {
     "data": {
      "text/plain": [
       "array([[ 0,  7,  2,  7],\n",
       "       [ 4,  7,  6,  7],\n",
       "       [ 8,  7, 10,  7]])"
      ]
     },
     "execution_count": 22,
     "metadata": {},
     "output_type": "execute_result"
    }
   ],
   "source": [
    "# 片段可以放在等號左邊，用來直接對原陣列的片段指派新的值\n",
    "Amat[:, 1::2] = 7\n",
    "Amat"
   ]
  },
  {
   "cell_type": "code",
   "execution_count": 23,
   "metadata": {},
   "outputs": [
    {
     "name": "stdout",
     "output_type": "stream",
     "text": [
      "Amat =\n",
      " [[ 0  7  2  7]\n",
      " [ 4  7  6  7]\n",
      " [ 8  7 10  7]] \n",
      "\n",
      "AsliceCopy =\n",
      " [[9 9]\n",
      " [9 9]\n",
      " [9 9]]\n"
     ]
    }
   ],
   "source": [
    "# 明確複製新的物件\n",
    "AsliceCopy = Amat[:, 1::2].copy()\n",
    "# 更改元素值\n",
    "AsliceCopy[:] = 9\n",
    "\n",
    "# 不會更改到原陣列\n",
    "print('Amat =\\n', Amat, '\\n')\n",
    "print('AsliceCopy =\\n', AsliceCopy)"
   ]
  },
  {
   "cell_type": "markdown",
   "metadata": {},
   "source": [
    "### § 索引技巧 - 使用布林陣列\n",
    "\n",
    "陣列索引的中括號裡可以使用另外一個相同形狀及大小的 boolean 陣列（元素都是 `True` 或 `False` 的 `bool` 型態陣列），這種用法的 boolean 陣列又稱為遮罩（**mask**），索引的結果，會返回“複製”索引結果的元素值的一維陣列。 \n",
    "\n",
    "如果遮罩陣列的維度比被索引的陣列還要少的時候，不足的維度視爲片段全選。 例如： 若 `A` 爲二維陣列，`mask` 是一維的遮罩，則 `A[mask]` 等同於 `A[mask, :]`。 若索引結果無法形成有效的陣列形狀，則視爲錯誤的陳述。"
   ]
  },
  {
   "cell_type": "code",
   "execution_count": 26,
   "metadata": {},
   "outputs": [
    {
     "data": {
      "text/plain": [
       "Text(0.5, 1.0, 'Original Image')"
      ]
     },
     "execution_count": 26,
     "metadata": {},
     "output_type": "execute_result"
    },
    {
     "data": {
      "image/png": "[encoded data removed]",
      "text/plain": [
       "<Figure size 432x288 with 1 Axes>"
      ]
     },
     "metadata": {
      "needs_background": "light"
     },
     "output_type": "display_data"
    }
   ],
   "source": [
    "# 產生 [0, 255] 區間的亂數\n",
    "I = np.random.randint(0, 256, size=(16,16))\n",
    "\n",
    "# 準備將二維矩陣顯示成影像\n",
    "fig1, ax1 = plt.subplots()\n",
    "# 顯示原本的亂數影像\n",
    "ax1.imshow(I, cmap='gray')\n",
    "ax1.set_title('Original Image')"
   ]
  },
  {
   "cell_type": "code",
   "execution_count": 27,
   "metadata": {},
   "outputs": [
    {
     "data": {
      "text/plain": [
       "Text(0.5, 1.0, 'Mask image')"
      ]
     },
     "execution_count": 27,
     "metadata": {},
     "output_type": "execute_result"
    },
    {
     "data": {
      "image/png": "[encoded data removed]",
      "text/plain": [
       "<Figure size 432x288 with 1 Axes>"
      ]
     },
     "metadata": {
      "needs_background": "light"
     },
     "output_type": "display_data"
    }
   ],
   "source": [
    "# 取門檻值後作為遮罩，\"<\" 的比較運算下在一節中詳細介紹\n",
    "mask = I < 128\n",
    "# 顯示遮罩成影像\n",
    "fig2, ax2 = plt.subplots()\n",
    "ax2.imshow(mask, cmap='gray')\n",
    "ax2.set_title('Mask image')"
   ]
  },
  {
   "cell_type": "code",
   "execution_count": 28,
   "metadata": {},
   "outputs": [
    {
     "data": {
      "text/plain": [
       "Text(0.5, 1.0, 'I[mask] set to 0')"
      ]
     },
     "execution_count": 28,
     "metadata": {},
     "output_type": "execute_result"
    },
    {
     "data": {
      "image/png": "[encoded data removed]",
      "text/plain": [
       "<Figure size 432x288 with 1 Axes>"
      ]
     },
     "metadata": {
      "needs_background": "light"
     },
     "output_type": "display_data"
    }
   ],
   "source": [
    "# 遮罩陣列當成索引陣列，將原陣列中符合門檻值條件的元素都設成 0\n",
    "I[mask] = 0\n",
    "# 顯示修改後的二維矩陣成影像\n",
    "fig3, ax3 = plt.subplots()\n",
    "ax3.imshow(I, cmap='gray')\n",
    "ax3.set_title('I[mask] set to 0')"
   ]
  },
  {
   "cell_type": "code",
   "execution_count": 29,
   "metadata": {},
   "outputs": [
    {
     "data": {
      "text/plain": [
       "array([252, 253, 254, 255, 251])"
      ]
     },
     "execution_count": 29,
     "metadata": {},
     "output_type": "execute_result"
    }
   ],
   "source": [
    "# 遮罩索引的結果，會返回索引結果的元素值的一維陣列\n",
    "I[I > 250]"
   ]
  },
  {
   "cell_type": "code",
   "execution_count": 30,
   "metadata": {},
   "outputs": [
    {
     "name": "stdout",
     "output_type": "stream",
     "text": [
      "[[ 0  1  2  3  4  5  6]\n",
      " [ 7  8  9 10 11 12 13]\n",
      " [14 15 16 17 18 19 20]\n",
      " [21 22 23 24 25 26 27]\n",
      " [28 29 30 31 32 33 34]]\n"
     ]
    }
   ],
   "source": [
    "# 5 x 7 陣列\n",
    "Amat = np.arange(35).reshape(5,7)\n",
    "print(Amat)"
   ]
  },
  {
   "cell_type": "code",
   "execution_count": 31,
   "metadata": {},
   "outputs": [
    {
     "data": {
      "text/plain": [
       "array([[ 7,  8,  9, 10, 11, 12, 13],\n",
       "       [28, 29, 30, 31, 32, 33, 34]])"
      ]
     },
     "execution_count": 31,
     "metadata": {},
     "output_type": "execute_result"
    }
   ],
   "source": [
    "# 遮罩陣列比被索引陣列的維度還要少時，不足的維度視爲片段全選\n",
    "mask = np.array([False, True, False, False, True])\n",
    "Amat[mask]"
   ]
  },
  {
   "cell_type": "markdown",
   "metadata": {},
   "source": [
    "### § 索引技巧 - 使用整數索引陣列\n",
    "\n",
    "整數索引陣列裡的整數就是索引的序號，正整數或負整數的規則與單一索引值相同。 在索引陣列中，相同的索引序號可以重複出現，其結果就是重複選取相同元素。\n",
    "+ 對一維的陣列而言，索引陣列會返回一個結果的陣列，其維度與索引陣列相同。 \n",
    "+ 對高維的陣列而言，若索引陣列的維度比較少，不足的維度視爲片段全選。\n",
    "+ 片段、遮罩陣列、整數索引陣列可以同時穿插使用。\n",
    "\n",
    "以下索引技巧及片段示意圖來自 *scipy-lectures.org*\n",
    "\n",
    "![array of integer indexing](http://scipy-lectures.org/_images/numpy_fancy_indexing.png)"
   ]
  },
  {
   "cell_type": "code",
   "execution_count": 32,
   "metadata": {},
   "outputs": [
    {
     "name": "stdout",
     "output_type": "stream",
     "text": [
      "v = [ 0  1  2  3  4  5  6  7  8  9 10 11 12 13 14 15 16 17 18 19 20 21 22 23\n",
      " 24 25 26 27 28 29 30 31 32 33 34]\n"
     ]
    },
    {
     "data": {
      "text/plain": [
       "array([ 7,  7, 21, 23, 28, 30])"
      ]
     },
     "execution_count": 32,
     "metadata": {},
     "output_type": "execute_result"
    }
   ],
   "source": [
    "v = np.arange(35)\n",
    "print('v =', v)\n",
    "\n",
    "# 一維索引陣列，注意索引陣列是 Python List\n",
    "v[[7, 7, 21, 23, -7, -5]]"
   ]
  },
  {
   "cell_type": "code",
   "execution_count": 33,
   "metadata": {},
   "outputs": [
    {
     "name": "stdout",
     "output_type": "stream",
     "text": [
      "[[ 7  7]\n",
      " [21 23]\n",
      " [28 30]]\n"
     ]
    }
   ],
   "source": [
    "# 返回索引結果與索引陣列維度及形狀相同\n",
    "print(v[np.array([[7, 7], [21, 23], [-7, -5]])])"
   ]
  },
  {
   "cell_type": "code",
   "execution_count": 34,
   "metadata": {},
   "outputs": [
    {
     "name": "stdout",
     "output_type": "stream",
     "text": [
      "[ 0  1  2  3  4  5  6 99  8  9 10 11 12 13 14 15 16 17 18 19 20 99 22 99\n",
      " 24 25 26 27 99 29 99 31 32 33 34]\n"
     ]
    }
   ],
   "source": [
    "# 可以直接指派新值給這樣的索引位置\n",
    "v[np.array([[7, 7], [21, 23], [-7, -5]])] = 99\n",
    "print(v)"
   ]
  },
  {
   "cell_type": "code",
   "execution_count": 35,
   "metadata": {},
   "outputs": [
    {
     "name": "stdout",
     "output_type": "stream",
     "text": [
      "[[ 0  1  2  3  4  5  6]\n",
      " [99  8  9 10 11 12 13]\n",
      " [14 15 16 17 18 19 20]\n",
      " [99 22 99 24 25 26 27]\n",
      " [99 29 99 31 32 33 34]]\n"
     ]
    },
    {
     "data": {
      "text/plain": [
       "array([[99,  8,  9, 10, 11, 12, 13],\n",
       "       [99, 22, 99, 24, 25, 26, 27],\n",
       "       [99, 29, 99, 31, 32, 33, 34]])"
      ]
     },
     "execution_count": 35,
     "metadata": {},
     "output_type": "execute_result"
    }
   ],
   "source": [
    "# 索引陣列的維度比較少，不足的維度視爲片段全選\n",
    "v.shape = (5, 7)\n",
    "print(v)\n",
    "\n",
    "v[np.array([1, 3, 4])]"
   ]
  },
  {
   "cell_type": "markdown",
   "metadata": {},
   "source": [
    "<a id=\"shape-manipulation\"></a>\n",
    "\n",
    "## 11.3 陣列形狀的操作\n",
    "\n",
    "陣列因不同運算的需求，經常會需要操作[形狀的改變](https://docs.scipy.org/doc/numpy/reference/routines.array-manipulation.html)，如：轉置、增減維度、一維平坦化、堆疊串接、分拆重組等。"
   ]
  },
  {
   "cell_type": "markdown",
   "metadata": {},
   "source": [
    "### § 一維平坦化 Flatten"
   ]
  },
  {
   "cell_type": "code",
   "execution_count": 36,
   "metadata": {},
   "outputs": [
    {
     "name": "stdout",
     "output_type": "stream",
     "text": [
      "Amat =\n",
      " [[1 2 3]\n",
      " [4 5 6]\n",
      " [7 8 9]]\n",
      "Amat reshape = [1 2 3 4 5 6 7 8 9]\n",
      "Amat flatten = [1 2 3 4 5 6 7 8 9]\n"
     ]
    }
   ],
   "source": [
    "Amat = np.array([[1, 2, 3], [4, 5, 6], [7, 8, 9]])\n",
    "print('Amat =\\n', Amat)\n",
    "\n",
    "# 一維 row-major 平坦化，返回原陣列的 view（同物件參考）\n",
    "print('Amat reshape =', Amat.reshape(-1))\n",
    "\n",
    "# 一維 row-major 平坦化，返回原陣列的 copy\n",
    "print('Amat flatten =', Amat.flatten())"
   ]
  },
  {
   "cell_type": "markdown",
   "metadata": {},
   "source": [
    "### § 轉置 Transpose"
   ]
  },
  {
   "cell_type": "code",
   "execution_count": 37,
   "metadata": {},
   "outputs": [
    {
     "name": "stdout",
     "output_type": "stream",
     "text": [
      "Amat.T =\n",
      " [[1 4 7]\n",
      " [2 5 8]\n",
      " [3 6 9]]\n",
      "numpy.transpose(Amat) =\n",
      " [[1 4 7]\n",
      " [2 5 8]\n",
      " [3 6 9]]\n"
     ]
    }
   ],
   "source": [
    "# transpose\n",
    "print('Amat.T =\\n', Amat.T)\n",
    "print('numpy.transpose(Amat) =\\n', np.transpose(Amat))"
   ]
  },
  {
   "cell_type": "markdown",
   "metadata": {},
   "source": [
    "### § 增減維度"
   ]
  },
  {
   "cell_type": "code",
   "execution_count": 38,
   "metadata": {},
   "outputs": [
    {
     "name": "stdout",
     "output_type": "stream",
     "text": [
      "Aflat shape(9,) = [1 2 3 4 5 6 7 8 9]\n"
     ]
    }
   ],
   "source": [
    "Aflat = Amat.reshape(-1)\n",
    "print('Aflat shape{} = {}'.format(Aflat.shape, Aflat))"
   ]
  },
  {
   "cell_type": "code",
   "execution_count": 39,
   "metadata": {},
   "outputs": [
    {
     "name": "stdout",
     "output_type": "stream",
     "text": [
      "Aexp0 shape(1, 9) = [[1 2 3 4 5 6 7 8 9]]\n"
     ]
    }
   ],
   "source": [
    "# 擴增維度，以下操作與 Aflat[np.newaxis, :] 相同\n",
    "#Aexp0 = np.expand_dims(Aflat, axis=0)\n",
    "Aexp0 = Aflat[np.newaxis, :]\n",
    "print('Aexp0 shape{} = {}'.format(Aexp0.shape, Aexp0))"
   ]
  },
  {
   "cell_type": "code",
   "execution_count": 40,
   "metadata": {},
   "outputs": [
    {
     "name": "stdout",
     "output_type": "stream",
     "text": [
      "Aexp1 shape(9, 1) = [[1]\n",
      " [2]\n",
      " [3]\n",
      " [4]\n",
      " [5]\n",
      " [6]\n",
      " [7]\n",
      " [8]\n",
      " [9]]\n"
     ]
    }
   ],
   "source": [
    "# 擴增維度，以下操作與 Aflat[:, np.newaxis] 相同\n",
    "Aexp1 = np.expand_dims(Aflat, axis=1)\n",
    "print('Aexp1 shape{} = {}'.format(Aexp1.shape, Aexp1))"
   ]
  },
  {
   "cell_type": "code",
   "execution_count": 41,
   "metadata": {},
   "outputs": [
    {
     "name": "stdout",
     "output_type": "stream",
     "text": [
      "Aexp0 squeeze to (9,) = [1 2 3 4 5 6 7 8 9]\n"
     ]
    }
   ],
   "source": [
    "# 移除陣列的單一維度\n",
    "Asqueeze = np.squeeze(Aexp0)\n",
    "print('Aexp0 squeeze to {} = {}'.format(Asqueeze.shape, Asqueeze))"
   ]
  },
  {
   "cell_type": "markdown",
   "metadata": {},
   "source": [
    "### § 堆疊、串接、重組\n",
    "\n",
    "許多 numpy 操作或運算陣列的方法都有一個 `axis` 參數，例如以下範例中示範的 [`concatenate`](https://docs.scipy.org/doc/numpy/reference/generated/numpy.concatenate.html)。 這個 `axis` 參數通常是用來指定該方法要套用的方向：\n",
    "\n",
    "+ 第一個維度（`axis=0`）是列（**row**）方向或稱垂直（**vertical**）方向\n",
    "+ 第二個維度（`axis=1`）的行（**column**）方向或稱水平（**horizontal**）方向\n",
    "+ 其他更高維度的方向（axis = 2, 3, 4, ...)\n",
    "\n",
    "有的方法還可以使用 `axis=None` 的設定，這個無軸向的操作則視不同方法有不同的意義。\n",
    "\n",
    "| row0 | col1 | col2 | col3 | col4 | ...  | colN  |\n",
    "|------|----- |----- |----- |----- |----- |-----  |\n",
    "| row1 |  \n",
    "| row2 |\n",
    "| row3 |\n",
    "| row4 |\n",
    "| ...  |\n",
    "| rowN |\n"
   ]
  },
  {
   "cell_type": "code",
   "execution_count": 42,
   "metadata": {},
   "outputs": [
    {
     "name": "stdout",
     "output_type": "stream",
     "text": [
      "[[0. 0. 0.]\n",
      " [0. 0. 0.]\n",
      " [0. 0. 0.]] \n",
      "\n",
      "[[1. 1. 1.]\n",
      " [1. 1. 1.]\n",
      " [1. 1. 1.]] \n",
      "\n",
      "[[0. 0. 0. 1. 1. 1.]\n",
      " [0. 0. 0. 1. 1. 1.]\n",
      " [0. 0. 0. 1. 1. 1.]]\n"
     ]
    }
   ],
   "source": [
    "# 建立一黑一白的 3 x 3 陣列\n",
    "B, W = np.zeros((3,3)), np.ones((3,3))\n",
    "print(B, '\\n'); print(W, '\\n')\n",
    "\n",
    "# 沿水平方向串接\n",
    "BnW = np.concatenate((B, W), axis=1)\n",
    "print(BnW)"
   ]
  },
  {
   "cell_type": "code",
   "execution_count": 43,
   "metadata": {},
   "outputs": [
    {
     "name": "stdout",
     "output_type": "stream",
     "text": [
      "[[1. 1. 1. 0. 0. 0.]\n",
      " [1. 1. 1. 0. 0. 0.]\n",
      " [1. 1. 1. 0. 0. 0.]] \n",
      "\n"
     ]
    }
   ],
   "source": [
    "# 翻轉，用 axis 參數指定翻轉方向\n",
    "WnB = np.flip(BnW, axis=1)\n",
    "print(WnB, '\\n')"
   ]
  },
  {
   "cell_type": "code",
   "execution_count": 44,
   "metadata": {},
   "outputs": [
    {
     "name": "stdout",
     "output_type": "stream",
     "text": [
      "[[0. 0. 0. 1. 1. 1.]\n",
      " [0. 0. 0. 1. 1. 1.]\n",
      " [0. 0. 0. 1. 1. 1.]\n",
      " [1. 1. 1. 0. 0. 0.]\n",
      " [1. 1. 1. 0. 0. 0.]\n",
      " [1. 1. 1. 0. 0. 0.]]\n"
     ]
    }
   ],
   "source": [
    "# 沿垂直方向串接\n",
    "BnW_WnB = np.concatenate((BnW, WnB), axis=0)\n",
    "print(BnW_WnB)"
   ]
  },
  {
   "cell_type": "code",
   "execution_count": 45,
   "metadata": {},
   "outputs": [
    {
     "data": {
      "text/plain": [
       "<matplotlib.image.AxesImage at 0x2c408ead048>"
      ]
     },
     "execution_count": 45,
     "metadata": {},
     "output_type": "execute_result"
    },
    {
     "data": {
      "image/png": "[encoded data removed]",
      "text/plain": [
       "<Figure size 432x288 with 1 Axes>"
      ]
     },
     "metadata": {
      "needs_background": "light"
     },
     "output_type": "display_data"
    }
   ],
   "source": [
    "# 重複區塊如貼瓷磚\n",
    "ChessBoard = np.tile(BnW_WnB, (2,2))\n",
    "fig, ax = plt.subplots()\n",
    "ax.imshow(ChessBoard, cmap='gray')"
   ]
  },
  {
   "cell_type": "markdown",
   "metadata": {},
   "source": [
    "<a id=\"numerical-operations\"></a>\n",
    "\n",
    "## 11.4 數值陣列運算\n",
    "\n",
    "### § Element-wise 算數及比較運算\n",
    "\n",
    "`ndarray` 常用的算數及比較運算操作是定義為對每個元素的逐項（element-wise）操作，然後返回運算結果的 `ndarray` 物件。\n",
    "\n",
    "+ **比較運算子** - 運算結果返回 `bool` 陣列。\n",
    "\n",
    "| 比較運算操作           | 說明          |\n",
    "|------------------------|---------------|\n",
    "| **X < Y**              | 小於          |\n",
    "| **X <= Y**             | 小於或等於    |\n",
    "| **X > Y**              | 大於          |\n",
    "| **X >= Y**             | 大於或等於    |\n",
    "| **X == Y**             | 等於          |\n",
    "| **X != Y**             | 不等於        |\n",
    "| **logical_and(X, Y)**  | 真值邏輯 AND  |\n",
    "| **logical_or(X, Y)**   | 真值邏輯 OR   |\n",
    "| **logical_xor(X, Y)**  | 真值邏輯 XOR  |\n",
    "| **logical_not(X)**     | 真值邏輯 NOT  |\n",
    "\n",
    "Note： 要比較兩個陣列（array-wise）是否形狀大小及元素全部相同，可以使用 `array_equal(X, Y)` 函式。\n",
    "\n",
    "+ **算數運算子** - 運算結果返回數值陣列。\n",
    "\n",
    "| 算數運算操作          | 說明               | in-place 操作   |\n",
    "|-----------------------|--------------------|-----------------|\n",
    "| **X + Y, X - Y**      | 加法，減法         | **+=, -=**      |\n",
    "| **X \\* Y, X / Y**     | 乘法，除法         | **\\*=, /=**     |\n",
    "| **X // Y, X % Y**     | 取商，取餘數       | **//=, %=**     |\n",
    "| **X\\*\\*Y**            | 指數次方           | **\\*\\*=**       |\n",
    "| **X &#124; Y, X & Y** | 位元 OR，AND       | **&#124;=, &=** |\n",
    "| **X << Y, X >> Y**    | 位元左位移，右位移 | **<<=, >>=**    |\n",
    "| **X ^ Y**             | 位元 XOR           | **^=**          |\n",
    "\n",
    "+ **一元算數運算子** - 運算結果返回數值陣列。\n",
    "\n",
    "| 算數運算操作  | 說明         |\n",
    "|---------------|--------------|\n",
    "| **-X**        | 取負數       |\n",
    "| **~X**        | 位元反相     |"
   ]
  },
  {
   "cell_type": "code",
   "execution_count": 46,
   "metadata": {},
   "outputs": [
    {
     "name": "stdout",
     "output_type": "stream",
     "text": [
      "a == b => [False  True False  True]\n",
      "a > b => [False False  True False]\n"
     ]
    }
   ],
   "source": [
    "# 元素逐項（element-wise）比較\n",
    "a = np.array([1, 2, 3, 4])\n",
    "b = np.array([4, 2, 2, 4])\n",
    "print('a == b =>', a == b)\n",
    "print('a > b =>', a > b)"
   ]
  },
  {
   "cell_type": "code",
   "execution_count": 47,
   "metadata": {},
   "outputs": [
    {
     "name": "stdout",
     "output_type": "stream",
     "text": [
      "a, b 陣列是否完全相等： False\n",
      "a, c 陣列是否完全相等： True\n"
     ]
    }
   ],
   "source": [
    "# 陣列整體（array-wise）比較\n",
    "a = np.array([1, 2, 3, 4])\n",
    "b = np.array([4, 2, 2, 4])\n",
    "c = np.array([1, 2, 3, 4])\n",
    "print('a, b 陣列是否完全相等：', np.array_equal(a, b))\n",
    "print('a, c 陣列是否完全相等：', np.array_equal(a, c))"
   ]
  },
  {
   "cell_type": "code",
   "execution_count": 48,
   "metadata": {},
   "outputs": [
    {
     "name": "stdout",
     "output_type": "stream",
     "text": [
      "真值邏輯比較 a OR b： [ True  True  True False]\n",
      "真值邏輯比較 a AND b： [ True False False False]\n"
     ]
    }
   ],
   "source": [
    "# 陣列真值邏輯比較\n",
    "a = np.array([1, 1, 0, 0], dtype=bool)\n",
    "b = np.array([1, 0, 1, 0], dtype=bool)\n",
    "print('真值邏輯比較 a OR b：', np.logical_or(a, b))\n",
    "print('真值邏輯比較 a AND b：', np.logical_and(a, b))"
   ]
  },
  {
   "cell_type": "code",
   "execution_count": 49,
   "metadata": {},
   "outputs": [
    {
     "name": "stdout",
     "output_type": "stream",
     "text": [
      "a + b = [5 4 5 8]\n",
      "b * c = [ 4  4  6 16]\n",
      "a + b * c = [ 5  6  9 20]\n",
      "(a + b) / c = [5.         2.         1.66666667 2.        ]\n"
     ]
    }
   ],
   "source": [
    "# 陣列元素逐項（element-wise）運算\n",
    "a = np.array([1, 2, 3, 4])\n",
    "b = np.array([4, 2, 2, 4])\n",
    "c = np.array([1, 2, 3, 4])\n",
    "print('a + b =', a + b)\n",
    "print('b * c =', b * c)\n",
    "print('a + b * c =', a + b * c)\n",
    "print('(a + b) / c =', (a + b) / c)"
   ]
  },
  {
   "cell_type": "markdown",
   "metadata": {},
   "source": [
    "### § 散播 Broadcasting\n",
    "\n",
    "上述二元運算的一般形式中，除了兩個陣列運算元（**X, Y**）的形狀大小都一致以外，numpy 也容許在符合散播（**broadcasting**）條件下運算元形狀大小不一樣。 基本的散播相容的規則是：\n",
    "1. 兩個陣列維度大小相等，或\n",
    "2. 其中有一個維度大小是 1。\n",
    "\n",
    "以下散播機制的示意圖來自 *scipy-lectures.org*\n",
    "![numpy broadcasting 1](http://scipy-lectures.org/_images/numpy_broadcasting.png)\n",
    "\n",
    "看似複雜的散播機制，其實都是為了簡化計算及程式碼的算式，讓程式碼更直覺、更自然、有更高的可讀性。以下範例及示意圖來自 [numpy 官方手冊](https://docs.scipy.org/doc/numpy/user/theory.broadcasting.html)：\n",
    "```\n",
    ">>> a = array([1.0, 2.0, 3.0])\n",
    ">>> b = 2.0\n",
    ">>> a * b\n",
    "array([ 2.,  4.,  6.])\n",
    "```\n",
    "![numpy broadcasting 2](https://numpy.org/doc/stable/_images/theory.broadcast_1.gif)"
   ]
  },
  {
   "cell_type": "code",
   "execution_count": 50,
   "metadata": {},
   "outputs": [
    {
     "name": "stdout",
     "output_type": "stream",
     "text": [
      "[[ 0  1  2  3]\n",
      " [ 4  5  6  7]\n",
      " [ 8  9 10 11]]\n",
      "[[0 1 2 3]\n",
      " [4 5 6 7]\n",
      " [0 0 0 0]]\n"
     ]
    }
   ],
   "source": [
    "Amat = np.arange(12).reshape(3, 4)\n",
    "print(Amat)\n",
    "\n",
    "# 之前看過的片段指派新值，其實暗中運用了 broadcasting\n",
    "Amat[2] = 0\n",
    "print(Amat)"
   ]
  },
  {
   "cell_type": "code",
   "execution_count": 51,
   "metadata": {},
   "outputs": [
    {
     "name": "stdout",
     "output_type": "stream",
     "text": [
      "[[0.         1.         2.         3.         4.         5.        ]\n",
      " [1.         1.41421356 2.23606798 3.16227766 4.12310563 5.09901951]\n",
      " [2.         2.23606798 2.82842712 3.60555128 4.47213595 5.38516481]\n",
      " [3.         3.16227766 3.60555128 4.24264069 5.         5.83095189]\n",
      " [4.         4.12310563 4.47213595 5.         5.65685425 6.40312424]\n",
      " [5.         5.09901951 5.38516481 5.83095189 6.40312424 7.07106781]]\n"
     ]
    },
    {
     "data": {
      "text/plain": [
       "<matplotlib.colorbar.Colorbar at 0x2c408fdce10>"
      ]
     },
     "execution_count": 51,
     "metadata": {},
     "output_type": "execute_result"
    },
    {
     "data": {
      "image/png": "[encoded data removed]",
      "text/plain": [
       "<Figure size 432x288 with 2 Axes>"
      ]
     },
     "metadata": {
      "needs_background": "light"
     },
     "output_type": "display_data"
    }
   ],
   "source": [
    "# 計算距離\n",
    "x, y = np.arange(6).reshape((6,1)), np.arange(6).reshape((1,6))\n",
    "distance = np.sqrt(x ** 2 + y ** 2)\n",
    "print(distance)\n",
    "plt.pcolor(distance, cmap='jet')\n",
    "plt.colorbar()"
   ]
  },
  {
   "cell_type": "code",
   "execution_count": 52,
   "metadata": {},
   "outputs": [
    {
     "name": "stdout",
     "output_type": "stream",
     "text": [
      "[[0.         1.         2.         3.         4.         5.        ]\n",
      " [1.         1.41421356 2.23606798 3.16227766 4.12310563 5.09901951]\n",
      " [2.         2.23606798 2.82842712 3.60555128 4.47213595 5.38516481]\n",
      " [3.         3.16227766 3.60555128 4.24264069 5.         5.83095189]\n",
      " [4.         4.12310563 4.47213595 5.         5.65685425 6.40312424]\n",
      " [5.         5.09901951 5.38516481 5.83095189 6.40312424 7.07106781]]\n"
     ]
    },
    {
     "data": {
      "text/plain": [
       "(array([[0],\n",
       "        [1],\n",
       "        [2],\n",
       "        [3],\n",
       "        [4],\n",
       "        [5]]), array([[0, 1, 2, 3, 4, 5]]))"
      ]
     },
     "execution_count": 52,
     "metadata": {},
     "output_type": "execute_result"
    }
   ],
   "source": [
    "# 前一個計算距離的範例，使用 np.ogrid 可達到相同目的\n",
    "x, y = np.ogrid[0:6, 0:6]\n",
    "print(np.sqrt(x ** 2 + y ** 2))\n",
    "x, y"
   ]
  },
  {
   "cell_type": "code",
   "execution_count": 53,
   "metadata": {},
   "outputs": [
    {
     "name": "stdout",
     "output_type": "stream",
     "text": [
      "[[0.         1.         2.         3.         4.         5.        ]\n",
      " [1.         1.41421356 2.23606798 3.16227766 4.12310563 5.09901951]\n",
      " [2.         2.23606798 2.82842712 3.60555128 4.47213595 5.38516481]\n",
      " [3.         3.16227766 3.60555128 4.24264069 5.         5.83095189]\n",
      " [4.         4.12310563 4.47213595 5.         5.65685425 6.40312424]\n",
      " [5.         5.09901951 5.38516481 5.83095189 6.40312424 7.07106781]]\n"
     ]
    },
    {
     "data": {
      "text/plain": [
       "(array([[0, 0, 0, 0, 0, 0],\n",
       "        [1, 1, 1, 1, 1, 1],\n",
       "        [2, 2, 2, 2, 2, 2],\n",
       "        [3, 3, 3, 3, 3, 3],\n",
       "        [4, 4, 4, 4, 4, 4],\n",
       "        [5, 5, 5, 5, 5, 5]]), array([[0, 1, 2, 3, 4, 5],\n",
       "        [0, 1, 2, 3, 4, 5],\n",
       "        [0, 1, 2, 3, 4, 5],\n",
       "        [0, 1, 2, 3, 4, 5],\n",
       "        [0, 1, 2, 3, 4, 5],\n",
       "        [0, 1, 2, 3, 4, 5]]))"
      ]
     },
     "execution_count": 53,
     "metadata": {},
     "output_type": "execute_result"
    }
   ],
   "source": [
    "# 不想要 broadcasting 的話，使用 np.mgrid 可達到相同目的\n",
    "x, y = np.mgrid[0:6, 0:6]\n",
    "print(np.sqrt(x ** 2 + y ** 2))\n",
    "x, y"
   ]
  },
  {
   "cell_type": "markdown",
   "metadata": {},
   "source": [
    "### § 有無向量運算優化的差異\n",
    "\n",
    "對 `list` 裡的所有數值操作相同運算，免不了要使用迴圈。 使用 `numpy.ndarray` 運算，不僅程式碼的算式精簡、可讀性較高，還可以運用處理器的向量運算引擎，獲得更快的運算能力。"
   ]
  },
  {
   "cell_type": "code",
   "execution_count": 54,
   "metadata": {},
   "outputs": [
    {
     "name": "stdout",
     "output_type": "stream",
     "text": [
      "509 µs ± 5.46 µs per loop (mean ± std. dev. of 7 runs, 1000 loops each)\n"
     ]
    }
   ],
   "source": [
    "# 使用迴圈計算 10000 個整數加法\n",
    "L = list(range(10000))\n",
    "%timeit [x+1 for x in L]"
   ]
  },
  {
   "cell_type": "code",
   "execution_count": 55,
   "metadata": {},
   "outputs": [
    {
     "name": "stdout",
     "output_type": "stream",
     "text": [
      "6.17 µs ± 125 ns per loop (mean ± std. dev. of 7 runs, 100000 loops each)\n"
     ]
    }
   ],
   "source": [
    "# 使用 numpy 陣列的向量運算 10000 個整數加法\n",
    "A = np.arange(10000, dtype=int)\n",
    "%timeit A + 1"
   ]
  },
  {
   "cell_type": "code",
   "execution_count": 56,
   "metadata": {},
   "outputs": [
    {
     "name": "stdout",
     "output_type": "stream",
     "text": [
      "1.46 ms ± 15.7 µs per loop (mean ± std. dev. of 7 runs, 1000 loops each)\n"
     ]
    }
   ],
   "source": [
    "# 使用迴圈計算 10000 個浮點數指數運算\n",
    "import random\n",
    "L = [random.random() for x in range(10000)]\n",
    "%timeit [x**2.0 for x in L]"
   ]
  },
  {
   "cell_type": "code",
   "execution_count": 57,
   "metadata": {},
   "outputs": [
    {
     "name": "stdout",
     "output_type": "stream",
     "text": [
      "4.58 µs ± 16.6 ns per loop (mean ± std. dev. of 7 runs, 100000 loops each)\n"
     ]
    }
   ],
   "source": [
    "# 使用 numpy 陣列的向量運算 10000 個浮點數指數運算\n",
    "A = np.random.rand(10000)\n",
    "%timeit A ** 2.0"
   ]
  },
  {
   "cell_type": "markdown",
   "metadata": {},
   "source": [
    "### § 數學、統計、線性代數\n",
    "\n",
    "Numpy 提供了可利用陣列處理向量運算的 [數學函式](https://docs.scipy.org/doc/numpy/reference/routines.math.html)，包含了多種和積及差分、三角函數、雙曲線函數、指數與對數、複數等函數。 也有常用的基本 [統計函式](https://docs.scipy.org/doc/numpy/reference/routines.statistics.html) 如平均、變異、標準差、中位數、相關係數、共變異數等。 [線性代數](https://docs.scipy.org/doc/numpy/reference/routines.linalg.html) 的矩陣運算在 `numpy.linalg` 模組中，提供了包含矩陣及向量乘積、矩陣分解、特徵值與特徵向量、矩陣線性方程式求解等函式。 還有更多進階工程及科學運算的函式另外在 [scipy](https://docs.scipy.org/doc/scipy/reference/) 套件中。\n",
    "\n",
    "這些函式比較適合用完整的應用範例來展示。"
   ]
  },
  {
   "cell_type": "code",
   "execution_count": 58,
   "metadata": {},
   "outputs": [
    {
     "name": "stdout",
     "output_type": "stream",
     "text": [
      "y = [-1.   0.2  0.9  2.1]\n",
      "A =\n",
      " [[0. 1.]\n",
      " [1. 1.]\n",
      " [2. 1.]\n",
      " [3. 1.]]\n",
      "\n",
      "solution: m = 0.9999999999999997, c = -0.949999999999999\n"
     ]
    },
    {
     "data": {
      "text/plain": [
       "<matplotlib.legend.Legend at 0x2c40904fb38>"
      ]
     },
     "execution_count": 58,
     "metadata": {},
     "output_type": "execute_result"
    },
    {
     "data": {
      "image/png": "[encoded data removed]",
      "text/plain": [
       "<Figure size 432x288 with 1 Axes>"
      ]
     },
     "metadata": {
      "needs_background": "light"
     },
     "output_type": "display_data"
    }
   ],
   "source": [
    "# least-squares solution to a linear matrix equation\n",
    "# 已知點座標 (x1,y1), (x2,y2), (x3,y3), (x4,y4), ...\n",
    "x = np.array([0, 1, 2, 3])\n",
    "y = np.array([-1, 0.2, 0.9, 2.1])\n",
    "print('y =', y)\n",
    "\n",
    "# 匹配直線方程式 y = mx + c （線性回歸）\n",
    "# 將方程式重新改寫成陣列形式 y = Ap, where A = [x 1], p = [m c]'\n",
    "A = np.vstack([x, np.ones(len(x))]).T\n",
    "print('A =\\n', A)\n",
    "\n",
    "# 最小平方法解線性方程式最佳解\n",
    "m, c = np.linalg.lstsq(A, y, rcond=None)[0]\n",
    "print('\\nsolution: m = {}, c = {}'.format(m, c))\n",
    "\n",
    "fig, ax = plt.subplots()\n",
    "ax.plot(x, y, 'o', label='Original data', markersize=10)\n",
    "ax.plot(x, m*x + c, 'r', label='Fitted line')\n",
    "ax.legend()"
   ]
  },
  {
   "cell_type": "markdown",
   "metadata": {},
   "source": [
    "### 作業練習\n",
    "\n",
    "改寫上面的最小平方法範例，使用 arange() + random 雜訊產生 x, y 的測試資料，再執行求解方程式看看。"
   ]
  }
 ],
 "metadata": {
  "kernelspec": {
   "display_name": "Python 3",
   "language": "python",
   "name": "python3"
  },
  "language_info": {
   "codemirror_mode": {
    "name": "ipython",
    "version": 3
   },
   "file_extension": ".py",
   "mimetype": "text/x-python",
   "name": "python",
   "nbconvert_exporter": "python",
   "pygments_lexer": "ipython3",
   "version": "3.8.5"
  }
 },
 "nbformat": 4,
 "nbformat_minor": 2
}
