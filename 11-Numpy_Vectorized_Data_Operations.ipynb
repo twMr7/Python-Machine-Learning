{
 "cells": [
  {
   "cell_type": "markdown",
   "metadata": {},
   "source": [
    "[![Open In Colab](https://colab.research.google.com/assets/colab-badge.svg)](https://colab.research.google.com/github/twMr7/Python-Tutorial/blob/master/11-Numpy_Vectorized_Data_Operations.ipynb)\n",
    "\n",
    "# 11. 使用 Numpy 操作向量資料\n",
    "\n",
    "機器學習的資料處理經常使用大量數據作運算，使用 Python 內建的資料類型，沒有辦法利用硬體在向量運算優化的好處。 [Numpy](http://www.numpy.org/) 是 Python 社群中公認的針對科學運算的標準套件，包含了強大的 **`ndarray`** 多維陣列類型，支援硬體優化的向量運算、簡單直覺的向量式操作、線性代數及傅立葉轉換等工具函式。([官方文件](https://docs.scipy.org/doc/numpy/index.html))\n",
    "+ [**11.1 ndarray 的基本認識**](#basic-ndarray)"
   ]
  },
  {
   "cell_type": "markdown",
   "metadata": {},
   "source": [
    "<a id=\"basic-ndarray\"></a>\n",
    "\n",
    "## 11.1 `ndarray` 的基本認識\n",
    "\n",
    "Numpy 的 `ndarray` 是可以存放**同類型**資料的多維度陣列，在大多數的應用中，陣列元素的資料類型通常是數值。"
   ]
  },
  {
   "cell_type": "code",
   "execution_count": null,
   "metadata": {},
   "outputs": [],
   "source": [
    "# 載入 numpy 的慣例方式\n",
    "import numpy as np"
   ]
  },
  {
   "cell_type": "markdown",
   "metadata": {},
   "source": [
    "### § 建立向量、矩陣、與陣列\n",
    "\n",
    "`ndarray` 類型的物件可以透過 [`array()`](https://docs.scipy.org/doc/numpy/reference/generated/numpy.array.html)、[`zeros()`](https://docs.scipy.org/doc/numpy/reference/generated/numpy.zeros.html)、[`ones()`](https://docs.scipy.org/doc/numpy/reference/generated/numpy.ones.html)、或 [`identity()`](https://docs.scipy.org/doc/numpy/reference/generated/numpy.identity.html) 函式建立。 描述 `ndarray` 的基本的屬性有：\n",
    "+ `ndarray.ndim` - 維度\n",
    "+ `ndarray.shape` - 每個維度大小\n",
    "+ `ndarray.size` - 元素總數量\n",
    "+ `ndarray.dtype` - 元素資料形態，數值通常使用 numpy 提供的 `np.float64`、`np.int32`、`np.int16`、 ...等。\n"
   ]
  },
  {
   "cell_type": "code",
   "execution_count": null,
   "metadata": {},
   "outputs": [],
   "source": [
    "# a one-dimension vector\n",
    "v = np.array([0, 1, 2, 3])\n",
    "\n",
    "print('v: ndim={}, shape={}, size={}, dtype={}'.format(v.ndim, v.shape, v.size, v.dtype))\n",
    "\n",
    "# a 1 x 4 row vector/matrix\n",
    "rowv = np.array([[0, 1, 2, 3]])\n",
    "\n",
    "print('rowv: ndim={}, shape={}, size={}, dtype={}'.format(rowv.ndim, rowv.shape, rowv.size, rowv.dtype))\n",
    "\n",
    "# a 4 x 1 column vector/matrix\n",
    "colv = np.array([[0],\n",
    "                 [1],\n",
    "                 [2],\n",
    "                 [3]])\n",
    "\n",
    "print('colv: ndim={}, shape={}, size={}, dtype={}'.format(colv.ndim, colv.shape, colv.size, colv.dtype))\n",
    "\n",
    "# a 3 x 4 matrix\n",
    "Amat = np.array([[0, 1,  2,  3],\n",
    "                 [4, 5,  6,  7],\n",
    "                 [8, 9, 10, 11]], dtype=np.float64)\n",
    "\n",
    "print('Amat: ndim={}, shape={}, size={}, dtype={}'.format(Amat.ndim, Amat.shape, Amat.size, Amat.dtype))\n",
    "\n",
    "# a 2 x 3 x 4 array\n",
    "A3d = np.array([[[ 0,  1,  2,  3],\n",
    "                 [ 4,  5,  6,  7],\n",
    "                 [ 8,  9, 10, 11]],\n",
    "\n",
    "                [[12, 13, 14, 15],\n",
    "                 [16, 17, 18, 19],\n",
    "                 [20, 21, 22, 23]]])\n",
    "\n",
    "print('A3d: ndim={}, shape={}, size={}, dtype={}'.format(A3d.ndim, A3d.shape, A3d.size, A3d.dtype))"
   ]
  },
  {
   "cell_type": "code",
   "execution_count": null,
   "metadata": {},
   "outputs": [],
   "source": [
    "# 元素都為 0 的 3 x 3 matrix\n",
    "print(np.zeros((3, 3)), '\\n')\n",
    "\n",
    "# 元素都為 1 的 4 x 4 matrix\n",
    "print(np.ones((4, 4)), '\\n')\n",
    "\n",
    "# 5 x 5 identity matrix\n",
    "print(np.identity(5), '\\n')"
   ]
  },
  {
   "cell_type": "markdown",
   "metadata": {},
   "source": [
    "其他常用函式，可用來建立具備某種規律排列數列的 ndarray：\n",
    "+ [`np.arange`](https://docs.scipy.org/doc/numpy/reference/generated/numpy.arange.html) - 產生一維的固定間距的整數數列陣列。 類似 Python 內建函式 `range()` 的 numpy 陣列版。\n",
    "+ [`np.linspace`](https://docs.scipy.org/doc/numpy/reference/generated/numpy.linspace.html) - 在指定區間內產生線性（固定）間隔的指定數量的數列。\n",
    "+ [`np.logspace`](https://docs.scipy.org/doc/numpy/reference/generated/numpy.logspace.html) - 在指定區間內產生對數間隔的指定數量的數列。\n",
    "+ [`np.random.rand`](https://docs.scipy.org/doc/numpy/reference/generated/numpy.random.rand.html) - 產生指定大小的均勻分佈隨機亂數。\n",
    "+ [`np.random.randn`](https://docs.scipy.org/doc/numpy/reference/generated/numpy.random.randn.html) - 產生指定大小的高斯分佈隨機亂數。\n"
   ]
  },
  {
   "cell_type": "code",
   "execution_count": null,
   "metadata": {},
   "outputs": [],
   "source": [
    "# [0, 10) 整數數列\n",
    "print(np.arange(10), '\\n')\n",
    "\n",
    "# 指定範圍及間距，arange([start, ]stop, [step, ])，注意參數 [start, stop) 為半開放區間\n",
    "print(np.arange(1, 10, 2), '\\n')\n",
    "\n",
    "# 時常用來產生數列後就轉成需要的維度形狀\n",
    "np.arange(1, 25).reshape((2, 3, 4))"
   ]
  },
  {
   "cell_type": "code",
   "execution_count": null,
   "metadata": {},
   "outputs": [],
   "source": [
    "# 指定範圍及間距，linspace(start, stop, num=50)，注意參數 [start, stop] 為封閉區間 \n",
    "print(np.linspace(0, 2, 9))\n",
    "\n",
    "# 適合用來代入函數求得一系列的函數值\n",
    "from numpy import pi\n",
    "x = np.linspace(0, 2*pi, 100)\n",
    "np.sin(x)"
   ]
  },
  {
   "cell_type": "markdown",
   "metadata": {},
   "source": [
    "### § 有無向量運算優化的差異\n"
   ]
  },
  {
   "cell_type": "code",
   "execution_count": 21,
   "metadata": {},
   "outputs": [
    {
     "name": "stdout",
     "output_type": "stream",
     "text": [
      "224 µs ± 1.58 µs per loop (mean ± std. dev. of 7 runs, 1000 loops each)\n"
     ]
    }
   ],
   "source": [
    "# 使用迴圈\n",
    "%timeit [i**2 for i in range(1000)]"
   ]
  },
  {
   "cell_type": "code",
   "execution_count": 22,
   "metadata": {},
   "outputs": [
    {
     "name": "stdout",
     "output_type": "stream",
     "text": [
      "2.1 µs ± 21.5 ns per loop (mean ± std. dev. of 7 runs, 100000 loops each)\n"
     ]
    }
   ],
   "source": [
    "# \n",
    "%timeit np.arange(1000)**2"
   ]
  }
 ],
 "metadata": {
  "kernelspec": {
   "display_name": "Python 3",
   "language": "python",
   "name": "python3"
  },
  "language_info": {
   "codemirror_mode": {
    "name": "ipython",
    "version": 3
   },
   "file_extension": ".py",
   "mimetype": "text/x-python",
   "name": "python",
   "nbconvert_exporter": "python",
   "pygments_lexer": "ipython3",
   "version": "3.6.8"
  }
 },
 "nbformat": 4,
 "nbformat_minor": 2
}
